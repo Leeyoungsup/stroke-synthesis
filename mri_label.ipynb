{
 "cells": [
  {
   "cell_type": "code",
   "execution_count": 10,
   "metadata": {},
   "outputs": [],
   "source": [
    "import os\n",
    "import pandas as pd\n",
    "import numpy as np\n",
    "from PIL import Image\n",
    "from glob import glob\n",
    "from tqdm import tqdm\n",
    "import shutil\n",
    "import nibabel as nib\n",
    "from subprocess import run\n",
    "\n",
    "def create_dir(path):\n",
    "    if not os.path.exists(path):\n",
    "        os.makedirs(path)"
   ]
  },
  {
   "cell_type": "code",
   "execution_count": 38,
   "metadata": {},
   "outputs": [
    {
     "name": "stderr",
     "output_type": "stream",
     "text": [
      "100%|██████████| 1325/1325 [01:28<00:00, 15.00it/s]\n",
      "100%|██████████| 1325/1325 [01:28<00:00, 14.93it/s]\n"
     ]
    }
   ],
   "source": [
    "df=pd.DataFrame(columns=['class','data','label1','label2'])\n",
    "count=0\n",
    "class_list=['ADC','DWI']\n",
    "for i in range(len(class_list)):\n",
    "    data_list=glob(f'../../data/stroke_MRI_preprocessed/label/{class_list[i]}/**/')\n",
    "    for j in tqdm(range(len(data_list))):\n",
    "        label1=0\n",
    "        label2=0\n",
    "        file_list=glob(f'{data_list[j]}/*.png')\n",
    "        file_list.sort()\n",
    "        for k in range(len(file_list)):\n",
    "            image=Image.open(file_list[k])\n",
    "            image=np.array(image)\n",
    "            if np.where(image==255)[0].shape[0]>0:\n",
    "                if label1==0:\n",
    "                    label1=k+1\n",
    "                    label2=k+1\n",
    "                else:\n",
    "                    label2=k+1\n",
    "        df.loc[count]=[class_list[i],os.path.basename(os.path.splitext(data_list[j])[0][:-1]),label1,label2]\n",
    "        count+=1\n",
    "df.to_csv('../../data/stroke_MRI_preprocessed/label.csv',index=False)"
   ]
  },
  {
   "cell_type": "code",
   "execution_count": null,
   "metadata": {},
   "outputs": [
    {
     "name": "stderr",
     "output_type": "stream",
     "text": [
      "100%|██████████| 2648/2648 [00:14<00:00, 186.31it/s]\n"
     ]
    }
   ],
   "source": [
    "df=pd.read_csv('../../data/stroke_MRI_preprocessed/label.csv')\n",
    "flie_path='../../data/stroke_MRI_preprocessed/image/'\n",
    "save_path='../../data/2D_MRI/'\n",
    "for i in tqdm(range(len(df))):\n",
    "    file_info=df.loc[i]\n",
    "    class_path=file_info['class']\n",
    "    data_path=file_info['data']\n",
    "    label1=file_info['label1']\n",
    "    label2=file_info['label2']\n",
    "    label=int((label1+label2)/2)\n",
    "    if label>20:\n",
    "        create_dir(f'{save_path}{class_path}')\n",
    "        shutil.copy(f'{flie_path}{class_path}/{data_path}/{str(label).zfill(3)}.png',f'{save_path}{class_path}/{data_path}.png')"
   ]
  },
  {
   "cell_type": "code",
   "execution_count": 28,
   "metadata": {},
   "outputs": [
    {
     "name": "stdout",
     "output_type": "stream",
     "text": [
      "\n",
      "########################\n",
      "If you are using hd-bet, please cite the following papers:\n",
      "\n",
      "Isensee F, Schell M, Tursunova I, Brugnara G, Bonekamp D, Neuberger U, Wick A, Schlemmer HP, Heiland S, Wick W, Bendszus M, Maier-Hein KH, Kickingereder P. Automated brain extraction of multi-sequence MRI using artificial neural networks. arXiv preprint arXiv:1901.11341, 2019.\n",
      "\n",
      "Isensee, F., Jaeger, P. F., Kohl, S. A., Petersen, J., & Maier-Hein, K. H. (2021). nnU-Net: a self-configuring method for deep learning-based biomedical image segmentation. Nature methods, 18(2), 203-211.\n",
      "########################\n",
      "\n",
      "There are 1 cases in the source folder\n",
      "I am process 0 out of 1 (max process ID is 0, we start counting with 0!)\n",
      "There are 1 cases that I would like to predict\n"
     ]
    },
    {
     "name": "stderr",
     "output_type": "stream",
     "text": [
      "Traceback (most recent call last):\n",
      "  File \"/home/ubuntu/anaconda3/envs/LeeYS/bin/hd-bet\", line 8, in <module>\n",
      "    sys.exit(main())\n",
      "  File \"/home/ubuntu/anaconda3/envs/LeeYS/lib/python3.10/site-packages/HD_BET/entry_point.py\", line 53, in main\n",
      "    hdbet_predict(args.input,args.output, predictor, keep_brain_mask=args.save_bet_mask,\n",
      "  File \"/home/ubuntu/anaconda3/envs/LeeYS/lib/python3.10/site-packages/HD_BET/hd_bet_prediction.py\", line 69, in hdbet_predict\n",
      "    predictor.predict_from_files(\n",
      "  File \"/home/ubuntu/anaconda3/envs/LeeYS/lib/python3.10/site-packages/nnunetv2/inference/predict_from_raw_data.py\", line 270, in predict_from_files\n",
      "    return self.predict_from_data_iterator(data_iterator, save_probabilities, num_processes_segmentation_export)\n",
      "  File \"/home/ubuntu/anaconda3/envs/LeeYS/lib/python3.10/site-packages/nnunetv2/inference/predict_from_raw_data.py\", line 363, in predict_from_data_iterator\n",
      "    for preprocessed in data_iterator:\n",
      "  File \"/home/ubuntu/anaconda3/envs/LeeYS/lib/python3.10/site-packages/nnunetv2/inference/data_iterators.py\", line 114, in preprocessing_iterator_fromfiles\n",
      "    sleep(0.01)\n",
      "KeyboardInterrupt\n"
     ]
    },
    {
     "ename": "KeyboardInterrupt",
     "evalue": "",
     "output_type": "error",
     "traceback": [
      "\u001b[0;31m---------------------------------------------------------------------------\u001b[0m",
      "\u001b[0;31mKeyboardInterrupt\u001b[0m                         Traceback (most recent call last)",
      "Input \u001b[0;32mIn [28]\u001b[0m, in \u001b[0;36m<cell line: 13>\u001b[0;34m()\u001b[0m\n\u001b[1;32m     11\u001b[0m nifti_image \u001b[38;5;241m=\u001b[39m nib\u001b[38;5;241m.\u001b[39mNifti1Image(image_stack, affine\u001b[38;5;241m=\u001b[39mnp\u001b[38;5;241m.\u001b[39meye(\u001b[38;5;241m4\u001b[39m))\n\u001b[1;32m     12\u001b[0m nib\u001b[38;5;241m.\u001b[39msave(nifti_image, output_nifti)\n\u001b[0;32m---> 13\u001b[0m \u001b[43mrun\u001b[49m\u001b[43m(\u001b[49m\u001b[43m[\u001b[49m\u001b[38;5;124;43m\"\u001b[39;49m\u001b[38;5;124;43mhd-bet\u001b[39;49m\u001b[38;5;124;43m\"\u001b[39;49m\u001b[43m,\u001b[49m\u001b[43m \u001b[49m\u001b[38;5;124;43m\"\u001b[39;49m\u001b[38;5;124;43m-i\u001b[39;49m\u001b[38;5;124;43m\"\u001b[39;49m\u001b[43m,\u001b[49m\u001b[43m \u001b[49m\u001b[43moutput_nifti\u001b[49m\u001b[43m,\u001b[49m\u001b[43m \u001b[49m\u001b[38;5;124;43m\"\u001b[39;49m\u001b[38;5;124;43m-o\u001b[39;49m\u001b[38;5;124;43m\"\u001b[39;49m\u001b[43m,\u001b[49m\u001b[43m \u001b[49m\u001b[43moutput_brain_mask\u001b[49m\u001b[43m,\u001b[49m\u001b[43m \u001b[49m\u001b[38;5;124;43m\"\u001b[39;49m\u001b[38;5;124;43m-device\u001b[39;49m\u001b[38;5;124;43m\"\u001b[39;49m\u001b[43m,\u001b[49m\u001b[43m \u001b[49m\u001b[38;5;124;43m\"\u001b[39;49m\u001b[38;5;124;43mcuda\u001b[39;49m\u001b[38;5;124;43m\"\u001b[39;49m\u001b[43m]\u001b[49m\u001b[43m)\u001b[49m\n\u001b[1;32m     14\u001b[0m \u001b[38;5;66;03m# 5️⃣ 마스크 파일 로드 후 뇌가 있는 슬라이스 찾기\u001b[39;00m\n\u001b[1;32m     15\u001b[0m brain_mask_nii \u001b[38;5;241m=\u001b[39m nib\u001b[38;5;241m.\u001b[39mload(output_brain_mask)\n",
      "File \u001b[0;32m~/anaconda3/envs/LeeYS/lib/python3.10/subprocess.py:505\u001b[0m, in \u001b[0;36mrun\u001b[0;34m(input, capture_output, timeout, check, *popenargs, **kwargs)\u001b[0m\n\u001b[1;32m    503\u001b[0m \u001b[38;5;28;01mwith\u001b[39;00m Popen(\u001b[38;5;241m*\u001b[39mpopenargs, \u001b[38;5;241m*\u001b[39m\u001b[38;5;241m*\u001b[39mkwargs) \u001b[38;5;28;01mas\u001b[39;00m process:\n\u001b[1;32m    504\u001b[0m     \u001b[38;5;28;01mtry\u001b[39;00m:\n\u001b[0;32m--> 505\u001b[0m         stdout, stderr \u001b[38;5;241m=\u001b[39m \u001b[43mprocess\u001b[49m\u001b[38;5;241;43m.\u001b[39;49m\u001b[43mcommunicate\u001b[49m\u001b[43m(\u001b[49m\u001b[38;5;28;43minput\u001b[39;49m\u001b[43m,\u001b[49m\u001b[43m \u001b[49m\u001b[43mtimeout\u001b[49m\u001b[38;5;241;43m=\u001b[39;49m\u001b[43mtimeout\u001b[49m\u001b[43m)\u001b[49m\n\u001b[1;32m    506\u001b[0m     \u001b[38;5;28;01mexcept\u001b[39;00m TimeoutExpired \u001b[38;5;28;01mas\u001b[39;00m exc:\n\u001b[1;32m    507\u001b[0m         process\u001b[38;5;241m.\u001b[39mkill()\n",
      "File \u001b[0;32m~/anaconda3/envs/LeeYS/lib/python3.10/subprocess.py:1146\u001b[0m, in \u001b[0;36mPopen.communicate\u001b[0;34m(self, input, timeout)\u001b[0m\n\u001b[1;32m   1144\u001b[0m         stderr \u001b[38;5;241m=\u001b[39m \u001b[38;5;28mself\u001b[39m\u001b[38;5;241m.\u001b[39mstderr\u001b[38;5;241m.\u001b[39mread()\n\u001b[1;32m   1145\u001b[0m         \u001b[38;5;28mself\u001b[39m\u001b[38;5;241m.\u001b[39mstderr\u001b[38;5;241m.\u001b[39mclose()\n\u001b[0;32m-> 1146\u001b[0m     \u001b[38;5;28;43mself\u001b[39;49m\u001b[38;5;241;43m.\u001b[39;49m\u001b[43mwait\u001b[49m\u001b[43m(\u001b[49m\u001b[43m)\u001b[49m\n\u001b[1;32m   1147\u001b[0m \u001b[38;5;28;01melse\u001b[39;00m:\n\u001b[1;32m   1148\u001b[0m     \u001b[38;5;28;01mif\u001b[39;00m timeout \u001b[38;5;129;01mis\u001b[39;00m \u001b[38;5;129;01mnot\u001b[39;00m \u001b[38;5;28;01mNone\u001b[39;00m:\n",
      "File \u001b[0;32m~/anaconda3/envs/LeeYS/lib/python3.10/subprocess.py:1209\u001b[0m, in \u001b[0;36mPopen.wait\u001b[0;34m(self, timeout)\u001b[0m\n\u001b[1;32m   1207\u001b[0m     endtime \u001b[38;5;241m=\u001b[39m _time() \u001b[38;5;241m+\u001b[39m timeout\n\u001b[1;32m   1208\u001b[0m \u001b[38;5;28;01mtry\u001b[39;00m:\n\u001b[0;32m-> 1209\u001b[0m     \u001b[38;5;28;01mreturn\u001b[39;00m \u001b[38;5;28;43mself\u001b[39;49m\u001b[38;5;241;43m.\u001b[39;49m\u001b[43m_wait\u001b[49m\u001b[43m(\u001b[49m\u001b[43mtimeout\u001b[49m\u001b[38;5;241;43m=\u001b[39;49m\u001b[43mtimeout\u001b[49m\u001b[43m)\u001b[49m\n\u001b[1;32m   1210\u001b[0m \u001b[38;5;28;01mexcept\u001b[39;00m \u001b[38;5;167;01mKeyboardInterrupt\u001b[39;00m:\n\u001b[1;32m   1211\u001b[0m     \u001b[38;5;66;03m# https://bugs.python.org/issue25942\u001b[39;00m\n\u001b[1;32m   1212\u001b[0m     \u001b[38;5;66;03m# The first keyboard interrupt waits briefly for the child to\u001b[39;00m\n\u001b[1;32m   1213\u001b[0m     \u001b[38;5;66;03m# exit under the common assumption that it also received the ^C\u001b[39;00m\n\u001b[1;32m   1214\u001b[0m     \u001b[38;5;66;03m# generated SIGINT and will exit rapidly.\u001b[39;00m\n\u001b[1;32m   1215\u001b[0m     \u001b[38;5;28;01mif\u001b[39;00m timeout \u001b[38;5;129;01mis\u001b[39;00m \u001b[38;5;129;01mnot\u001b[39;00m \u001b[38;5;28;01mNone\u001b[39;00m:\n",
      "File \u001b[0;32m~/anaconda3/envs/LeeYS/lib/python3.10/subprocess.py:1959\u001b[0m, in \u001b[0;36mPopen._wait\u001b[0;34m(self, timeout)\u001b[0m\n\u001b[1;32m   1957\u001b[0m \u001b[38;5;28;01mif\u001b[39;00m \u001b[38;5;28mself\u001b[39m\u001b[38;5;241m.\u001b[39mreturncode \u001b[38;5;129;01mis\u001b[39;00m \u001b[38;5;129;01mnot\u001b[39;00m \u001b[38;5;28;01mNone\u001b[39;00m:\n\u001b[1;32m   1958\u001b[0m     \u001b[38;5;28;01mbreak\u001b[39;00m  \u001b[38;5;66;03m# Another thread waited.\u001b[39;00m\n\u001b[0;32m-> 1959\u001b[0m (pid, sts) \u001b[38;5;241m=\u001b[39m \u001b[38;5;28;43mself\u001b[39;49m\u001b[38;5;241;43m.\u001b[39;49m\u001b[43m_try_wait\u001b[49m\u001b[43m(\u001b[49m\u001b[38;5;241;43m0\u001b[39;49m\u001b[43m)\u001b[49m\n\u001b[1;32m   1960\u001b[0m \u001b[38;5;66;03m# Check the pid and loop as waitpid has been known to\u001b[39;00m\n\u001b[1;32m   1961\u001b[0m \u001b[38;5;66;03m# return 0 even without WNOHANG in odd situations.\u001b[39;00m\n\u001b[1;32m   1962\u001b[0m \u001b[38;5;66;03m# http://bugs.python.org/issue14396.\u001b[39;00m\n\u001b[1;32m   1963\u001b[0m \u001b[38;5;28;01mif\u001b[39;00m pid \u001b[38;5;241m==\u001b[39m \u001b[38;5;28mself\u001b[39m\u001b[38;5;241m.\u001b[39mpid:\n",
      "File \u001b[0;32m~/anaconda3/envs/LeeYS/lib/python3.10/subprocess.py:1917\u001b[0m, in \u001b[0;36mPopen._try_wait\u001b[0;34m(self, wait_flags)\u001b[0m\n\u001b[1;32m   1915\u001b[0m \u001b[38;5;250m\u001b[39m\u001b[38;5;124;03m\"\"\"All callers to this function MUST hold self._waitpid_lock.\"\"\"\u001b[39;00m\n\u001b[1;32m   1916\u001b[0m \u001b[38;5;28;01mtry\u001b[39;00m:\n\u001b[0;32m-> 1917\u001b[0m     (pid, sts) \u001b[38;5;241m=\u001b[39m \u001b[43mos\u001b[49m\u001b[38;5;241;43m.\u001b[39;49m\u001b[43mwaitpid\u001b[49m\u001b[43m(\u001b[49m\u001b[38;5;28;43mself\u001b[39;49m\u001b[38;5;241;43m.\u001b[39;49m\u001b[43mpid\u001b[49m\u001b[43m,\u001b[49m\u001b[43m \u001b[49m\u001b[43mwait_flags\u001b[49m\u001b[43m)\u001b[49m\n\u001b[1;32m   1918\u001b[0m \u001b[38;5;28;01mexcept\u001b[39;00m \u001b[38;5;167;01mChildProcessError\u001b[39;00m:\n\u001b[1;32m   1919\u001b[0m     \u001b[38;5;66;03m# This happens if SIGCLD is set to be ignored or waiting\u001b[39;00m\n\u001b[1;32m   1920\u001b[0m     \u001b[38;5;66;03m# for child processes has otherwise been disabled for our\u001b[39;00m\n\u001b[1;32m   1921\u001b[0m     \u001b[38;5;66;03m# process.  This child is dead, we can't get the status.\u001b[39;00m\n\u001b[1;32m   1922\u001b[0m     pid \u001b[38;5;241m=\u001b[39m \u001b[38;5;28mself\u001b[39m\u001b[38;5;241m.\u001b[39mpid\n",
      "\u001b[0;31mKeyboardInterrupt\u001b[0m: "
     ]
    }
   ],
   "source": [
    "input_folder = \"../../data/stroke_MRI_preprocessed/image/ADC/ANO1_0078/\"\n",
    "output_nifti = \"../../data/temp/input_mri.nii.gz\"\n",
    "output_brain_mask = \"../../data/temp/brain_mask.nii.gz\"\n",
    "image_files = sorted([f for f in os.listdir(input_folder) if f.endswith(\".png\")])\n",
    "image_list = []\n",
    "for filename in image_files:\n",
    "    img_path = os.path.join(input_folder, filename)\n",
    "    img = cv2.imread(img_path, cv2.IMREAD_GRAYSCALE)  # 흑백 이미지로 로드\n",
    "    image_list.append(img)\n",
    "image_stack = np.stack(image_list, axis=0)\n",
    "nifti_image = nib.Nifti1Image(image_stack, affine=np.eye(4))\n",
    "nib.save(nifti_image, output_nifti)\n",
    "run([\"hd-bet\", \"-i\", output_nifti, \"-o\", output_brain_mask, \"-device\", \"cuda\"])\n",
    "# 5️⃣ 마스크 파일 로드 후 뇌가 있는 슬라이스 찾기\n",
    "brain_mask_nii = nib.load(output_brain_mask)\n",
    "brain_mask_data = brain_mask_nii.get_fdata()  # Shape: (Z, H, W) -> (슬라이스 개수, 높이, 너비)\n",
    "\n",
    "# 6️⃣ 뇌가 포함된 슬라이스 찾기\n",
    "brain_slices = np.where(np.any(brain_mask_data > 0, axis=(1, 2)))[0]\n",
    "\n",
    "if len(brain_slices) > 0:\n",
    "    first_slice = brain_slices[0]  # 뇌가 처음 등장하는 슬라이스 번호\n",
    "    last_slice = brain_slices[-1]  # 뇌가 마지막 등장하는 슬라이스 번호\n",
    "    print(f\"✅ 뇌가 포함된 슬라이스: {first_slice}번 ~ {last_slice}번\")\n",
    "else:\n",
    "    print(\"⚠️ 뇌가 포함된 슬라이스가 없습니다!\")"
   ]
  },
  {
   "cell_type": "code",
   "execution_count": 17,
   "metadata": {},
   "outputs": [
    {
     "data": {
      "text/plain": [
       "(80, 256, 256)"
      ]
     },
     "execution_count": 17,
     "metadata": {},
     "output_type": "execute_result"
    }
   ],
   "source": [
    "image_stack.shape"
   ]
  }
 ],
 "metadata": {
  "kernelspec": {
   "display_name": "LeeYS",
   "language": "python",
   "name": "python3"
  },
  "language_info": {
   "codemirror_mode": {
    "name": "ipython",
    "version": 3
   },
   "file_extension": ".py",
   "mimetype": "text/x-python",
   "name": "python",
   "nbconvert_exporter": "python",
   "pygments_lexer": "ipython3",
   "version": "3.10.14"
  }
 },
 "nbformat": 4,
 "nbformat_minor": 2
}
