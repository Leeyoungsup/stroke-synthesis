{
 "cells": [
  {
   "cell_type": "code",
   "execution_count": null,
   "metadata": {},
   "outputs": [],
   "source": [
    "import os\n",
    "import pandas as pd\n",
    "import numpy as np\n",
    "from PIL import Image\n",
    "from glob import glob\n",
    "from tqdm import tqdm\n",
    "import shutil\n",
    "import nibabel as nib\n",
    "from subprocess import run\n",
    "import random\n",
    "def create_dir(path):\n",
    "    if not os.path.exists(path):\n",
    "        os.makedirs(path)"
   ]
  },
  {
   "cell_type": "code",
   "execution_count": null,
   "metadata": {},
   "outputs": [],
   "source": [
    "df=pd.DataFrame(columns=['class','data','label1','label2'])\n",
    "count=0\n",
    "class_list=['ADC','DWI']\n",
    "for i in range(len(class_list)):\n",
    "    data_list=glob(f'../../data/stroke_mri/label/{class_list[i]}/**/')\n",
    "    for j in tqdm(range(len(data_list))):\n",
    "        label1=0\n",
    "        label2=0\n",
    "        file_list=glob(f'{data_list[j]}/*.png')\n",
    "        file_list.sort()\n",
    "        for k in range(len(file_list)):\n",
    "            image=Image.open(file_list[k])\n",
    "            image=np.array(image)\n",
    "            if np.where(image==255)[0].shape[0]>0:\n",
    "                if label1==0:\n",
    "                    label1=k+1\n",
    "                    label2=k+1\n",
    "                else:\n",
    "                    label2=k+1\n",
    "        df.loc[count]=[class_list[i],os.path.basename(os.path.splitext(data_list[j])[0][:-1]),label1,label2]\n",
    "        count+=1\n",
    "df.to_csv('../../data/stroke_MRI_preprocessed/label.csv',index=False)"
   ]
  },
  {
   "cell_type": "code",
   "execution_count": null,
   "metadata": {},
   "outputs": [],
   "source": [
    "df=pd.read_csv('../../data/stroke_MRI_preprocessed/label.csv')\n",
    "flie_path='../../data/stroke_MRI_preprocessed/'\n",
    "save_path='../../data/2D_MRI/'\n",
    "\n",
    "class_list=['ADC','DWI']\n",
    "for i in range(len(class_list)):\n",
    "    data_list=glob(f'../../data/stroke_MRI_preprocessed/{class_list[i]}/Normal/**')\n",
    "    for j in tqdm(range(len(data_list))):\n",
    "        file_list=glob(f'{data_list[j]}/*.png')\n",
    "        file_list.sort()\n",
    "        k=random.randint(10,len(file_list)-10)\n",
    "        image_path=file_list[k]\n",
    "        create_dir(f'{save_path}{class_list[i]}/Normal/')\n",
    "        shutil.copy(image_path,f'{save_path}{class_list[i]}/Normal/{os.path.basename(os.path.splitext(data_list[j])[0][:-1])}.png')\n",
    "    \n",
    "for i in tqdm(range(len(df))):\n",
    "    try:\n",
    "        file_info=df.loc[i]\n",
    "        class_path=file_info['class']\n",
    "        data_path=file_info['data']\n",
    "        label1=file_info['label1']\n",
    "        label2=file_info['label2']\n",
    "        label=int((label1+label2)/2)\n",
    "\n",
    "        create_dir(f'{save_path}{class_path}/Ischemic/')\n",
    "        shutil.copy(f'{flie_path}{class_path}/Ischemic/{data_path}/{str(label).zfill(3)}.png',f'{save_path}{class_path}/Ischemic/{data_path}.png')\n",
    "    except:\n",
    "        print(f'Error in {i}')\n",
    "    \n",
    "    "
   ]
  },
  {
   "cell_type": "code",
   "execution_count": null,
   "metadata": {},
   "outputs": [],
   "source": [
    "input_folder = \"../../data/stroke_MRI_preprocessed/image/ADC/ANO1_0078/\"\n",
    "output_nifti = \"../../data/temp/input_mri.nii.gz\"\n",
    "output_brain_mask = \"../../data/temp/brain_mask.nii.gz\"\n",
    "image_files = sorted([f for f in os.listdir(input_folder) if f.endswith(\".png\")])\n",
    "image_list = []\n",
    "for filename in image_files:\n",
    "    img_path = os.path.join(input_folder, filename)\n",
    "    img = cv2.imread(img_path, cv2.IMREAD_GRAYSCALE)  # 흑백 이미지로 로드\n",
    "    image_list.append(img)\n",
    "image_stack = np.stack(image_list, axis=0)\n",
    "nifti_image = nib.Nifti1Image(image_stack, affine=np.eye(4))\n",
    "nib.save(nifti_image, output_nifti)\n",
    "run([\"hd-bet\", \"-i\", output_nifti, \"-o\", output_brain_mask, \"-device\", \"cuda\"])\n",
    "# 5️⃣ 마스크 파일 로드 후 뇌가 있는 슬라이스 찾기\n",
    "brain_mask_nii = nib.load(output_brain_mask)\n",
    "brain_mask_data = brain_mask_nii.get_fdata()  # Shape: (Z, H, W) -> (슬라이스 개수, 높이, 너비)\n",
    "\n",
    "# 6️⃣ 뇌가 포함된 슬라이스 찾기\n",
    "brain_slices = np.where(np.any(brain_mask_data > 0, axis=(1, 2)))[0]\n",
    "\n",
    "if len(brain_slices) > 0:\n",
    "    first_slice = brain_slices[0]  # 뇌가 처음 등장하는 슬라이스 번호\n",
    "    last_slice = brain_slices[-1]  # 뇌가 마지막 등장하는 슬라이스 번호\n",
    "    print(f\"✅ 뇌가 포함된 슬라이스: {first_slice}번 ~ {last_slice}번\")\n",
    "else:\n",
    "    print(\"⚠️ 뇌가 포함된 슬라이스가 없습니다!\")"
   ]
  },
  {
   "cell_type": "code",
   "execution_count": null,
   "metadata": {},
   "outputs": [],
   "source": [
    "image_stack.shape"
   ]
  }
 ],
 "metadata": {
  "kernelspec": {
   "display_name": "LeeYS",
   "language": "python",
   "name": "python3"
  },
  "language_info": {
   "codemirror_mode": {
    "name": "ipython",
    "version": 3
   },
   "file_extension": ".py",
   "mimetype": "text/x-python",
   "name": "python",
   "nbconvert_exporter": "python",
   "pygments_lexer": "ipython3",
   "version": "3.10.14"
  }
 },
 "nbformat": 4,
 "nbformat_minor": 2
}
