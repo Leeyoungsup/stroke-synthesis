{
 "cells": [
  {
   "cell_type": "code",
   "execution_count": null,
   "id": "b41ff1d0",
   "metadata": {},
   "outputs": [],
   "source": [
    "from torchvision.transforms import RandomCrop, Compose, ToPILImage, Resize, ToTensor, Lambda\n",
    "from med_ddpm.diffusion_model.trainer import GaussianDiffusion, Trainer\n",
    "from med_ddpm.diffusion_model.unet import create_model\n",
    "import argparse\n",
    "import torch\n",
    "import os \n",
    "from sklearn.preprocessing import MinMaxScaler\n",
    "from torch.utils.data import Dataset\n",
    "from torchvision.transforms import Compose, ToTensor, Lambda\n",
    "from glob import glob\n",
    "import matplotlib.pyplot as plt\n",
    "import nibabel as nib\n",
    "import torchio as tio\n",
    "import numpy as np\n",
    "import torch\n",
    "from tqdm import tqdm\n",
    "from torch.utils.data import DataLoader\n",
    "import re\n",
    "import os\n",
    "device = torch.device(\"cuda:3\" if torch.cuda.is_available() else \"cpu\")\n",
    "device"
   ]
  },
  {
   "cell_type": "code",
   "execution_count": null,
   "id": "2df6b982",
   "metadata": {},
   "outputs": [],
   "source": [
    "params = {\n",
    "    \"with_condition\": True,\n",
    "    \"inputfolder\": \"../../data/stroke_swi_nii/Normal/masks/\",\n",
    "    \"targetfolder\": \"../../data/stroke_swi_nii/Normal/images/\",\n",
    "    \"batchsize\": 1,\n",
    "    \"epochs\": 10000,\n",
    "    \"input_size\": 128,\n",
    "    \"depth_size\": 64,\n",
    "    \"num_channels\": 64,\n",
    "    \"num_res_blocks\": 1,\n",
    "    \"timesteps\": 250,\n",
    "    \"save_and_sample_every\": 10,\n",
    "    \"model_save_path\": \"../../model/med_ddpm/swi/\",\n",
    "    \"resume_weight\": \"../../model/med_ddpm/swi/model-17.pt\"\n",
    "}"
   ]
  },
  {
   "cell_type": "code",
   "execution_count": null,
   "id": "688833e2",
   "metadata": {},
   "outputs": [],
   "source": [
    "transform = Compose([\n",
    "    Lambda(lambda t: torch.tensor(t).float()),\n",
    "    Lambda(lambda t: (t * 2) - 1),\n",
    "    Lambda(lambda t: t.unsqueeze(0))\n",
    "])\n",
    "class NiftiPairImageGenerator(Dataset):\n",
    "    def __init__(self,\n",
    "            input_image,\n",
    "            target_image,\n",
    "            input_size: int,\n",
    "            depth_size: int,\n",
    "            input_channel: int = 3,\n",
    "            target_transform=None,\n",
    "            full_channel_mask=False,\n",
    "            combine_output=False,\n",
    "            transform=None,\n",
    "        ):\n",
    "\n",
    "        self.input_image = input_image\n",
    "        self.target_image = target_image\n",
    "        self.input_size = input_size\n",
    "        self.depth_size = depth_size\n",
    "        self.input_channel = input_channel\n",
    "        self.scaler = MinMaxScaler()\n",
    "        self.target_transform = target_transform\n",
    "        self.full_channel_mask = full_channel_mask\n",
    "        self.combine_output = combine_output\n",
    "\n",
    "   \n",
    "    def plot(self, index, n_slice=30):\n",
    "        data = self[index]\n",
    "        input_img = data['input']\n",
    "        target_img = data['target']\n",
    "        plt.subplot(1, 2, 1)\n",
    "        plt.imshow(input_img[n_slice,:, :])\n",
    "        plt.subplot(1, 2, 2)\n",
    "        plt.imshow(target_img[n_slice,:, :])\n",
    "        plt.show()\n",
    "\n",
    "    def __len__(self):\n",
    "        return len(self.input_image)\n",
    "\n",
    "    def __getitem__(self, index):\n",
    "        input_img = self.input_image[index].permute(3, 0, 1, 2)\n",
    "        target_img = self.target_image[index].unsqueeze(0)\n",
    "      \n",
    "\n",
    "        if self.combine_output:\n",
    "            return torch.cat([target_img, input_img], 0)\n",
    "\n",
    "        return {'input':input_img, 'target':target_img}\n",
    "\n",
    "def resize_img(img):\n",
    "    d,h, w = img.shape\n",
    "    if h !=  params['input_size'] or w !=  params['input_size'] or d != params['depth_size']:\n",
    "        img = tio.ScalarImage(tensor=img[np.newaxis, ...])\n",
    "        cop = tio.Resize((params['depth_size'], params['input_size'],  params['input_size']))\n",
    "        img = np.asarray(cop(img))[0]\n",
    "    return img \n",
    "def label2masks(masked_img, input_channel=3):\n",
    "    result_img =np.zeros(masked_img.shape + ( input_channel - 1,))\n",
    "    result_img[masked_img==1, 0] = 1\n",
    "    result_img[masked_img==2, 1] = 1\n",
    "    return result_img\n",
    "input_list=glob(params['inputfolder']+\"*.nii.gz\")\n",
    "target_list=[f.replace(params['inputfolder'], params['targetfolder']) for f in input_list]\n",
    "input_images=torch.zeros((len(input_list),params['depth_size'], params['input_size'], params['input_size'],2))\n",
    "target_images=torch.zeros((len(target_list),params['depth_size'], params['input_size'], params['input_size']))\n",
    "for i in tqdm(range(len(input_list))):\n",
    "    input_img = nib.load(input_list[i]).get_fdata()\n",
    "    target_img = (nib.load(target_list[i]).get_fdata()+1.)/2.\n",
    "    input_images[i] =transform(label2masks(resize_img(input_img),3))\n",
    "    target_images[i] = transform(resize_img(target_img))\n",
    "    \n",
    "dataset = NiftiPairImageGenerator(\n",
    "        input_images,\n",
    "        target_images,\n",
    "        input_size=params['input_size'],\n",
    "        depth_size=params['depth_size'],\n",
    "        target_transform=transform,\n",
    "        full_channel_mask=True\n",
    "    )\n",
    "def cycle(dl):\n",
    "    while True:\n",
    "        for data in dl:\n",
    "            yield data\n",
    "dataloader= DataLoader(dataset, batch_size = params['batchsize'], shuffle=True, num_workers=1, pin_memory=True)"
   ]
  },
  {
   "cell_type": "code",
   "execution_count": null,
   "id": "a9142cd4",
   "metadata": {},
   "outputs": [],
   "source": [
    "in_channels=3\n",
    "out_channels=1\n",
    "model = create_model(params[\"input_size\"], params[\"num_channels\"], params[\"num_res_blocks\"], in_channels=in_channels, out_channels=out_channels).to(device)\n",
    "\n",
    "diffusion = GaussianDiffusion(\n",
    "    model,\n",
    "    image_size = params[\"input_size\"],\n",
    "    depth_size = params[\"depth_size\"],\n",
    "    timesteps = params[\"timesteps\"],   # number of steps\n",
    "    loss_type = 'l1',    # L1 or L2\n",
    "    with_condition=params[\"with_condition\"],\n",
    "    channels=out_channels\n",
    ").to(device)\n",
    "diffusion.load_state_dict(torch.load('../../model/med_ddpm/swi/model-70.pt', map_location=device))"
   ]
  },
  {
   "cell_type": "code",
   "execution_count": null,
   "id": "ced44c01",
   "metadata": {},
   "outputs": [],
   "source": [
    "def save_sample(diffusion, epoch, save_path, sample_shape, device, condition_tensors=None):\n",
    "    diffusion.eval()\n",
    "\n",
    "    # 샘플 생성\n",
    "    samples = diffusion.sample(batch_size=sample_shape[0], condition_tensors=condition_tensors)\n",
    "    samples = samples.cpu().numpy()  # (B, C, D, H, W)\n",
    "\n",
    "    os.makedirs(save_path, exist_ok=True)\n",
    "\n",
    "    for i in range(samples.shape[0]):\n",
    "        img = samples[i, 0]  # (D, H, W)\n",
    "        nifti_img = nib.Nifti1Image(img, affine=np.eye(4))\n",
    "        nib.save(nifti_img, os.path.join(save_path, f'sample_epoch{epoch}.nii.gz'))\n",
    "\n",
    "\n"
   ]
  },
  {
   "cell_type": "code",
   "execution_count": null,
   "id": "4e06f15b",
   "metadata": {},
   "outputs": [
    {
     "name": "stderr",
     "output_type": "stream",
     "text": [
      "Epoch 726/10000: 100%|██████████| 316/316 [01:05<00:00,  4.81it/s, loss=0.021] \n",
      "Epoch 727/10000: 100%|██████████| 316/316 [01:05<00:00,  4.80it/s, loss=0.0199]\n",
      "Epoch 728/10000: 100%|██████████| 316/316 [01:05<00:00,  4.80it/s, loss=0.0157]\n",
      "Epoch 729/10000: 100%|██████████| 316/316 [01:05<00:00,  4.85it/s, loss=0.0221]\n",
      "Epoch 730/10000: 100%|██████████| 316/316 [01:05<00:00,  4.80it/s, loss=0.0198]\n"
     ]
    },
    {
     "name": "stdout",
     "output_type": "stream",
     "text": [
      "✅ Model saved at epoch 730\n"
     ]
    },
    {
     "name": "stderr",
     "output_type": "stream",
     "text": [
      "Epoch 731/10000: 100%|██████████| 316/316 [01:05<00:00,  4.81it/s, loss=0.0167]\n",
      "Epoch 732/10000: 100%|██████████| 316/316 [01:05<00:00,  4.82it/s, loss=0.0191]\n",
      "Epoch 733/10000: 100%|██████████| 316/316 [01:05<00:00,  4.80it/s, loss=0.0175]\n",
      "Epoch 734/10000: 100%|██████████| 316/316 [01:05<00:00,  4.80it/s, loss=0.0165]\n",
      "Epoch 735/10000: 100%|██████████| 316/316 [01:05<00:00,  4.82it/s, loss=0.0189]\n",
      "Epoch 736/10000: 100%|██████████| 316/316 [01:05<00:00,  4.81it/s, loss=0.019] \n",
      "Epoch 737/10000: 100%|██████████| 316/316 [01:05<00:00,  4.80it/s, loss=0.0177]\n",
      "Epoch 738/10000: 100%|██████████| 316/316 [01:05<00:00,  4.82it/s, loss=0.0177]\n",
      "Epoch 739/10000: 100%|██████████| 316/316 [01:05<00:00,  4.81it/s, loss=0.0169]\n",
      "Epoch 740/10000: 100%|██████████| 316/316 [01:05<00:00,  4.81it/s, loss=0.0201]\n"
     ]
    },
    {
     "name": "stdout",
     "output_type": "stream",
     "text": [
      "✅ Model saved at epoch 740\n"
     ]
    },
    {
     "name": "stderr",
     "output_type": "stream",
     "text": [
      "Epoch 741/10000: 100%|██████████| 316/316 [01:05<00:00,  4.85it/s, loss=0.0184]\n",
      "Epoch 742/10000: 100%|██████████| 316/316 [01:05<00:00,  4.80it/s, loss=0.0214]\n",
      "Epoch 743/10000: 100%|██████████| 316/316 [01:05<00:00,  4.82it/s, loss=0.0195]\n",
      "Epoch 744/10000: 100%|██████████| 316/316 [01:05<00:00,  4.84it/s, loss=0.0194]\n",
      "Epoch 745/10000: 100%|██████████| 316/316 [01:05<00:00,  4.82it/s, loss=0.0195]\n",
      "Epoch 746/10000: 100%|██████████| 316/316 [01:05<00:00,  4.80it/s, loss=0.0191]\n",
      "Epoch 747/10000: 100%|██████████| 316/316 [01:05<00:00,  4.83it/s, loss=0.0186]\n",
      "Epoch 748/10000: 100%|██████████| 316/316 [01:05<00:00,  4.81it/s, loss=0.0162]\n",
      "Epoch 749/10000: 100%|██████████| 316/316 [01:05<00:00,  4.82it/s, loss=0.024] \n",
      "Epoch 750/10000: 100%|██████████| 316/316 [01:05<00:00,  4.84it/s, loss=0.0187]\n"
     ]
    },
    {
     "name": "stdout",
     "output_type": "stream",
     "text": [
      "✅ Model saved at epoch 750\n"
     ]
    },
    {
     "name": "stderr",
     "output_type": "stream",
     "text": [
      "Epoch 751/10000: 100%|██████████| 316/316 [01:05<00:00,  4.81it/s, loss=0.0194]\n",
      "Epoch 752/10000: 100%|██████████| 316/316 [01:05<00:00,  4.82it/s, loss=0.0227]\n",
      "Epoch 753/10000: 100%|██████████| 316/316 [01:05<00:00,  4.84it/s, loss=0.0196]\n",
      "Epoch 754/10000: 100%|██████████| 316/316 [01:05<00:00,  4.81it/s, loss=0.017] \n",
      "Epoch 755/10000: 100%|██████████| 316/316 [01:05<00:00,  4.80it/s, loss=0.017] \n",
      "Epoch 756/10000: 100%|██████████| 316/316 [01:05<00:00,  4.83it/s, loss=0.0158]\n",
      "Epoch 757/10000: 100%|██████████| 316/316 [01:05<00:00,  4.80it/s, loss=0.0172]\n",
      "Epoch 758/10000: 100%|██████████| 316/316 [01:05<00:00,  4.80it/s, loss=0.02]  \n",
      "Epoch 759/10000: 100%|██████████| 316/316 [01:05<00:00,  4.82it/s, loss=0.0192]\n",
      "Epoch 760/10000: 100%|██████████| 316/316 [01:05<00:00,  4.81it/s, loss=0.017] \n"
     ]
    },
    {
     "name": "stdout",
     "output_type": "stream",
     "text": [
      "✅ Model saved at epoch 760\n"
     ]
    },
    {
     "name": "stderr",
     "output_type": "stream",
     "text": [
      "Epoch 761/10000: 100%|██████████| 316/316 [01:05<00:00,  4.81it/s, loss=0.0207]\n",
      "Epoch 762/10000: 100%|██████████| 316/316 [01:05<00:00,  4.84it/s, loss=0.0178]\n",
      "Epoch 763/10000: 100%|██████████| 316/316 [01:05<00:00,  4.83it/s, loss=0.0208]\n",
      "Epoch 764/10000: 100%|██████████| 316/316 [01:05<00:00,  4.81it/s, loss=0.0201]\n",
      "Epoch 765/10000: 100%|██████████| 316/316 [01:05<00:00,  4.84it/s, loss=0.0171]\n",
      "Epoch 766/10000: 100%|██████████| 316/316 [01:05<00:00,  4.79it/s, loss=0.0183]\n",
      "Epoch 767/10000: 100%|██████████| 316/316 [01:05<00:00,  4.82it/s, loss=0.0189]\n",
      "Epoch 768/10000: 100%|██████████| 316/316 [01:05<00:00,  4.82it/s, loss=0.0204]\n",
      "Epoch 769/10000: 100%|██████████| 316/316 [01:05<00:00,  4.82it/s, loss=0.0158]\n",
      "Epoch 770/10000: 100%|██████████| 316/316 [01:05<00:00,  4.82it/s, loss=0.0158]\n"
     ]
    },
    {
     "name": "stdout",
     "output_type": "stream",
     "text": [
      "✅ Model saved at epoch 770\n"
     ]
    },
    {
     "name": "stderr",
     "output_type": "stream",
     "text": [
      "Epoch 771/10000: 100%|██████████| 316/316 [01:05<00:00,  4.85it/s, loss=0.0201]\n",
      "Epoch 772/10000: 100%|██████████| 316/316 [01:05<00:00,  4.80it/s, loss=0.0211]\n",
      "Epoch 773/10000: 100%|██████████| 316/316 [01:05<00:00,  4.80it/s, loss=0.0178]\n",
      "Epoch 774/10000: 100%|██████████| 316/316 [01:05<00:00,  4.84it/s, loss=0.0182]\n",
      "Epoch 775/10000: 100%|██████████| 316/316 [01:05<00:00,  4.82it/s, loss=0.0189]\n",
      "Epoch 776/10000: 100%|██████████| 316/316 [01:05<00:00,  4.81it/s, loss=0.0196]\n",
      "Epoch 777/10000: 100%|██████████| 316/316 [01:05<00:00,  4.83it/s, loss=0.0216]\n",
      "Epoch 778/10000: 100%|██████████| 316/316 [01:05<00:00,  4.81it/s, loss=0.016] \n",
      "Epoch 779/10000: 100%|██████████| 316/316 [01:05<00:00,  4.81it/s, loss=0.0189]\n",
      "Epoch 780/10000: 100%|██████████| 316/316 [01:05<00:00,  4.83it/s, loss=0.0193]\n"
     ]
    },
    {
     "name": "stdout",
     "output_type": "stream",
     "text": [
      "✅ Model saved at epoch 780\n"
     ]
    },
    {
     "name": "stderr",
     "output_type": "stream",
     "text": [
      "Epoch 781/10000: 100%|██████████| 316/316 [01:05<00:00,  4.81it/s, loss=0.0194]\n",
      "Epoch 782/10000: 100%|██████████| 316/316 [01:05<00:00,  4.80it/s, loss=0.0167]\n",
      "Epoch 783/10000: 100%|██████████| 316/316 [01:05<00:00,  4.85it/s, loss=0.0206]\n",
      "Epoch 784/10000: 100%|██████████| 316/316 [01:05<00:00,  4.81it/s, loss=0.0213]\n",
      "Epoch 785/10000: 100%|██████████| 316/316 [01:05<00:00,  4.80it/s, loss=0.0204]\n",
      "Epoch 786/10000: 100%|██████████| 316/316 [01:05<00:00,  4.84it/s, loss=0.0207]\n",
      "Epoch 787/10000: 100%|██████████| 316/316 [01:05<00:00,  4.80it/s, loss=0.0206]\n",
      "Epoch 788/10000: 100%|██████████| 316/316 [01:05<00:00,  4.81it/s, loss=0.0217]\n",
      "Epoch 789/10000: 100%|██████████| 316/316 [01:05<00:00,  4.84it/s, loss=0.018] \n",
      "Epoch 790/10000: 100%|██████████| 316/316 [01:05<00:00,  4.81it/s, loss=0.0186]\n"
     ]
    },
    {
     "name": "stdout",
     "output_type": "stream",
     "text": [
      "✅ Model saved at epoch 790\n"
     ]
    },
    {
     "name": "stderr",
     "output_type": "stream",
     "text": [
      "Epoch 791/10000: 100%|██████████| 316/316 [01:05<00:00,  4.79it/s, loss=0.0179]\n",
      "Epoch 792/10000: 100%|██████████| 316/316 [01:05<00:00,  4.81it/s, loss=0.0204]\n",
      "Epoch 793/10000: 100%|██████████| 316/316 [01:05<00:00,  4.79it/s, loss=0.0212]\n",
      "Epoch 794/10000: 100%|██████████| 316/316 [01:05<00:00,  4.81it/s, loss=0.0159]\n",
      "Epoch 795/10000: 100%|██████████| 316/316 [01:05<00:00,  4.81it/s, loss=0.0203]\n",
      "Epoch 796/10000: 100%|██████████| 316/316 [01:05<00:00,  4.81it/s, loss=0.0177]\n",
      "Epoch 797/10000: 100%|██████████| 316/316 [01:05<00:00,  4.79it/s, loss=0.0209]\n",
      "Epoch 798/10000: 100%|██████████| 316/316 [01:05<00:00,  4.82it/s, loss=0.0194]\n",
      "Epoch 799/10000: 100%|██████████| 316/316 [01:05<00:00,  4.81it/s, loss=0.02]  \n",
      "Epoch 800/10000: 100%|██████████| 316/316 [01:05<00:00,  4.80it/s, loss=0.0188]\n"
     ]
    },
    {
     "name": "stdout",
     "output_type": "stream",
     "text": [
      "✅ Model saved at epoch 800\n"
     ]
    },
    {
     "name": "stderr",
     "output_type": "stream",
     "text": [
      "Epoch 801/10000: 100%|██████████| 316/316 [01:05<00:00,  4.84it/s, loss=0.0178]\n",
      "Epoch 802/10000: 100%|██████████| 316/316 [01:05<00:00,  4.82it/s, loss=0.0171]\n",
      "Epoch 803/10000: 100%|██████████| 316/316 [01:05<00:00,  4.81it/s, loss=0.017] \n",
      "Epoch 804/10000: 100%|██████████| 316/316 [01:05<00:00,  4.84it/s, loss=0.0218]\n",
      "Epoch 805/10000: 100%|██████████| 316/316 [01:05<00:00,  4.81it/s, loss=0.0185]\n",
      "Epoch 806/10000: 100%|██████████| 316/316 [01:05<00:00,  4.80it/s, loss=0.018] \n",
      "Epoch 807/10000: 100%|██████████| 316/316 [01:05<00:00,  4.82it/s, loss=0.0195]\n",
      "Epoch 808/10000: 100%|██████████| 316/316 [01:05<00:00,  4.80it/s, loss=0.0166]\n",
      "Epoch 809/10000: 100%|██████████| 316/316 [01:05<00:00,  4.82it/s, loss=0.0166]\n",
      "Epoch 810/10000: 100%|██████████| 316/316 [01:05<00:00,  4.82it/s, loss=0.0188]\n"
     ]
    },
    {
     "name": "stdout",
     "output_type": "stream",
     "text": [
      "✅ Model saved at epoch 810\n"
     ]
    },
    {
     "name": "stderr",
     "output_type": "stream",
     "text": [
      "Epoch 811/10000: 100%|██████████| 316/316 [01:05<00:00,  4.80it/s, loss=0.017] \n",
      "Epoch 812/10000: 100%|██████████| 316/316 [01:05<00:00,  4.80it/s, loss=0.0158]\n",
      "Epoch 813/10000: 100%|██████████| 316/316 [01:05<00:00,  4.83it/s, loss=0.0191]\n",
      "Epoch 814/10000: 100%|██████████| 316/316 [01:05<00:00,  4.80it/s, loss=0.0188]\n",
      "Epoch 815/10000: 100%|██████████| 316/316 [01:05<00:00,  4.81it/s, loss=0.0161]\n",
      "Epoch 816/10000: 100%|██████████| 316/316 [01:05<00:00,  4.83it/s, loss=0.0179]\n",
      "Epoch 817/10000: 100%|██████████| 316/316 [01:05<00:00,  4.81it/s, loss=0.0187]\n",
      "Epoch 818/10000: 100%|██████████| 316/316 [01:05<00:00,  4.80it/s, loss=0.0183]\n",
      "Epoch 819/10000: 100%|██████████| 316/316 [01:05<00:00,  4.84it/s, loss=0.0204]\n",
      "Epoch 820/10000: 100%|██████████| 316/316 [01:05<00:00,  4.79it/s, loss=0.0183]\n"
     ]
    },
    {
     "name": "stdout",
     "output_type": "stream",
     "text": [
      "✅ Model saved at epoch 820\n"
     ]
    },
    {
     "name": "stderr",
     "output_type": "stream",
     "text": [
      "Epoch 821/10000: 100%|██████████| 316/316 [01:05<00:00,  4.80it/s, loss=0.0173]\n",
      "Epoch 822/10000: 100%|██████████| 316/316 [01:05<00:00,  4.79it/s, loss=0.0178]\n",
      "Epoch 823/10000: 100%|██████████| 316/316 [01:05<00:00,  4.79it/s, loss=0.0191]\n",
      "Epoch 824/10000: 100%|██████████| 316/316 [01:05<00:00,  4.80it/s, loss=0.02]  \n",
      "Epoch 825/10000: 100%|██████████| 316/316 [01:05<00:00,  4.81it/s, loss=0.0182]\n",
      "Epoch 826/10000: 100%|██████████| 316/316 [01:05<00:00,  4.81it/s, loss=0.016] \n",
      "Epoch 827/10000: 100%|██████████| 316/316 [01:05<00:00,  4.80it/s, loss=0.0164]\n",
      "Epoch 828/10000: 100%|██████████| 316/316 [01:05<00:00,  4.84it/s, loss=0.0189]\n",
      "Epoch 829/10000: 100%|██████████| 316/316 [01:05<00:00,  4.81it/s, loss=0.0195]\n",
      "Epoch 830/10000: 100%|██████████| 316/316 [01:05<00:00,  4.81it/s, loss=0.0199]\n"
     ]
    },
    {
     "name": "stdout",
     "output_type": "stream",
     "text": [
      "✅ Model saved at epoch 830\n"
     ]
    },
    {
     "name": "stderr",
     "output_type": "stream",
     "text": [
      "Epoch 831/10000: 100%|██████████| 316/316 [01:05<00:00,  4.84it/s, loss=0.0211]\n",
      "Epoch 832/10000: 100%|██████████| 316/316 [01:05<00:00,  4.81it/s, loss=0.0204]\n",
      "Epoch 833/10000: 100%|██████████| 316/316 [01:05<00:00,  4.81it/s, loss=0.0197]\n",
      "Epoch 834/10000: 100%|██████████| 316/316 [01:05<00:00,  4.83it/s, loss=0.0205]\n",
      "Epoch 835/10000: 100%|██████████| 316/316 [01:05<00:00,  4.80it/s, loss=0.0198]\n",
      "Epoch 836/10000: 100%|██████████| 316/316 [01:05<00:00,  4.81it/s, loss=0.0218]\n",
      "Epoch 837/10000: 100%|██████████| 316/316 [01:05<00:00,  4.84it/s, loss=0.0168]\n",
      "Epoch 838/10000: 100%|██████████| 316/316 [01:05<00:00,  4.81it/s, loss=0.0181]\n",
      "Epoch 839/10000: 100%|██████████| 316/316 [01:05<00:00,  4.82it/s, loss=0.0169]\n",
      "Epoch 840/10000: 100%|██████████| 316/316 [01:05<00:00,  4.82it/s, loss=0.0178]\n"
     ]
    },
    {
     "name": "stdout",
     "output_type": "stream",
     "text": [
      "✅ Model saved at epoch 840\n"
     ]
    },
    {
     "name": "stderr",
     "output_type": "stream",
     "text": [
      "Epoch 841/10000: 100%|██████████| 316/316 [01:05<00:00,  4.80it/s, loss=0.0176]\n",
      "Epoch 842/10000: 100%|██████████| 316/316 [01:05<00:00,  4.81it/s, loss=0.0179]\n",
      "Epoch 843/10000: 100%|██████████| 316/316 [01:05<00:00,  4.86it/s, loss=0.0188]\n",
      "Epoch 844/10000: 100%|██████████| 316/316 [01:05<00:00,  4.82it/s, loss=0.02]  \n",
      "Epoch 845/10000: 100%|██████████| 316/316 [01:05<00:00,  4.81it/s, loss=0.0194]\n",
      "Epoch 846/10000: 100%|██████████| 316/316 [01:05<00:00,  4.84it/s, loss=0.0193]\n",
      "Epoch 847/10000: 100%|██████████| 316/316 [01:05<00:00,  4.82it/s, loss=0.0182]\n",
      "Epoch 848/10000: 100%|██████████| 316/316 [01:05<00:00,  4.80it/s, loss=0.0183]\n",
      "Epoch 849/10000: 100%|██████████| 316/316 [01:05<00:00,  4.85it/s, loss=0.0196]\n",
      "Epoch 850/10000: 100%|██████████| 316/316 [01:05<00:00,  4.82it/s, loss=0.0213]\n"
     ]
    },
    {
     "name": "stdout",
     "output_type": "stream",
     "text": [
      "✅ Model saved at epoch 850\n"
     ]
    },
    {
     "name": "stderr",
     "output_type": "stream",
     "text": [
      "Epoch 851/10000: 100%|██████████| 316/316 [01:05<00:00,  4.82it/s, loss=0.0172]\n",
      "Epoch 852/10000: 100%|██████████| 316/316 [01:05<00:00,  4.83it/s, loss=0.0198]\n",
      "Epoch 853/10000: 100%|██████████| 316/316 [01:05<00:00,  4.80it/s, loss=0.0185]\n",
      "Epoch 854/10000: 100%|██████████| 316/316 [01:05<00:00,  4.81it/s, loss=0.0189]\n",
      "Epoch 855/10000: 100%|██████████| 316/316 [01:05<00:00,  4.85it/s, loss=0.0182]\n",
      "Epoch 856/10000: 100%|██████████| 316/316 [01:05<00:00,  4.82it/s, loss=0.0176]\n",
      "Epoch 857/10000: 100%|██████████| 316/316 [01:05<00:00,  4.82it/s, loss=0.0199]\n",
      "Epoch 858/10000: 100%|██████████| 316/316 [01:05<00:00,  4.83it/s, loss=0.0192]\n",
      "Epoch 859/10000: 100%|██████████| 316/316 [01:05<00:00,  4.81it/s, loss=0.017] \n",
      "Epoch 860/10000: 100%|██████████| 316/316 [01:05<00:00,  4.81it/s, loss=0.0173]\n"
     ]
    },
    {
     "name": "stdout",
     "output_type": "stream",
     "text": [
      "✅ Model saved at epoch 860\n"
     ]
    },
    {
     "name": "stderr",
     "output_type": "stream",
     "text": [
      "Epoch 861/10000: 100%|██████████| 316/316 [01:05<00:00,  4.84it/s, loss=0.0151]\n",
      "Epoch 862/10000: 100%|██████████| 316/316 [01:05<00:00,  4.80it/s, loss=0.0196]\n",
      "Epoch 863/10000: 100%|██████████| 316/316 [01:05<00:00,  4.81it/s, loss=0.0186]\n",
      "Epoch 864/10000: 100%|██████████| 316/316 [01:05<00:00,  4.85it/s, loss=0.0186]\n",
      "Epoch 865/10000: 100%|██████████| 316/316 [01:05<00:00,  4.81it/s, loss=0.0161]\n",
      "Epoch 866/10000: 100%|██████████| 316/316 [01:05<00:00,  4.81it/s, loss=0.0176]\n",
      "Epoch 867/10000: 100%|██████████| 316/316 [01:05<00:00,  4.83it/s, loss=0.0209]\n",
      "Epoch 868/10000: 100%|██████████| 316/316 [01:05<00:00,  4.82it/s, loss=0.0173]\n",
      "Epoch 869/10000: 100%|██████████| 316/316 [01:05<00:00,  4.80it/s, loss=0.018] \n",
      "Epoch 870/10000: 100%|██████████| 316/316 [01:05<00:00,  4.84it/s, loss=0.0174]\n"
     ]
    },
    {
     "name": "stdout",
     "output_type": "stream",
     "text": [
      "✅ Model saved at epoch 870\n"
     ]
    },
    {
     "name": "stderr",
     "output_type": "stream",
     "text": [
      "Epoch 871/10000: 100%|██████████| 316/316 [01:05<00:00,  4.82it/s, loss=0.0212]\n",
      "Epoch 872/10000: 100%|██████████| 316/316 [01:05<00:00,  4.81it/s, loss=0.0182]\n",
      "Epoch 873/10000: 100%|██████████| 316/316 [01:05<00:00,  4.85it/s, loss=0.0182]\n",
      "Epoch 874/10000: 100%|██████████| 316/316 [01:05<00:00,  4.80it/s, loss=0.0166]\n",
      "Epoch 875/10000: 100%|██████████| 316/316 [01:05<00:00,  4.81it/s, loss=0.0228]\n",
      "Epoch 876/10000: 100%|██████████| 316/316 [01:05<00:00,  4.84it/s, loss=0.0185]\n",
      "Epoch 877/10000: 100%|██████████| 316/316 [01:05<00:00,  4.80it/s, loss=0.0205]\n",
      "Epoch 878/10000: 100%|██████████| 316/316 [01:05<00:00,  4.82it/s, loss=0.0218]\n",
      "Epoch 879/10000: 100%|██████████| 316/316 [01:05<00:00,  4.84it/s, loss=0.0178]\n",
      "Epoch 880/10000: 100%|██████████| 316/316 [01:05<00:00,  4.81it/s, loss=0.0189]\n"
     ]
    },
    {
     "name": "stdout",
     "output_type": "stream",
     "text": [
      "✅ Model saved at epoch 880\n"
     ]
    },
    {
     "name": "stderr",
     "output_type": "stream",
     "text": [
      "Epoch 881/10000: 100%|██████████| 316/316 [01:05<00:00,  4.82it/s, loss=0.0187]\n",
      "Epoch 882/10000: 100%|██████████| 316/316 [01:05<00:00,  4.84it/s, loss=0.0185]\n",
      "Epoch 883/10000: 100%|██████████| 316/316 [01:05<00:00,  4.82it/s, loss=0.0152]\n",
      "Epoch 884/10000: 100%|██████████| 316/316 [01:05<00:00,  4.82it/s, loss=0.0187]\n",
      "Epoch 885/10000: 100%|██████████| 316/316 [01:05<00:00,  4.83it/s, loss=0.0189]\n",
      "Epoch 886/10000: 100%|██████████| 316/316 [01:05<00:00,  4.82it/s, loss=0.0197]\n",
      "Epoch 887/10000: 100%|██████████| 316/316 [01:05<00:00,  4.82it/s, loss=0.0176]\n",
      "Epoch 888/10000: 100%|██████████| 316/316 [01:05<00:00,  4.85it/s, loss=0.0172]\n",
      "Epoch 889/10000: 100%|██████████| 316/316 [01:05<00:00,  4.82it/s, loss=0.0198]\n",
      "Epoch 890/10000: 100%|██████████| 316/316 [01:05<00:00,  4.80it/s, loss=0.0168]\n"
     ]
    },
    {
     "name": "stdout",
     "output_type": "stream",
     "text": [
      "✅ Model saved at epoch 890\n"
     ]
    },
    {
     "name": "stderr",
     "output_type": "stream",
     "text": [
      "Epoch 891/10000: 100%|██████████| 316/316 [01:05<00:00,  4.84it/s, loss=0.017] \n",
      "Epoch 892/10000: 100%|██████████| 316/316 [01:05<00:00,  4.82it/s, loss=0.0169]\n",
      "Epoch 893/10000: 100%|██████████| 316/316 [01:05<00:00,  4.81it/s, loss=0.0174]\n",
      "Epoch 894/10000: 100%|██████████| 316/316 [01:05<00:00,  4.85it/s, loss=0.0205]\n",
      "Epoch 895/10000: 100%|██████████| 316/316 [01:05<00:00,  4.81it/s, loss=0.0186]\n",
      "Epoch 896/10000: 100%|██████████| 316/316 [01:05<00:00,  4.83it/s, loss=0.0187]\n",
      "Epoch 897/10000: 100%|██████████| 316/316 [01:05<00:00,  4.82it/s, loss=0.0187]\n",
      "Epoch 898/10000: 100%|██████████| 316/316 [01:05<00:00,  4.83it/s, loss=0.0192]\n",
      "Epoch 899/10000: 100%|██████████| 316/316 [01:05<00:00,  4.83it/s, loss=0.0209]\n",
      "Epoch 900/10000: 100%|██████████| 316/316 [01:05<00:00,  4.82it/s, loss=0.017] \n"
     ]
    },
    {
     "name": "stdout",
     "output_type": "stream",
     "text": [
      "✅ Model saved at epoch 900\n"
     ]
    },
    {
     "name": "stderr",
     "output_type": "stream",
     "text": [
      "Epoch 901/10000: 100%|██████████| 316/316 [01:05<00:00,  4.83it/s, loss=0.0203]\n",
      "Epoch 902/10000: 100%|██████████| 316/316 [01:05<00:00,  4.81it/s, loss=0.017] \n",
      "Epoch 903/10000: 100%|██████████| 316/316 [01:04<00:00,  4.87it/s, loss=0.0195]\n",
      "Epoch 904/10000: 100%|██████████| 316/316 [01:05<00:00,  4.83it/s, loss=0.0168]\n",
      "Epoch 905/10000: 100%|██████████| 316/316 [01:05<00:00,  4.83it/s, loss=0.0181]\n",
      "Epoch 906/10000: 100%|██████████| 316/316 [01:05<00:00,  4.86it/s, loss=0.0189]\n",
      "Epoch 907/10000: 100%|██████████| 316/316 [01:05<00:00,  4.83it/s, loss=0.0176]\n",
      "Epoch 908/10000: 100%|██████████| 316/316 [01:05<00:00,  4.83it/s, loss=0.0203]\n",
      "Epoch 909/10000: 100%|██████████| 316/316 [01:05<00:00,  4.86it/s, loss=0.0178]\n",
      "Epoch 910/10000: 100%|██████████| 316/316 [01:05<00:00,  4.83it/s, loss=0.0198]\n"
     ]
    },
    {
     "name": "stdout",
     "output_type": "stream",
     "text": [
      "✅ Model saved at epoch 910\n"
     ]
    },
    {
     "name": "stderr",
     "output_type": "stream",
     "text": [
      "Epoch 911/10000: 100%|██████████| 316/316 [01:05<00:00,  4.83it/s, loss=0.0181]\n",
      "Epoch 912/10000: 100%|██████████| 316/316 [01:05<00:00,  4.86it/s, loss=0.0195]\n",
      "Epoch 913/10000: 100%|██████████| 316/316 [01:05<00:00,  4.84it/s, loss=0.0164]\n",
      "Epoch 914/10000: 100%|██████████| 316/316 [01:05<00:00,  4.83it/s, loss=0.0182]\n",
      "Epoch 915/10000: 100%|██████████| 316/316 [01:05<00:00,  4.85it/s, loss=0.0193]\n",
      "Epoch 916/10000: 100%|██████████| 316/316 [01:05<00:00,  4.81it/s, loss=0.0161]\n",
      "Epoch 917/10000: 100%|██████████| 316/316 [01:05<00:00,  4.83it/s, loss=0.0177]\n",
      "Epoch 918/10000: 100%|██████████| 316/316 [01:04<00:00,  4.87it/s, loss=0.018] \n",
      "Epoch 919/10000: 100%|██████████| 316/316 [01:05<00:00,  4.82it/s, loss=0.0176]\n",
      "Epoch 920/10000: 100%|██████████| 316/316 [01:05<00:00,  4.83it/s, loss=0.0155]\n"
     ]
    },
    {
     "name": "stdout",
     "output_type": "stream",
     "text": [
      "✅ Model saved at epoch 920\n"
     ]
    },
    {
     "name": "stderr",
     "output_type": "stream",
     "text": [
      "Epoch 921/10000: 100%|██████████| 316/316 [01:05<00:00,  4.86it/s, loss=0.0184]\n",
      "Epoch 922/10000: 100%|██████████| 316/316 [01:05<00:00,  4.84it/s, loss=0.0172]\n",
      "Epoch 923/10000: 100%|██████████| 316/316 [01:05<00:00,  4.83it/s, loss=0.018] \n",
      "Epoch 924/10000: 100%|██████████| 316/316 [01:04<00:00,  4.87it/s, loss=0.0166]\n",
      "Epoch 925/10000: 100%|██████████| 316/316 [01:05<00:00,  4.83it/s, loss=0.0188]\n",
      "Epoch 926/10000: 100%|██████████| 316/316 [01:05<00:00,  4.83it/s, loss=0.0162]\n",
      "Epoch 927/10000: 100%|██████████| 316/316 [01:04<00:00,  4.86it/s, loss=0.017] \n",
      "Epoch 928/10000: 100%|██████████| 316/316 [01:05<00:00,  4.80it/s, loss=0.0187]\n",
      "Epoch 929/10000: 100%|██████████| 316/316 [01:05<00:00,  4.83it/s, loss=0.0169]\n",
      "Epoch 930/10000: 100%|██████████| 316/316 [01:05<00:00,  4.86it/s, loss=0.0162]\n"
     ]
    },
    {
     "name": "stdout",
     "output_type": "stream",
     "text": [
      "✅ Model saved at epoch 930\n"
     ]
    },
    {
     "name": "stderr",
     "output_type": "stream",
     "text": [
      "Epoch 931/10000: 100%|██████████| 316/316 [01:05<00:00,  4.84it/s, loss=0.021] \n",
      "Epoch 932/10000: 100%|██████████| 316/316 [01:05<00:00,  4.83it/s, loss=0.0167]\n",
      "Epoch 933/10000: 100%|██████████| 316/316 [01:05<00:00,  4.82it/s, loss=0.0186]\n",
      "Epoch 934/10000: 100%|██████████| 316/316 [01:05<00:00,  4.83it/s, loss=0.0188]\n",
      "Epoch 935/10000: 100%|██████████| 316/316 [01:05<00:00,  4.83it/s, loss=0.017] \n",
      "Epoch 936/10000: 100%|██████████| 316/316 [01:05<00:00,  4.86it/s, loss=0.0186]\n",
      "Epoch 937/10000: 100%|██████████| 316/316 [01:05<00:00,  4.81it/s, loss=0.0187]\n",
      "Epoch 938/10000: 100%|██████████| 316/316 [01:05<00:00,  4.83it/s, loss=0.0169]\n",
      "Epoch 939/10000: 100%|██████████| 316/316 [01:05<00:00,  4.86it/s, loss=0.0181]\n",
      "Epoch 940/10000: 100%|██████████| 316/316 [01:05<00:00,  4.83it/s, loss=0.0166]\n"
     ]
    },
    {
     "name": "stdout",
     "output_type": "stream",
     "text": [
      "✅ Model saved at epoch 940\n"
     ]
    },
    {
     "name": "stderr",
     "output_type": "stream",
     "text": [
      "Epoch 941/10000: 100%|██████████| 316/316 [01:05<00:00,  4.83it/s, loss=0.0195]\n",
      "Epoch 942/10000: 100%|██████████| 316/316 [01:05<00:00,  4.86it/s, loss=0.0162]\n",
      "Epoch 943/10000: 100%|██████████| 316/316 [01:05<00:00,  4.83it/s, loss=0.0182]\n",
      "Epoch 944/10000: 100%|██████████| 316/316 [01:05<00:00,  4.83it/s, loss=0.0178]\n",
      "Epoch 945/10000: 100%|██████████| 316/316 [01:05<00:00,  4.86it/s, loss=0.0222]\n",
      "Epoch 946/10000: 100%|██████████| 316/316 [01:05<00:00,  4.83it/s, loss=0.0197]\n",
      "Epoch 947/10000: 100%|██████████| 316/316 [01:05<00:00,  4.83it/s, loss=0.0198]\n",
      "Epoch 948/10000: 100%|██████████| 316/316 [01:05<00:00,  4.86it/s, loss=0.0184]\n",
      "Epoch 949/10000: 100%|██████████| 316/316 [01:05<00:00,  4.83it/s, loss=0.0166]\n",
      "Epoch 950/10000: 100%|██████████| 316/316 [01:05<00:00,  4.83it/s, loss=0.0178]\n"
     ]
    },
    {
     "name": "stdout",
     "output_type": "stream",
     "text": [
      "✅ Model saved at epoch 950\n"
     ]
    },
    {
     "name": "stderr",
     "output_type": "stream",
     "text": [
      "Epoch 951/10000: 100%|██████████| 316/316 [01:05<00:00,  4.84it/s, loss=0.0181]\n",
      "Epoch 952/10000: 100%|██████████| 316/316 [01:05<00:00,  4.83it/s, loss=0.0209]\n",
      "Epoch 953/10000: 100%|██████████| 316/316 [01:05<00:00,  4.83it/s, loss=0.0204]\n",
      "Epoch 954/10000: 100%|██████████| 316/316 [01:04<00:00,  4.87it/s, loss=0.0182]\n",
      "Epoch 955/10000: 100%|██████████| 316/316 [01:05<00:00,  4.83it/s, loss=0.0185]\n",
      "Epoch 956/10000: 100%|██████████| 316/316 [01:05<00:00,  4.84it/s, loss=0.0173]\n",
      "Epoch 957/10000: 100%|██████████| 316/316 [01:04<00:00,  4.87it/s, loss=0.0183]\n",
      "Epoch 958/10000: 100%|██████████| 316/316 [01:05<00:00,  4.83it/s, loss=0.0196]\n",
      "Epoch 959/10000: 100%|██████████| 316/316 [01:05<00:00,  4.83it/s, loss=0.0166]\n",
      "Epoch 960/10000: 100%|██████████| 316/316 [01:05<00:00,  4.86it/s, loss=0.0156]\n"
     ]
    },
    {
     "name": "stdout",
     "output_type": "stream",
     "text": [
      "✅ Model saved at epoch 960\n"
     ]
    },
    {
     "name": "stderr",
     "output_type": "stream",
     "text": [
      "Epoch 961/10000: 100%|██████████| 316/316 [01:05<00:00,  4.83it/s, loss=0.0185]\n",
      "Epoch 962/10000: 100%|██████████| 316/316 [01:05<00:00,  4.83it/s, loss=0.0231]\n",
      "Epoch 963/10000: 100%|██████████| 316/316 [01:04<00:00,  4.87it/s, loss=0.0204]\n",
      "Epoch 964/10000: 100%|██████████| 316/316 [01:05<00:00,  4.84it/s, loss=0.0181]\n",
      "Epoch 965/10000: 100%|██████████| 316/316 [01:05<00:00,  4.83it/s, loss=0.0182]\n",
      "Epoch 966/10000: 100%|██████████| 316/316 [01:04<00:00,  4.86it/s, loss=0.0184]\n",
      "Epoch 967/10000: 100%|██████████| 316/316 [01:05<00:00,  4.82it/s, loss=0.0199]\n",
      "Epoch 968/10000: 100%|██████████| 316/316 [01:05<00:00,  4.83it/s, loss=0.0177]\n",
      "Epoch 969/10000: 100%|██████████| 316/316 [01:04<00:00,  4.87it/s, loss=0.0215]\n",
      "Epoch 970/10000: 100%|██████████| 316/316 [01:05<00:00,  4.83it/s, loss=0.017] \n"
     ]
    },
    {
     "name": "stdout",
     "output_type": "stream",
     "text": [
      "✅ Model saved at epoch 970\n"
     ]
    },
    {
     "name": "stderr",
     "output_type": "stream",
     "text": [
      "Epoch 971/10000: 100%|██████████| 316/316 [01:05<00:00,  4.83it/s, loss=0.0176]\n",
      "Epoch 972/10000: 100%|██████████| 316/316 [01:05<00:00,  4.86it/s, loss=0.0191]\n",
      "Epoch 973/10000: 100%|██████████| 316/316 [01:05<00:00,  4.81it/s, loss=0.0217]\n",
      "Epoch 974/10000: 100%|██████████| 316/316 [01:05<00:00,  4.82it/s, loss=0.0178]\n",
      "Epoch 975/10000: 100%|██████████| 316/316 [01:04<00:00,  4.87it/s, loss=0.0167]\n",
      "Epoch 976/10000: 100%|██████████| 316/316 [01:05<00:00,  4.84it/s, loss=0.0187]\n",
      "Epoch 977/10000: 100%|██████████| 316/316 [01:05<00:00,  4.83it/s, loss=0.017] \n",
      "Epoch 978/10000: 100%|██████████| 316/316 [01:04<00:00,  4.87it/s, loss=0.0158]\n",
      "Epoch 979/10000: 100%|██████████| 316/316 [01:05<00:00,  4.83it/s, loss=0.0183]\n",
      "Epoch 980/10000: 100%|██████████| 316/316 [01:05<00:00,  4.84it/s, loss=0.0157]\n"
     ]
    },
    {
     "name": "stdout",
     "output_type": "stream",
     "text": [
      "✅ Model saved at epoch 980\n"
     ]
    },
    {
     "name": "stderr",
     "output_type": "stream",
     "text": [
      "Epoch 981/10000: 100%|██████████| 316/316 [01:04<00:00,  4.87it/s, loss=0.0172]\n",
      "Epoch 982/10000: 100%|██████████| 316/316 [01:05<00:00,  4.84it/s, loss=0.0183]\n",
      "Epoch 983/10000: 100%|██████████| 316/316 [01:05<00:00,  4.83it/s, loss=0.0247]\n",
      "Epoch 984/10000: 100%|██████████| 316/316 [01:04<00:00,  4.86it/s, loss=0.0185]\n",
      "Epoch 985/10000: 100%|██████████| 316/316 [01:05<00:00,  4.83it/s, loss=0.0174]\n",
      "Epoch 986/10000: 100%|██████████| 316/316 [01:05<00:00,  4.82it/s, loss=0.0187]\n",
      "Epoch 987/10000: 100%|██████████| 316/316 [01:04<00:00,  4.87it/s, loss=0.0185]\n",
      "Epoch 988/10000: 100%|██████████| 316/316 [01:05<00:00,  4.83it/s, loss=0.0166]\n",
      "Epoch 989/10000: 100%|██████████| 316/316 [01:05<00:00,  4.83it/s, loss=0.0203]\n",
      "Epoch 990/10000: 100%|██████████| 316/316 [01:04<00:00,  4.87it/s, loss=0.0171]\n"
     ]
    },
    {
     "name": "stdout",
     "output_type": "stream",
     "text": [
      "✅ Model saved at epoch 990\n"
     ]
    },
    {
     "name": "stderr",
     "output_type": "stream",
     "text": [
      "Epoch 991/10000: 100%|██████████| 316/316 [01:05<00:00,  4.83it/s, loss=0.02]  \n",
      "Epoch 992/10000: 100%|██████████| 316/316 [01:05<00:00,  4.81it/s, loss=0.0187]\n",
      "Epoch 993/10000: 100%|██████████| 316/316 [01:05<00:00,  4.82it/s, loss=0.0195]\n",
      "Epoch 994/10000: 100%|██████████| 316/316 [01:05<00:00,  4.82it/s, loss=0.0172]\n",
      "Epoch 995/10000: 100%|██████████| 316/316 [01:05<00:00,  4.83it/s, loss=0.0173]\n",
      "Epoch 996/10000: 100%|██████████| 316/316 [01:05<00:00,  4.82it/s, loss=0.0197]\n",
      "Epoch 997/10000: 100%|██████████| 316/316 [01:05<00:00,  4.84it/s, loss=0.0209]\n",
      "Epoch 998/10000: 100%|██████████| 316/316 [01:05<00:00,  4.83it/s, loss=0.0187]\n",
      "Epoch 999/10000: 100%|██████████| 316/316 [01:04<00:00,  4.87it/s, loss=0.0205]\n",
      "Epoch 1000/10000: 100%|██████████| 316/316 [01:05<00:00,  4.83it/s, loss=0.0174]\n"
     ]
    },
    {
     "name": "stdout",
     "output_type": "stream",
     "text": [
      "✅ Model saved at epoch 1000\n"
     ]
    },
    {
     "name": "stderr",
     "output_type": "stream",
     "text": [
      "Epoch 1001/10000: 100%|██████████| 316/316 [01:05<00:00,  4.83it/s, loss=0.0166]\n",
      "Epoch 1002/10000: 100%|██████████| 316/316 [01:05<00:00,  4.86it/s, loss=0.0181]\n",
      "Epoch 1003/10000: 100%|██████████| 316/316 [01:05<00:00,  4.80it/s, loss=0.0197]\n",
      "Epoch 1004/10000: 100%|██████████| 316/316 [01:05<00:00,  4.81it/s, loss=0.0158]\n",
      "Epoch 1005/10000: 100%|██████████| 316/316 [01:05<00:00,  4.84it/s, loss=0.0167]\n",
      "Epoch 1006/10000: 100%|██████████| 316/316 [01:05<00:00,  4.80it/s, loss=0.0165]\n",
      "Epoch 1007/10000: 100%|██████████| 316/316 [01:05<00:00,  4.81it/s, loss=0.0177]\n",
      "Epoch 1008/10000: 100%|██████████| 316/316 [01:05<00:00,  4.84it/s, loss=0.018] \n",
      "Epoch 1009/10000: 100%|██████████| 316/316 [01:05<00:00,  4.82it/s, loss=0.0191]\n",
      "Epoch 1010/10000:  54%|█████▍    | 172/316 [00:35<00:29,  4.84it/s, loss=0.0166]"
     ]
    }
   ],
   "source": [
    "optimizer = torch.optim.Adam(diffusion.parameters(), lr=2e-5)\n",
    "num_epochs = params['epochs']\n",
    "save_every = params['save_and_sample_every']\n",
    "\n",
    "for epoch in range(num_epochs):\n",
    "    sum_loss=0\n",
    "    diffusion.train()\n",
    "    with tqdm(dataloader, total=len(dataloader), desc=f\"Epoch {epoch+1}/{num_epochs}\") as pbar:\n",
    "        for step, data in enumerate(pbar):\n",
    "            if params['with_condition']:\n",
    "                input_tensors = data['input'].to(device)    # condition\n",
    "                target_tensors = data['target'].to(device)  # target\n",
    "                loss = diffusion(target_tensors, condition_tensors=input_tensors)\n",
    "            else:\n",
    "                input_tensors = data.to(device)\n",
    "                loss = diffusion(input_tensors)\n",
    "\n",
    "            loss = loss.sum() / params['batchsize']\n",
    "            loss.backward()\n",
    "            optimizer.step()\n",
    "            optimizer.zero_grad()\n",
    "            sum_loss += loss.item()\n",
    "            pbar.set_postfix(loss=sum_loss/(step+1))\n",
    "\n",
    "    # 모델 저장\n",
    "    if (epoch + 1) % save_every == 0 or (epoch + 1) == num_epochs:\n",
    "        os.makedirs(params[\"model_save_path\"], exist_ok=True)\n",
    "        torch.save(diffusion.state_dict(), os.path.join(params[\"model_save_path\"], f\"model-{epoch+1}.pt\"))\n",
    "        print(f\"✅ Model saved at epoch {epoch+1}\")\n",
    "        \n",
    "    condition_example = None\n",
    "    if params[\"with_condition\"]:\n",
    "        data_example = next(iter(dataloader))\n",
    "        condition_example = data_example['input'].to(device)[:1]  # 1개만\n",
    "    save_sample(\n",
    "        diffusion=diffusion,\n",
    "        epoch=epoch + 1,\n",
    "        save_path=os.path.join(params[\"model_save_path\"], \"samples\"),\n",
    "        sample_shape=(1, diffusion.channels, diffusion.depth_size, diffusion.image_size, diffusion.image_size),\n",
    "        device=device,\n",
    "        condition_tensors=condition_example\n",
    "    )"
   ]
  },
  {
   "cell_type": "code",
   "execution_count": null,
   "id": "89b30a28",
   "metadata": {},
   "outputs": [],
   "source": []
  }
 ],
 "metadata": {
  "kernelspec": {
   "display_name": "LeeYS",
   "language": "python",
   "name": "python3"
  },
  "language_info": {
   "codemirror_mode": {
    "name": "ipython",
    "version": 3
   },
   "file_extension": ".py",
   "mimetype": "text/x-python",
   "name": "python",
   "nbconvert_exporter": "python",
   "pygments_lexer": "ipython3",
   "version": "3.10.14"
  }
 },
 "nbformat": 4,
 "nbformat_minor": 5
}
