{
 "cells": [
  {
   "cell_type": "code",
   "execution_count": 1,
   "id": "b41ff1d0",
   "metadata": {},
   "outputs": [
    {
     "name": "stdout",
     "output_type": "stream",
     "text": [
      "APEX: ON\n"
     ]
    },
    {
     "data": {
      "text/plain": [
       "device(type='cuda', index=0)"
      ]
     },
     "execution_count": 1,
     "metadata": {},
     "output_type": "execute_result"
    }
   ],
   "source": [
    "from torchvision.transforms import RandomCrop, Compose, ToPILImage, Resize, ToTensor, Lambda\n",
    "from med_ddpm.diffusion_model.trainer import GaussianDiffusion, Trainer\n",
    "from med_ddpm.diffusion_model.unet import create_model\n",
    "import argparse\n",
    "import torch\n",
    "import os \n",
    "from sklearn.preprocessing import MinMaxScaler\n",
    "from torch.utils.data import Dataset\n",
    "from torchvision.transforms import Compose, ToTensor, Lambda\n",
    "from glob import glob\n",
    "import matplotlib.pyplot as plt\n",
    "import nibabel as nib\n",
    "import torchio as tio\n",
    "import numpy as np\n",
    "import torch\n",
    "from tqdm import tqdm\n",
    "from torch.utils.data import DataLoader\n",
    "import re\n",
    "import os\n",
    "device = torch.device(\"cuda:0\" if torch.cuda.is_available() else \"cpu\")\n",
    "device"
   ]
  },
  {
   "cell_type": "code",
   "execution_count": null,
   "id": "2df6b982",
   "metadata": {},
   "outputs": [],
   "source": [
    "params = {\n",
    "    \"with_condition\": True,\n",
    "    \"inputfolder\": \"../../data/stroke_mri_nii_256/masks/\",\n",
    "    \"targetfolder\": \"../../data/stroke_mri_nii_256/images/\",\n",
    "    \"batchsize\": 1,\n",
    "    \"epochs\": 10000,\n",
    "    \"input_size\": 128,\n",
    "    \"depth_size\": 64,\n",
    "    \"num_channels\": 64,\n",
    "    \"num_res_blocks\": 1,\n",
    "    \"timesteps\": 250,\n",
    "    \"save_and_sample_every\": 10,\n",
    "    \"model_save_path\": \"../../model/med_ddpm_synthesis/dwi/\",\n",
    "    \"resume_weight\": \"../../model/med_ddpm/mri/model-17.pt\"\n",
    "}"
   ]
  },
  {
   "cell_type": "code",
   "execution_count": 32,
   "id": "688833e2",
   "metadata": {},
   "outputs": [
    {
     "name": "stderr",
     "output_type": "stream",
     "text": [
      "  0%|          | 0/1113 [00:00<?, ?it/s]\n"
     ]
    },
    {
     "ename": "ValueError",
     "evalue": "too many values to unpack (expected 3)",
     "output_type": "error",
     "traceback": [
      "\u001b[0;31m---------------------------------------------------------------------------\u001b[0m",
      "\u001b[0;31mValueError\u001b[0m                                Traceback (most recent call last)",
      "Cell \u001b[0;32mIn[32], line 72\u001b[0m\n\u001b[1;32m     70\u001b[0m     input_img \u001b[38;5;241m=\u001b[39m nib\u001b[38;5;241m.\u001b[39mload(input_list[i])\u001b[38;5;241m.\u001b[39mget_fdata()\n\u001b[1;32m     71\u001b[0m     target_img \u001b[38;5;241m=\u001b[39m (nib\u001b[38;5;241m.\u001b[39mload(target_list[i])\u001b[38;5;241m.\u001b[39mget_fdata()\u001b[38;5;241m+\u001b[39m\u001b[38;5;241m1.\u001b[39m)\u001b[38;5;241m/\u001b[39m\u001b[38;5;241m2.\u001b[39m\n\u001b[0;32m---> 72\u001b[0m     input_images[i] \u001b[38;5;241m=\u001b[39mtransform(\u001b[43mresize_img\u001b[49m\u001b[43m(\u001b[49m\u001b[43mlabel2masks\u001b[49m\u001b[43m(\u001b[49m\u001b[43minput_img\u001b[49m\u001b[43m,\u001b[49m\u001b[38;5;241;43m3\u001b[39;49m\u001b[43m)\u001b[49m\u001b[43m)\u001b[49m)\n\u001b[1;32m     73\u001b[0m     target_images[i] \u001b[38;5;241m=\u001b[39m transform(resize_img(target_img))\n\u001b[1;32m     75\u001b[0m dataset \u001b[38;5;241m=\u001b[39m NiftiPairImageGenerator(\n\u001b[1;32m     76\u001b[0m         input_images,\n\u001b[1;32m     77\u001b[0m         target_images,\n\u001b[0;32m   (...)\u001b[0m\n\u001b[1;32m     81\u001b[0m         full_channel_mask\u001b[38;5;241m=\u001b[39m\u001b[38;5;28;01mTrue\u001b[39;00m\n\u001b[1;32m     82\u001b[0m     )\n",
      "Cell \u001b[0;32mIn[32], line 54\u001b[0m, in \u001b[0;36mresize_img\u001b[0;34m(img)\u001b[0m\n\u001b[1;32m     53\u001b[0m \u001b[38;5;28;01mdef\u001b[39;00m \u001b[38;5;21mresize_img\u001b[39m(img):\n\u001b[0;32m---> 54\u001b[0m     d,h, w \u001b[38;5;241m=\u001b[39m img\u001b[38;5;241m.\u001b[39mshape\n\u001b[1;32m     55\u001b[0m     \u001b[38;5;28;01mif\u001b[39;00m h \u001b[38;5;241m!=\u001b[39m  params[\u001b[38;5;124m'\u001b[39m\u001b[38;5;124minput_size\u001b[39m\u001b[38;5;124m'\u001b[39m] \u001b[38;5;129;01mor\u001b[39;00m w \u001b[38;5;241m!=\u001b[39m  params[\u001b[38;5;124m'\u001b[39m\u001b[38;5;124minput_size\u001b[39m\u001b[38;5;124m'\u001b[39m] \u001b[38;5;129;01mor\u001b[39;00m d \u001b[38;5;241m!=\u001b[39m params[\u001b[38;5;124m'\u001b[39m\u001b[38;5;124mdepth_size\u001b[39m\u001b[38;5;124m'\u001b[39m]:\n\u001b[1;32m     56\u001b[0m         img \u001b[38;5;241m=\u001b[39m tio\u001b[38;5;241m.\u001b[39mScalarImage(tensor\u001b[38;5;241m=\u001b[39mimg[np\u001b[38;5;241m.\u001b[39mnewaxis, \u001b[38;5;241m.\u001b[39m\u001b[38;5;241m.\u001b[39m\u001b[38;5;241m.\u001b[39m])\n",
      "\u001b[0;31mValueError\u001b[0m: too many values to unpack (expected 3)"
     ]
    }
   ],
   "source": [
    "transform = Compose([\n",
    "    Lambda(lambda t: torch.tensor(t).float()),\n",
    "    Lambda(lambda t: (t * 2) - 1),\n",
    "    Lambda(lambda t: t.unsqueeze(0))\n",
    "])\n",
    "class NiftiPairImageGenerator(Dataset):\n",
    "    def __init__(self,\n",
    "            input_image,\n",
    "            target_image,\n",
    "            input_size: int,\n",
    "            depth_size: int,\n",
    "            input_channel: int = 3,\n",
    "            target_transform=None,\n",
    "            full_channel_mask=False,\n",
    "            combine_output=False,\n",
    "            transform=None,\n",
    "        ):\n",
    "\n",
    "        self.input_image = input_image\n",
    "        self.target_image = target_image\n",
    "        self.input_size = input_size\n",
    "        self.depth_size = depth_size\n",
    "        self.input_channel = input_channel\n",
    "        self.scaler = MinMaxScaler()\n",
    "        self.target_transform = target_transform\n",
    "        self.full_channel_mask = full_channel_mask\n",
    "        self.combine_output = combine_output\n",
    "\n",
    "   \n",
    "    def plot(self, index, n_slice=30):\n",
    "        data = self[index]\n",
    "        input_img = data['input']\n",
    "        target_img = data['target']\n",
    "        plt.subplot(1, 2, 1)\n",
    "        plt.imshow(input_img[n_slice,:, :])\n",
    "        plt.subplot(1, 2, 2)\n",
    "        plt.imshow(target_img[n_slice,:, :])\n",
    "        plt.show()\n",
    "\n",
    "    def __len__(self):\n",
    "        return len(self.input_image)\n",
    "\n",
    "    def __getitem__(self, index):\n",
    "        input_img = self.input_image[index].unsqueeze(0)\n",
    "        target_img = self.label2masks(self.target_image[index]).permute(3, 0, 1, 2)\n",
    "      \n",
    "\n",
    "        if self.combine_output:\n",
    "            return torch.cat([target_img, input_img], 0)\n",
    "\n",
    "        return {'input':input_img, 'target':target_img}\n",
    "\n",
    "def resize_img(img):\n",
    "    d,h, w = img.shape\n",
    "    if h !=  params['input_size'] or w !=  params['input_size'] or d != params['depth_size']:\n",
    "        img = tio.ScalarImage(tensor=img[np.newaxis, ...])\n",
    "        cop = tio.Resize((params['depth_size'], params['input_size'],  params['input_size']))\n",
    "        img = np.asarray(cop(img))[0]\n",
    "    return img \n",
    "def label2masks(masked_img, input_channel=3):\n",
    "    result_img =np.zeros(masked_img.shape + ( input_channel - 1,))\n",
    "    result_img[masked_img==1, 0] = 1\n",
    "    result_img[masked_img==2, 1] = 1\n",
    "    return result_img\n",
    "input_list=glob(params['inputfolder']+\"*.nii.gz\")\n",
    "target_list=[f.replace(params['inputfolder'], params['targetfolder']) for f in input_list]\n",
    "input_images=torch.zeros((len(input_list),params['depth_size'], params['input_size'], params['input_size']))\n",
    "target_images=torch.zeros((len(target_list),params['depth_size'], params['input_size'], params['input_size'],2))\n",
    "for i in tqdm(range(len(input_list))):\n",
    "    input_img = nib.load(input_list[i]).get_fdata()\n",
    "    target_img = (nib.load(target_list[i]).get_fdata()+1.)/2.\n",
    "    input_images[i] =transform(resize_img(label2masks(input_img,3)))\n",
    "    target_images[i] = transform(resize_img(target_img))\n",
    "    \n",
    "dataset = NiftiPairImageGenerator(\n",
    "        input_images,\n",
    "        target_images,\n",
    "        input_size=params['input_size'],\n",
    "        depth_size=params['depth_size'],\n",
    "        target_transform=transform,\n",
    "        full_channel_mask=True\n",
    "    )\n",
    "def cycle(dl):\n",
    "    while True:\n",
    "        for data in dl:\n",
    "            yield data\n",
    "dataloader= DataLoader(dataset, batch_size = params['batchsize'], shuffle=True, num_workers=1, pin_memory=True)"
   ]
  },
  {
   "cell_type": "code",
   "execution_count": 31,
   "id": "acc5bc4e",
   "metadata": {},
   "outputs": [
    {
     "data": {
      "text/plain": [
       "(64, 256, 256, 2)"
      ]
     },
     "execution_count": 31,
     "metadata": {},
     "output_type": "execute_result"
    }
   ],
   "source": [
    "label2masks(input_img,3).shape"
   ]
  },
  {
   "cell_type": "code",
   "execution_count": null,
   "id": "a9142cd4",
   "metadata": {},
   "outputs": [],
   "source": [
    "in_channels=3\n",
    "out_channels=1\n",
    "model = create_model(params[\"input_size\"], params[\"num_channels\"], params[\"num_res_blocks\"], in_channels=in_channels, out_channels=out_channels).to(device)\n",
    "\n",
    "diffusion = GaussianDiffusion(\n",
    "    model,\n",
    "    image_size = params[\"input_size\"],\n",
    "    depth_size = params[\"depth_size\"],\n",
    "    timesteps = params[\"timesteps\"],   # number of steps\n",
    "    loss_type = 'l1',    # L1 or L2\n",
    "    with_condition=params[\"with_condition\"],\n",
    "    channels=out_channels\n",
    ").to(device)"
   ]
  },
  {
   "cell_type": "code",
   "execution_count": 28,
   "id": "ced44c01",
   "metadata": {},
   "outputs": [],
   "source": [
    "def save_sample(diffusion, epoch, save_path, sample_shape, device, condition_tensors=None):\n",
    "    diffusion.eval()\n",
    "\n",
    "    # 샘플 생성\n",
    "    samples = diffusion.sample(batch_size=sample_shape[0], condition_tensors=condition_tensors)\n",
    "    samples = samples.cpu().numpy()  # (B, C, D, H, W)\n",
    "\n",
    "    os.makedirs(save_path, exist_ok=True)\n",
    "\n",
    "    for i in range(samples.shape[0]):\n",
    "        img = samples[i, 0]  # (D, H, W)\n",
    "        nifti_img = nib.Nifti1Image(img, affine=np.eye(4))\n",
    "        nib.save(nifti_img, os.path.join(save_path, f'sample_epoch{epoch}_idx{i}.nii.gz'))\n",
    "\n",
    "    print(f\"✅ Sample saved at epoch {epoch} to {save_path}\")\n"
   ]
  },
  {
   "cell_type": "code",
   "execution_count": 6,
   "id": "4e06f15b",
   "metadata": {},
   "outputs": [
    {
     "name": "stderr",
     "output_type": "stream",
     "text": [
      "Epoch 1/10000:   0%|          | 0/1113 [00:00<?, ?it/s]\n"
     ]
    },
    {
     "ename": "AttributeError",
     "evalue": "Caught AttributeError in DataLoader worker process 0.\nOriginal Traceback (most recent call last):\n  File \"/usr/local/lib/python3.12/dist-packages/torch/utils/data/_utils/worker.py\", line 349, in _worker_loop\n    data = fetcher.fetch(index)  # type: ignore[possibly-undefined]\n           ^^^^^^^^^^^^^^^^^^^^\n  File \"/usr/local/lib/python3.12/dist-packages/torch/utils/data/_utils/fetch.py\", line 52, in fetch\n    data = [self.dataset[idx] for idx in possibly_batched_index]\n            ~~~~~~~~~~~~^^^^^\n  File \"/tmp/ipykernel_165719/255002534.py\", line 49, in __getitem__\n    target_img = self.label2masks(self.target_image[index]).unsqueeze(0)\n                 ^^^^^^^^^^^^^^^^^^^^^^^^^^^^^^^^^^^^^^^^^^^^^^^^^^^^\nAttributeError: 'numpy.ndarray' object has no attribute 'unsqueeze'. Did you mean: 'squeeze'?\n",
     "output_type": "error",
     "traceback": [
      "\u001b[0;31m---------------------------------------------------------------------------\u001b[0m",
      "\u001b[0;31mAttributeError\u001b[0m                            Traceback (most recent call last)",
      "Cell \u001b[0;32mIn[6], line 9\u001b[0m\n\u001b[1;32m      7\u001b[0m diffusion\u001b[38;5;241m.\u001b[39mtrain()\n\u001b[1;32m      8\u001b[0m \u001b[38;5;28;01mwith\u001b[39;00m tqdm(dataloader, total\u001b[38;5;241m=\u001b[39m\u001b[38;5;28mlen\u001b[39m(dataloader), desc\u001b[38;5;241m=\u001b[39m\u001b[38;5;124mf\u001b[39m\u001b[38;5;124m\"\u001b[39m\u001b[38;5;124mEpoch \u001b[39m\u001b[38;5;132;01m{\u001b[39;00mepoch\u001b[38;5;241m+\u001b[39m\u001b[38;5;241m1\u001b[39m\u001b[38;5;132;01m}\u001b[39;00m\u001b[38;5;124m/\u001b[39m\u001b[38;5;132;01m{\u001b[39;00mnum_epochs\u001b[38;5;132;01m}\u001b[39;00m\u001b[38;5;124m\"\u001b[39m) \u001b[38;5;28;01mas\u001b[39;00m pbar:\n\u001b[0;32m----> 9\u001b[0m \u001b[43m    \u001b[49m\u001b[38;5;28;43;01mfor\u001b[39;49;00m\u001b[43m \u001b[49m\u001b[43mstep\u001b[49m\u001b[43m,\u001b[49m\u001b[43m \u001b[49m\u001b[43mdata\u001b[49m\u001b[43m \u001b[49m\u001b[38;5;129;43;01min\u001b[39;49;00m\u001b[43m \u001b[49m\u001b[38;5;28;43menumerate\u001b[39;49m\u001b[43m(\u001b[49m\u001b[43mpbar\u001b[49m\u001b[43m)\u001b[49m\u001b[43m:\u001b[49m\n\u001b[1;32m     10\u001b[0m \u001b[43m        \u001b[49m\u001b[38;5;28;43;01mif\u001b[39;49;00m\u001b[43m \u001b[49m\u001b[43mparams\u001b[49m\u001b[43m[\u001b[49m\u001b[38;5;124;43m'\u001b[39;49m\u001b[38;5;124;43mwith_condition\u001b[39;49m\u001b[38;5;124;43m'\u001b[39;49m\u001b[43m]\u001b[49m\u001b[43m:\u001b[49m\n\u001b[1;32m     11\u001b[0m \u001b[43m            \u001b[49m\u001b[43minput_tensors\u001b[49m\u001b[43m \u001b[49m\u001b[38;5;241;43m=\u001b[39;49m\u001b[43m \u001b[49m\u001b[43mdata\u001b[49m\u001b[43m[\u001b[49m\u001b[38;5;124;43m'\u001b[39;49m\u001b[38;5;124;43minput\u001b[39;49m\u001b[38;5;124;43m'\u001b[39;49m\u001b[43m]\u001b[49m\u001b[38;5;241;43m.\u001b[39;49m\u001b[43mto\u001b[49m\u001b[43m(\u001b[49m\u001b[43mdevice\u001b[49m\u001b[43m)\u001b[49m\u001b[43m    \u001b[49m\u001b[38;5;66;43;03m# condition\u001b[39;49;00m\n",
      "File \u001b[0;32m/usr/local/lib/python3.12/dist-packages/tqdm/std.py:1181\u001b[0m, in \u001b[0;36mtqdm.__iter__\u001b[0;34m(self)\u001b[0m\n\u001b[1;32m   1178\u001b[0m time \u001b[38;5;241m=\u001b[39m \u001b[38;5;28mself\u001b[39m\u001b[38;5;241m.\u001b[39m_time\n\u001b[1;32m   1180\u001b[0m \u001b[38;5;28;01mtry\u001b[39;00m:\n\u001b[0;32m-> 1181\u001b[0m \u001b[43m    \u001b[49m\u001b[38;5;28;43;01mfor\u001b[39;49;00m\u001b[43m \u001b[49m\u001b[43mobj\u001b[49m\u001b[43m \u001b[49m\u001b[38;5;129;43;01min\u001b[39;49;00m\u001b[43m \u001b[49m\u001b[43miterable\u001b[49m\u001b[43m:\u001b[49m\n\u001b[1;32m   1182\u001b[0m \u001b[43m        \u001b[49m\u001b[38;5;28;43;01myield\u001b[39;49;00m\u001b[43m \u001b[49m\u001b[43mobj\u001b[49m\n\u001b[1;32m   1183\u001b[0m \u001b[43m        \u001b[49m\u001b[38;5;66;43;03m# Update and possibly print the progressbar.\u001b[39;49;00m\n\u001b[1;32m   1184\u001b[0m \u001b[43m        \u001b[49m\u001b[38;5;66;43;03m# Note: does not call self.update(1) for speed optimisation.\u001b[39;49;00m\n",
      "File \u001b[0;32m/usr/local/lib/python3.12/dist-packages/torch/utils/data/dataloader.py:701\u001b[0m, in \u001b[0;36m_BaseDataLoaderIter.__next__\u001b[0;34m(self)\u001b[0m\n\u001b[1;32m    698\u001b[0m \u001b[38;5;28;01mif\u001b[39;00m \u001b[38;5;28mself\u001b[39m\u001b[38;5;241m.\u001b[39m_sampler_iter \u001b[38;5;129;01mis\u001b[39;00m \u001b[38;5;28;01mNone\u001b[39;00m:\n\u001b[1;32m    699\u001b[0m     \u001b[38;5;66;03m# TODO(https://github.com/pytorch/pytorch/issues/76750)\u001b[39;00m\n\u001b[1;32m    700\u001b[0m     \u001b[38;5;28mself\u001b[39m\u001b[38;5;241m.\u001b[39m_reset()  \u001b[38;5;66;03m# type: ignore[call-arg]\u001b[39;00m\n\u001b[0;32m--> 701\u001b[0m data \u001b[38;5;241m=\u001b[39m \u001b[38;5;28;43mself\u001b[39;49m\u001b[38;5;241;43m.\u001b[39;49m\u001b[43m_next_data\u001b[49m\u001b[43m(\u001b[49m\u001b[43m)\u001b[49m\n\u001b[1;32m    702\u001b[0m \u001b[38;5;28mself\u001b[39m\u001b[38;5;241m.\u001b[39m_num_yielded \u001b[38;5;241m+\u001b[39m\u001b[38;5;241m=\u001b[39m \u001b[38;5;241m1\u001b[39m\n\u001b[1;32m    703\u001b[0m \u001b[38;5;28;01mif\u001b[39;00m (\n\u001b[1;32m    704\u001b[0m     \u001b[38;5;28mself\u001b[39m\u001b[38;5;241m.\u001b[39m_dataset_kind \u001b[38;5;241m==\u001b[39m _DatasetKind\u001b[38;5;241m.\u001b[39mIterable\n\u001b[1;32m    705\u001b[0m     \u001b[38;5;129;01mand\u001b[39;00m \u001b[38;5;28mself\u001b[39m\u001b[38;5;241m.\u001b[39m_IterableDataset_len_called \u001b[38;5;129;01mis\u001b[39;00m \u001b[38;5;129;01mnot\u001b[39;00m \u001b[38;5;28;01mNone\u001b[39;00m\n\u001b[1;32m    706\u001b[0m     \u001b[38;5;129;01mand\u001b[39;00m \u001b[38;5;28mself\u001b[39m\u001b[38;5;241m.\u001b[39m_num_yielded \u001b[38;5;241m>\u001b[39m \u001b[38;5;28mself\u001b[39m\u001b[38;5;241m.\u001b[39m_IterableDataset_len_called\n\u001b[1;32m    707\u001b[0m ):\n",
      "File \u001b[0;32m/usr/local/lib/python3.12/dist-packages/torch/utils/data/dataloader.py:1465\u001b[0m, in \u001b[0;36m_MultiProcessingDataLoaderIter._next_data\u001b[0;34m(self)\u001b[0m\n\u001b[1;32m   1463\u001b[0m \u001b[38;5;28;01melse\u001b[39;00m:\n\u001b[1;32m   1464\u001b[0m     \u001b[38;5;28;01mdel\u001b[39;00m \u001b[38;5;28mself\u001b[39m\u001b[38;5;241m.\u001b[39m_task_info[idx]\n\u001b[0;32m-> 1465\u001b[0m     \u001b[38;5;28;01mreturn\u001b[39;00m \u001b[38;5;28;43mself\u001b[39;49m\u001b[38;5;241;43m.\u001b[39;49m\u001b[43m_process_data\u001b[49m\u001b[43m(\u001b[49m\u001b[43mdata\u001b[49m\u001b[43m)\u001b[49m\n",
      "File \u001b[0;32m/usr/local/lib/python3.12/dist-packages/torch/utils/data/dataloader.py:1491\u001b[0m, in \u001b[0;36m_MultiProcessingDataLoaderIter._process_data\u001b[0;34m(self, data)\u001b[0m\n\u001b[1;32m   1489\u001b[0m \u001b[38;5;28mself\u001b[39m\u001b[38;5;241m.\u001b[39m_try_put_index()\n\u001b[1;32m   1490\u001b[0m \u001b[38;5;28;01mif\u001b[39;00m \u001b[38;5;28misinstance\u001b[39m(data, ExceptionWrapper):\n\u001b[0;32m-> 1491\u001b[0m     \u001b[43mdata\u001b[49m\u001b[38;5;241;43m.\u001b[39;49m\u001b[43mreraise\u001b[49m\u001b[43m(\u001b[49m\u001b[43m)\u001b[49m\n\u001b[1;32m   1492\u001b[0m \u001b[38;5;28;01mreturn\u001b[39;00m data\n",
      "File \u001b[0;32m/usr/local/lib/python3.12/dist-packages/torch/_utils.py:733\u001b[0m, in \u001b[0;36mExceptionWrapper.reraise\u001b[0;34m(self)\u001b[0m\n\u001b[1;32m    729\u001b[0m \u001b[38;5;28;01mexcept\u001b[39;00m \u001b[38;5;167;01mTypeError\u001b[39;00m:\n\u001b[1;32m    730\u001b[0m     \u001b[38;5;66;03m# If the exception takes multiple arguments, don't try to\u001b[39;00m\n\u001b[1;32m    731\u001b[0m     \u001b[38;5;66;03m# instantiate since we don't know how to\u001b[39;00m\n\u001b[1;32m    732\u001b[0m     \u001b[38;5;28;01mraise\u001b[39;00m \u001b[38;5;167;01mRuntimeError\u001b[39;00m(msg) \u001b[38;5;28;01mfrom\u001b[39;00m \u001b[38;5;28;01mNone\u001b[39;00m\n\u001b[0;32m--> 733\u001b[0m \u001b[38;5;28;01mraise\u001b[39;00m exception\n",
      "\u001b[0;31mAttributeError\u001b[0m: Caught AttributeError in DataLoader worker process 0.\nOriginal Traceback (most recent call last):\n  File \"/usr/local/lib/python3.12/dist-packages/torch/utils/data/_utils/worker.py\", line 349, in _worker_loop\n    data = fetcher.fetch(index)  # type: ignore[possibly-undefined]\n           ^^^^^^^^^^^^^^^^^^^^\n  File \"/usr/local/lib/python3.12/dist-packages/torch/utils/data/_utils/fetch.py\", line 52, in fetch\n    data = [self.dataset[idx] for idx in possibly_batched_index]\n            ~~~~~~~~~~~~^^^^^\n  File \"/tmp/ipykernel_165719/255002534.py\", line 49, in __getitem__\n    target_img = self.label2masks(self.target_image[index]).unsqueeze(0)\n                 ^^^^^^^^^^^^^^^^^^^^^^^^^^^^^^^^^^^^^^^^^^^^^^^^^^^^\nAttributeError: 'numpy.ndarray' object has no attribute 'unsqueeze'. Did you mean: 'squeeze'?\n"
     ]
    }
   ],
   "source": [
    "optimizer = torch.optim.Adam(diffusion.parameters(), lr=2e-5)\n",
    "num_epochs = params['epochs']\n",
    "save_every = params['save_and_sample_every']\n",
    "\n",
    "for epoch in range(num_epochs):\n",
    "    sum_loss=0\n",
    "    diffusion.train()\n",
    "    with tqdm(dataloader, total=len(dataloader), desc=f\"Epoch {epoch+1}/{num_epochs}\") as pbar:\n",
    "        for step, data in enumerate(pbar):\n",
    "            if params['with_condition']:\n",
    "                input_tensors = data['input'].to(device)    # condition\n",
    "                target_tensors = data['target'].to(device)  # target\n",
    "                loss = diffusion(target_tensors, condition_tensors=input_tensors)\n",
    "            else:\n",
    "                input_tensors = data.to(device)\n",
    "                loss = diffusion(input_tensors)\n",
    "\n",
    "            loss = loss.sum() / params['batchsize']\n",
    "            loss.backward()\n",
    "            optimizer.step()\n",
    "            optimizer.zero_grad()\n",
    "            sum_loss += loss.item()\n",
    "            pbar.set_postfix(loss=sum_loss/(step+1))\n",
    "\n",
    "    # 모델 저장\n",
    "    if (epoch + 1) % save_every == 0 or (epoch + 1) == num_epochs:\n",
    "        os.makedirs(params[\"model_save_path\"], exist_ok=True)\n",
    "        torch.save(diffusion.state_dict(), os.path.join(params[\"model_save_path\"], f\"model-{epoch+1}.pt\"))\n",
    "        print(f\"✅ Model saved at epoch {epoch+1}\")\n",
    "        \n",
    "    condition_example = None\n",
    "    if params[\"with_condition\"]:\n",
    "        data_example = next(iter(dataloader))\n",
    "        condition_example = data_example['input'].to(device)[:1]  # 1개만\n",
    "    save_sample(\n",
    "        diffusion=diffusion,\n",
    "        epoch=epoch + 1,\n",
    "        save_path=os.path.join(params[\"model_save_path\"], \"samples\"),\n",
    "        sample_shape=(1, diffusion.channels, diffusion.depth_size, diffusion.image_size, diffusion.image_size),\n",
    "        device=device,\n",
    "        condition_tensors=condition_example\n",
    "    )"
   ]
  },
  {
   "cell_type": "code",
   "execution_count": null,
   "id": "89b30a28",
   "metadata": {},
   "outputs": [],
   "source": [
    "len(dataloader)"
   ]
  }
 ],
 "metadata": {
  "kernelspec": {
   "display_name": "Python 3",
   "language": "python",
   "name": "python3"
  },
  "language_info": {
   "codemirror_mode": {
    "name": "ipython",
    "version": 3
   },
   "file_extension": ".py",
   "mimetype": "text/x-python",
   "name": "python",
   "nbconvert_exporter": "python",
   "pygments_lexer": "ipython3",
   "version": "3.12.3"
  }
 },
 "nbformat": 4,
 "nbformat_minor": 5
}
