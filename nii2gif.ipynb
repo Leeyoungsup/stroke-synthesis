{
 "cells": [
  {
   "cell_type": "code",
   "execution_count": 17,
   "id": "30c562b6",
   "metadata": {},
   "outputs": [
    {
     "name": "stdout",
     "output_type": "stream",
     "text": [
      "GIF saved to ../../result/translation/real_A2.gif\n"
     ]
    }
   ],
   "source": [
    "import nibabel as nib\n",
    "import numpy as np\n",
    "import imageio\n",
    "import os\n",
    "\n",
    "def nii_to_gif(nii_path, gif_path, axis=0, fps=5, vmin=None, vmax=None):\n",
    "    # nii.gz 파일 로드\n",
    "    img = nib.load(nii_path)\n",
    "    data = img.get_fdata()\n",
    "\n",
    "    # 정규화\n",
    "    data = np.nan_to_num(data)\n",
    "    if vmin is None:\n",
    "        vmin = np.percentile(data,0)\n",
    "    if vmax is None:\n",
    "        vmax = np.percentile(data, 100)\n",
    "    data = np.clip(data, vmin, vmax)\n",
    "    data = ((data - vmin) / (vmax - vmin) * 255).astype(np.uint8)\n",
    "\n",
    "    # axis 기준으로 슬라이스\n",
    "    if axis == 0:\n",
    "        slices = data\n",
    "    elif axis == 1:\n",
    "        slices = np.transpose(data, (1, 0, 2))\n",
    "    elif axis == 2:\n",
    "        slices = np.transpose(data, (2, 0, 1))\n",
    "    else:\n",
    "        raise ValueError(\"axis must be 0, 1, or 2\")\n",
    "\n",
    "    # GIF 만들기\n",
    "    images = [slices[i] for i in range(slices.shape[0])]\n",
    "    imageio.mimsave(gif_path, images, fps=fps,loop=0)\n",
    "    print(f\"GIF saved to {gif_path}\")\n",
    "\n",
    "# 예시 사용법\n",
    "nii_to_gif(\"../../result/translation/3D_MRI2CT/real_A_epoch558.nii.gz\", \"../../result/translation/real_A2.gif\", axis=0, fps=10)"
   ]
  }
 ],
 "metadata": {
  "kernelspec": {
   "display_name": "LeeYS",
   "language": "python",
   "name": "python3"
  },
  "language_info": {
   "codemirror_mode": {
    "name": "ipython",
    "version": 3
   },
   "file_extension": ".py",
   "mimetype": "text/x-python",
   "name": "python",
   "nbconvert_exporter": "python",
   "pygments_lexer": "ipython3",
   "version": "3.10.14"
  }
 },
 "nbformat": 4,
 "nbformat_minor": 5
}
