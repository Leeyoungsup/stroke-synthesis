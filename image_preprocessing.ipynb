{
 "cells": [
  {
   "cell_type": "code",
   "execution_count": 8,
   "metadata": {},
   "outputs": [],
   "source": [
    "import cv2\n",
    "import numpy as np\n",
    "import os\n",
    "import sys\n",
    "from PIL import Image\n",
    "from glob import glob\n",
    "from tqdm import tqdm   \n",
    "def create_dir(path):\n",
    "    if not os.path.exists(path):\n",
    "        os.makedirs(path)\n",
    "        "
   ]
  },
  {
   "cell_type": "code",
   "execution_count": 11,
   "metadata": {},
   "outputs": [
    {
     "name": "stderr",
     "output_type": "stream",
     "text": [
      "100%|██████████| 2435/2435 [33:54<00:00,  1.20it/s]\n"
     ]
    }
   ],
   "source": [
    "folder_list=glob('../../data/stroke_CT/**/**/')\n",
    "for i in tqdm(range(len(folder_list))):\n",
    "    folder=folder_list[i]\n",
    "\n",
    "    create_dir(folder.replace('stroke_CT','stroke_CT_preprocessed'))\n",
    "    img_list=glob(folder+'*.png')\n",
    "    for j in range(len(img_list)):\n",
    "        img_path=img_list[j]\n",
    "        img=Image.open(img_path)\n",
    "        img=img.resize((512,512))\n",
    "        img.save(img_path.replace('stroke_CT','stroke_CT_preprocessed'))\n",
    "\n",
    "        \n"
   ]
  }
 ],
 "metadata": {
  "kernelspec": {
   "display_name": "LeeYS",
   "language": "python",
   "name": "python3"
  },
  "language_info": {
   "codemirror_mode": {
    "name": "ipython",
    "version": 3
   },
   "file_extension": ".py",
   "mimetype": "text/x-python",
   "name": "python",
   "nbconvert_exporter": "python",
   "pygments_lexer": "ipython3",
   "version": "3.10.14"
  }
 },
 "nbformat": 4,
 "nbformat_minor": 2
}
