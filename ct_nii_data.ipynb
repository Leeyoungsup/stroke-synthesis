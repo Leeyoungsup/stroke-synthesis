{
 "cells": [
  {
   "cell_type": "code",
   "execution_count": 1,
   "metadata": {},
   "outputs": [],
   "source": [
    "import os\n",
    "import numpy as np\n",
    "import pydicom\n",
    "import nibabel as nib\n",
    "from PIL import Image\n",
    "import matplotlib.pyplot as plt\n",
    "import cv2\n",
    "from glob import glob\n",
    "from tqdm import tqdm"
   ]
  },
  {
   "cell_type": "code",
   "execution_count": 2,
   "metadata": {},
   "outputs": [],
   "source": [
    "def process_image(gray):\n",
    "    # 엣지 감지 및 팽창 (Canny + Dilate)\n",
    "    edges = cv2.Canny(gray, 50, 150)\n",
    "    dilated = cv2.dilate(edges, np.ones((3,3), np.uint8), iterations=2)\n",
    "\n",
    "    # 컨투어 검출\n",
    "    contours, _ = cv2.findContours(dilated, cv2.RETR_EXTERNAL, cv2.CHAIN_APPROX_SIMPLE)\n",
    "\n",
    "    # 기본 마스크 초기화\n",
    "    mask_1 = np.zeros_like(gray, dtype=np.uint8)  # 큰 컨투어만 담을 마스크\n",
    "    final_gray = gray.copy()                      # 최종 처리된 이미지\n",
    "    mask_temp=np.zeros_like(gray, dtype=np.uint8)\n",
    "    if len(contours) > 1:\n",
    "        contours = sorted(contours, key=cv2.contourArea, reverse=True)\n",
    "        largest_contour = contours[0]\n",
    "        small_contours = contours[1:]\n",
    "\n",
    "        # 작은 컨투어 마스크\n",
    "        small_mask = np.zeros_like(gray, dtype=np.uint8)\n",
    "        cv2.fillPoly(small_mask, small_contours, 255)\n",
    "        final_gray[small_mask > 0] = 0  # 작은 컨투어 제거\n",
    "\n",
    "        # 큰 컨투어만 채운 마스크\n",
    "        cv2.fillPoly(mask_1, [largest_contour], 255)\n",
    "        mask_temp[mask_1 > 0] = 255\n",
    "    return final_gray, mask_temp\n",
    "def create_dir(path):\n",
    "    if not os.path.exists(path):\n",
    "        os.makedirs(path)"
   ]
  },
  {
   "cell_type": "code",
   "execution_count": 3,
   "metadata": {},
   "outputs": [
    {
     "name": "stderr",
     "output_type": "stream",
     "text": [
      "100%|██████████| 1010/1010 [07:06<00:00,  2.37it/s]\n",
      "100%|██████████| 689/689 [05:14<00:00,  2.19it/s]\n",
      "100%|██████████| 474/474 [03:46<00:00,  2.09it/s]\n"
     ]
    }
   ],
   "source": [
    "def window_and_normalize(img, dcm):\n",
    "    # HU 변환\n",
    "    slope = dcm.RescaleSlope if 'RescaleSlope' in dcm else 1\n",
    "    intercept = dcm.RescaleIntercept if 'RescaleIntercept' in dcm else 0\n",
    "    img = img * slope + intercept\n",
    "\n",
    "    # WL/WW 적용\n",
    "    wl = dcm.WindowCenter[0] if isinstance(dcm.WindowCenter, pydicom.multival.MultiValue) else dcm.WindowCenter\n",
    "    ww = dcm.WindowWidth[0] if isinstance(dcm.WindowWidth, pydicom.multival.MultiValue) else dcm.WindowWidth\n",
    "\n",
    "    if wl is not None and ww is not None:\n",
    "        min_val = wl - ww / 2\n",
    "        max_val = wl + ww / 2\n",
    "        img = np.clip(img, min_val, max_val)\n",
    "        img = (img - min_val) / (max_val - min_val)\n",
    "    else:\n",
    "        # fallback\n",
    "        img = (img - np.min(img)) / (np.max(img) - np.min(img) + 1e-8)\n",
    "\n",
    "    # [-1, 1] 스케일링\n",
    "    img = img * 2 - 1\n",
    "    return img\n",
    "\n",
    "# ==========================\n",
    "# ⚙️ 설정\n",
    "# ==========================\n",
    "class_list = ['Ischemic', 'Hemorrhagic', 'Normal']\n",
    "save_path='../../data/stroke_ct_nii/'\n",
    "for i in range(len(class_list)):\n",
    "    slice_list = sorted(glob(f'../../data/raw_dicom/CT/{class_list[i]}/*'))\n",
    "    os.makedirs(f'{save_path}images/{class_list[i]}', exist_ok=True)\n",
    "    os.makedirs(f'{save_path}masks/{class_list[i]}', exist_ok=True)\n",
    "    for j in tqdm(range(len(slice_list))):\n",
    "        dcm_list = sorted(glob(f'{slice_list[j]}/*.dcm'))\n",
    "        nii_name = os.path.basename(slice_list[j])\n",
    "\n",
    "        volume_img = []\n",
    "        volume_mask = []\n",
    "\n",
    "        for dcm_file in dcm_list:\n",
    "            dcm = pydicom.dcmread(dcm_file)\n",
    "            img = dcm.pixel_array\n",
    "            img_norm = window_and_normalize(img, dcm)\n",
    "\n",
    "            # 이미지 전처리 + 마스크 추출\n",
    "            gray = (img_norm * 127.5 + 127.5).astype(np.uint8)\n",
    "            img_proc, mask = process_image(gray)\n",
    "            img_proc = cv2.resize(img_proc, (128, 128), interpolation=cv2.INTER_LINEAR)\n",
    "            volume_img.append(img_proc.astype(np.float32)/127.5-1)\n",
    "            mask = cv2.resize(mask, (128, 128), interpolation=cv2.INTER_NEAREST)\n",
    "            volume_mask.append((mask > 0).astype(np.uint8))\n",
    "\n",
    "        # Stack 3D\n",
    "        volume_img = np.stack(volume_img, axis=0)   # shape: (D, H, W)\n",
    "        volume_mask = np.stack(volume_mask, axis=0) # shape: (D, H, W)\n",
    "\n",
    "        # Save as NIfTI\n",
    "        nii_img = nib.Nifti1Image(volume_img, affine=np.eye(4))\n",
    "        nii_mask = nib.Nifti1Image(volume_mask, affine=np.eye(4))\n",
    "\n",
    "        nib.save(nii_img, f'{save_path}images/{class_list[i]}/{nii_name}.nii.gz')\n",
    "        nib.save(nii_mask, f'{save_path}masks/{class_list[i]}/{nii_name}.nii.gz')"
   ]
  },
  {
   "cell_type": "code",
   "execution_count": 4,
   "metadata": {},
   "outputs": [
    {
     "data": {
      "text/plain": [
       "'../../data/stroke_ct_nii/images/Ischemic/ANO1_0005.nii.gz'"
      ]
     },
     "execution_count": 4,
     "metadata": {},
     "output_type": "execute_result"
    }
   ],
   "source": [
    "'../../data/stroke_ct_nii/images/Ischemic/ANO1_0005.nii.gz'"
   ]
  }
 ],
 "metadata": {
  "kernelspec": {
   "display_name": "LeeYS",
   "language": "python",
   "name": "python3"
  },
  "language_info": {
   "codemirror_mode": {
    "name": "ipython",
    "version": 3
   },
   "file_extension": ".py",
   "mimetype": "text/x-python",
   "name": "python",
   "nbconvert_exporter": "python",
   "pygments_lexer": "ipython3",
   "version": "3.10.14"
  }
 },
 "nbformat": 4,
 "nbformat_minor": 2
}
