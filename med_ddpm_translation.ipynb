{
 "cells": [
  {
   "cell_type": "code",
   "execution_count": 7,
   "id": "b41ff1d0",
   "metadata": {},
   "outputs": [
    {
     "data": {
      "text/plain": [
       "device(type='cuda', index=0)"
      ]
     },
     "execution_count": 7,
     "metadata": {},
     "output_type": "execute_result"
    }
   ],
   "source": [
    "from torchvision.transforms import RandomCrop, Compose, ToPILImage, Resize, ToTensor, Lambda\n",
    "from med_ddpm.diffusion_model.trainer import GaussianDiffusion, Trainer\n",
    "from med_ddpm.diffusion_model.unet import create_model\n",
    "import argparse\n",
    "import torch\n",
    "import os \n",
    "from sklearn.preprocessing import MinMaxScaler\n",
    "from torch.utils.data import Dataset\n",
    "from torchvision.transforms import Compose, ToTensor, Lambda\n",
    "from glob import glob\n",
    "import matplotlib.pyplot as plt\n",
    "import nibabel as nib\n",
    "import torchio as tio\n",
    "import numpy as np\n",
    "import torch\n",
    "from tqdm import tqdm\n",
    "import re\n",
    "import os\n",
    "device = torch.device(\"cuda:0\" if torch.cuda.is_available() else \"cpu\")\n",
    "device"
   ]
  },
  {
   "cell_type": "code",
   "execution_count": 2,
   "id": "2df6b982",
   "metadata": {},
   "outputs": [],
   "source": [
    "params = {\n",
    "    \"with_condition\": True,\n",
    "    \"inputfolder\": \"../../data/registration_data/DWI/\",\n",
    "    \"targetfolder\": \"../../data/registration_data/CT/\",\n",
    "    \"batchsize\": 1,\n",
    "    \"epochs\": 10000,\n",
    "    \"input_size\": 256,\n",
    "    \"depth_size\": 64,\n",
    "    \"num_channels\": 64,\n",
    "    \"num_res_blocks\": 1,\n",
    "    \"timesteps\": 250,\n",
    "    \"save_and_sample_every\": 100,\n",
    "    \"model_save_path\": \"../../model/med_ddpm_translation/dwi2ct/\",\n",
    "    \"resume_weight\": \"../../model/med_ddpm/mri/model-17.pt\"\n",
    "}"
   ]
  },
  {
   "cell_type": "code",
   "execution_count": null,
   "id": "688833e2",
   "metadata": {},
   "outputs": [
    {
     "name": "stderr",
     "output_type": "stream",
     "text": [
      "100%|██████████| 724/724 [03:57<00:00,  3.04it/s]\n"
     ]
    }
   ],
   "source": [
    "transform = Compose([\n",
    "    Lambda(lambda t: torch.tensor(t).float()),\n",
    "    Lambda(lambda t: (t * 2) - 1),\n",
    "    Lambda(lambda t: t.unsqueeze(0))\n",
    "])\n",
    "class NiftiPairImageGenerator(Dataset):\n",
    "    def __init__(self,\n",
    "            input_image,\n",
    "            target_image,\n",
    "            input_size: int,\n",
    "            depth_size: int,\n",
    "            input_channel: int = 3,\n",
    "            target_transform=None,\n",
    "            full_channel_mask=False,\n",
    "            combine_output=False\n",
    "        ):\n",
    "\n",
    "        self.input_image = input_image\n",
    "        self.target_image = target_image\n",
    "        self.input_size = input_size\n",
    "        self.depth_size = depth_size\n",
    "        self.input_channel = input_channel\n",
    "        self.scaler = MinMaxScaler()\n",
    "        self.target_transform = target_transform\n",
    "        self.full_channel_mask = full_channel_mask\n",
    "        self.combine_output = combine_output\n",
    "\n",
    "\n",
    "    def plot(self, index, n_slice=30):\n",
    "        data = self[index]\n",
    "        input_img = data['input']\n",
    "        target_img = data['target']\n",
    "        plt.subplot(1, 2, 1)\n",
    "        plt.imshow(input_img[:, :, n_slice])\n",
    "        plt.subplot(1, 2, 2)\n",
    "        plt.imshow(target_img[:, :, n_slice])\n",
    "        plt.show()\n",
    "\n",
    "    def __len__(self):\n",
    "        return len(self.pair_files)\n",
    "\n",
    "    def __getitem__(self, index):\n",
    "        input_img = self.input_image[index]\n",
    "        target_img = self.target_image[index]\n",
    "      \n",
    "\n",
    "        if self.combine_output:\n",
    "            return torch.cat([target_img, input_img], 0)\n",
    "\n",
    "        return {'input':input_img, 'target':target_img}\n",
    "\n",
    "def resize_img(img):\n",
    "    d,h, w = img.shape\n",
    "    if h !=  params['input_size'] or w !=  params['input_size'] or d != params['depth_size']:\n",
    "        img = tio.ScalarImage(tensor=img[np.newaxis, ...])\n",
    "        cop = tio.Resize((params['depth_size'], params['input_size'],  params['input_size']))\n",
    "        img = np.asarray(cop(img))[0]\n",
    "    return img \n",
    "input_list=glob(params['inputfolder']+\"*.nii.gz\")\n",
    "target_list=[f.replace(params['inputfolder'], params['targetfolder']) for f in input_list]\n",
    "input_images=torch.zeros((len(input_list), params['depth_size'], params['input_size'], params['input_size']))\n",
    "target_images=torch.zeros((len(target_list), params['depth_size'], params['input_size'], params['input_size']))\n",
    "for i in tqdm(range(len(input_list))):\n",
    "    input_img = nib.load(input_list[i]).get_fdata()\n",
    "    target_img = nib.load(target_list[i]).get_fdata()\n",
    "    input_img = (input_img - np.min(input_img)) / (np.max(input_img) - np.min(input_img) + 1e-8)\n",
    "    target_img = (target_img - np.min(target_img)) / (np.max(target_img) - np.min(target_img) + 1e-8)\n",
    "    input_images[i] =transform(resize_img(input_img))\n",
    "    target_images[i] = transform(resize_img(target_img))\n",
    "    \n",
    "dataset = NiftiPairImageGenerator(\n",
    "        input_images,\n",
    "        target_images,\n",
    "        input_size=params['input_size'],\n",
    "        depth_size=params['depth_size'],\n",
    "        target_transform=transform,\n",
    "        full_channel_mask=True\n",
    "    )"
   ]
  },
  {
   "cell_type": "code",
   "execution_count": null,
   "id": "307b0efa",
   "metadata": {},
   "outputs": [
    {
     "data": {
      "text/plain": [
       "tensor(1.)"
      ]
     },
     "execution_count": 30,
     "metadata": {},
     "output_type": "execute_result"
    }
   ],
   "source": [
    "\n",
    "dataset = NiftiPairImageGenerator(\n",
    "        input_images,\n",
    "        target_images,\n",
    "        input_size=params['input_size'],\n",
    "        depth_size=params['depth_size'],\n",
    "        target_transform=transform,\n",
    "        full_channel_mask=True\n",
    "    )\n",
    "dataset[0]['target'].max()"
   ]
  },
  {
   "cell_type": "code",
   "execution_count": 4,
   "id": "a9142cd4",
   "metadata": {},
   "outputs": [],
   "source": [
    "in_channels=1\n",
    "out_channels=1\n",
    "model = create_model(params[\"input_size\"], params[\"num_channels\"], params[\"num_res_blocks\"], in_channels=in_channels, out_channels=out_channels).to(device)\n",
    "\n",
    "diffusion = GaussianDiffusion(\n",
    "    model,\n",
    "    image_size = params[\"input_size\"],\n",
    "    depth_size = params[\"depth_size\"],\n",
    "    timesteps = params[\"timesteps\"],   # number of steps\n",
    "    loss_type = 'l1',    # L1 or L2\n",
    "    with_condition=params[\"with_condition\"],\n",
    "    channels=out_channels\n",
    ").to(device)"
   ]
  }
 ],
 "metadata": {
  "kernelspec": {
   "display_name": "Python 3",
   "language": "python",
   "name": "python3"
  },
  "language_info": {
   "codemirror_mode": {
    "name": "ipython",
    "version": 3
   },
   "file_extension": ".py",
   "mimetype": "text/x-python",
   "name": "python",
   "nbconvert_exporter": "python",
   "pygments_lexer": "ipython3",
   "version": "3.12.3"
  }
 },
 "nbformat": 4,
 "nbformat_minor": 5
}
