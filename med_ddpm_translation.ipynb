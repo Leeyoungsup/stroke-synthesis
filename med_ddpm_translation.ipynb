{
 "cells": [
  {
   "cell_type": "code",
   "execution_count": 1,
   "id": "b41ff1d0",
   "metadata": {},
   "outputs": [
    {
     "name": "stdout",
     "output_type": "stream",
     "text": [
      "APEX: ON\n"
     ]
    },
    {
     "data": {
      "text/plain": [
       "device(type='cuda', index=0)"
      ]
     },
     "execution_count": 1,
     "metadata": {},
     "output_type": "execute_result"
    }
   ],
   "source": [
    "from torchvision.transforms import RandomCrop, Compose, ToPILImage, Resize, ToTensor, Lambda\n",
    "from med_ddpm.diffusion_model.trainer import GaussianDiffusion, Trainer\n",
    "from med_ddpm.diffusion_model.unet import create_model\n",
    "import argparse\n",
    "import torch\n",
    "import os \n",
    "from sklearn.preprocessing import MinMaxScaler\n",
    "from torch.utils.data import Dataset\n",
    "from torchvision.transforms import Compose, ToTensor, Lambda\n",
    "from glob import glob\n",
    "import matplotlib.pyplot as plt\n",
    "import nibabel as nib\n",
    "import torchio as tio\n",
    "import numpy as np\n",
    "import torch\n",
    "from tqdm import tqdm\n",
    "from torch.utils.data import DataLoader\n",
    "import re\n",
    "import os\n",
    "device = torch.device(\"cuda:0\" if torch.cuda.is_available() else \"cpu\")\n",
    "device"
   ]
  },
  {
   "cell_type": "code",
   "execution_count": null,
   "id": "2df6b982",
   "metadata": {},
   "outputs": [],
   "source": [
    "params = {\n",
    "    \"with_condition\": True,\n",
    "    \"inputfolder\": \"../../data/registration_data/DWI/\",\n",
    "    \"targetfolder\": \"../../data/registration_data/CT/\",\n",
    "    \"batchsize\": 1,\n",
    "    \"epochs\": 10000,\n",
    "    \"input_size\": 128,\n",
    "    \"depth_size\": 64,\n",
    "    \"num_channels\": 64,\n",
    "    \"num_res_blocks\": 1,\n",
    "    \"timesteps\": 250,\n",
    "    \"save_and_sample_every\": 100,\n",
    "    \"model_save_path\": \"../../model/med_ddpm_translation/dwi2ct/\",\n",
    "    \"resume_weight\": \"../../model/med_ddpm/mri/model-17.pt\"\n",
    "}"
   ]
  },
  {
   "cell_type": "code",
   "execution_count": 3,
   "id": "688833e2",
   "metadata": {},
   "outputs": [
    {
     "name": "stderr",
     "output_type": "stream",
     "text": [
      "100%|██████████| 724/724 [02:28<00:00,  4.88it/s]\n"
     ]
    }
   ],
   "source": [
    "transform = Compose([\n",
    "    Lambda(lambda t: torch.tensor(t).float()),\n",
    "    Lambda(lambda t: (t * 2) - 1),\n",
    "    Lambda(lambda t: t.unsqueeze(0))\n",
    "])\n",
    "class NiftiPairImageGenerator(Dataset):\n",
    "    def __init__(self,\n",
    "            input_image,\n",
    "            target_image,\n",
    "            input_size: int,\n",
    "            depth_size: int,\n",
    "            input_channel: int = 3,\n",
    "            target_transform=None,\n",
    "            full_channel_mask=False,\n",
    "            combine_output=False,\n",
    "            transform=None,\n",
    "        ):\n",
    "\n",
    "        self.input_image = input_image\n",
    "        self.target_image = target_image\n",
    "        self.input_size = input_size\n",
    "        self.depth_size = depth_size\n",
    "        self.input_channel = input_channel\n",
    "        self.scaler = MinMaxScaler()\n",
    "        self.target_transform = target_transform\n",
    "        self.full_channel_mask = full_channel_mask\n",
    "        self.combine_output = combine_output\n",
    "\n",
    "\n",
    "    def plot(self, index, n_slice=30):\n",
    "        data = self[index]\n",
    "        input_img = data['input']\n",
    "        target_img = data['target']\n",
    "        plt.subplot(1, 2, 1)\n",
    "        plt.imshow(input_img[n_slice,:, :])\n",
    "        plt.subplot(1, 2, 2)\n",
    "        plt.imshow(target_img[n_slice,:, :])\n",
    "        plt.show()\n",
    "\n",
    "    def __len__(self):\n",
    "        return len(self.input_image)\n",
    "\n",
    "    def __getitem__(self, index):\n",
    "        input_img = self.input_image[index].unsqueeze(0)\n",
    "        target_img = self.target_image[index].unsqueeze(0)\n",
    "      \n",
    "\n",
    "        if self.combine_output:\n",
    "            return torch.cat([target_img, input_img], 0)\n",
    "\n",
    "        return {'input':input_img, 'target':target_img}\n",
    "\n",
    "def resize_img(img):\n",
    "    d,h, w = img.shape\n",
    "    if h !=  params['input_size'] or w !=  params['input_size'] or d != params['depth_size']:\n",
    "        img = tio.ScalarImage(tensor=img[np.newaxis, ...])\n",
    "        cop = tio.Resize((params['depth_size'], params['input_size'],  params['input_size']))\n",
    "        img = np.asarray(cop(img))[0]\n",
    "    return img \n",
    "input_list=glob(params['inputfolder']+\"*.nii.gz\")\n",
    "target_list=[f.replace(params['inputfolder'], params['targetfolder']) for f in input_list]\n",
    "input_images=torch.zeros((len(input_list), params['depth_size'], params['input_size'], params['input_size']))\n",
    "target_images=torch.zeros((len(target_list), params['depth_size'], params['input_size'], params['input_size']))\n",
    "for i in tqdm(range(len(input_list))):\n",
    "    input_img = nib.load(input_list[i]).get_fdata()\n",
    "    target_img = nib.load(target_list[i]).get_fdata()\n",
    "    input_img = (input_img - np.min(input_img)) / (np.max(input_img) - np.min(input_img) + 1e-8)\n",
    "    target_img = (target_img - np.min(target_img)) / (np.max(target_img) - np.min(target_img) + 1e-8)\n",
    "    input_images[i] =transform(resize_img(input_img))\n",
    "    target_images[i] = transform(resize_img(target_img))\n",
    "    \n",
    "dataset = NiftiPairImageGenerator(\n",
    "        input_images,\n",
    "        target_images,\n",
    "        input_size=params['input_size'],\n",
    "        depth_size=params['depth_size'],\n",
    "        target_transform=transform,\n",
    "        full_channel_mask=True\n",
    "    )\n",
    "def cycle(dl):\n",
    "    while True:\n",
    "        for data in dl:\n",
    "            yield data\n",
    "dataloader= DataLoader(dataset, batch_size = params['batchsize'], shuffle=True, num_workers=1, pin_memory=True)"
   ]
  },
  {
   "cell_type": "code",
   "execution_count": 4,
   "id": "a9142cd4",
   "metadata": {},
   "outputs": [],
   "source": [
    "in_channels=2\n",
    "out_channels=1\n",
    "model = create_model(params[\"input_size\"], params[\"num_channels\"], params[\"num_res_blocks\"], in_channels=in_channels, out_channels=out_channels).to(device)\n",
    "\n",
    "diffusion = GaussianDiffusion(\n",
    "    model,\n",
    "    image_size = params[\"input_size\"],\n",
    "    depth_size = params[\"depth_size\"],\n",
    "    timesteps = params[\"timesteps\"],   # number of steps\n",
    "    loss_type = 'l1',    # L1 or L2\n",
    "    with_condition=params[\"with_condition\"],\n",
    "    channels=out_channels\n",
    ").to(device)"
   ]
  },
  {
   "cell_type": "code",
   "execution_count": 5,
   "id": "ced44c01",
   "metadata": {},
   "outputs": [],
   "source": [
    "def save_sample(diffusion, epoch, save_path, sample_shape, device, condition_tensors=None):\n",
    "    diffusion.eval()\n",
    "\n",
    "    # 샘플 생성\n",
    "    samples = diffusion.sample(batch_size=sample_shape[0], condition_tensors=condition_tensors)\n",
    "    samples = samples.cpu().numpy()  # (B, C, D, H, W)\n",
    "\n",
    "    os.makedirs(save_path, exist_ok=True)\n",
    "\n",
    "    for i in range(samples.shape[0]):\n",
    "        img = samples[i, 0]  # (D, H, W)\n",
    "        nifti_img = nib.Nifti1Image(img, affine=np.eye(4))\n",
    "        nib.save(nifti_img, os.path.join(save_path, f'sample_epoch{epoch}_idx{i}.nii.gz'))\n",
    "\n",
    "    print(f\"✅ Sample saved at epoch {epoch} to {save_path}\")\n"
   ]
  },
  {
   "cell_type": "code",
   "execution_count": 6,
   "id": "4e06f15b",
   "metadata": {},
   "outputs": [
    {
     "name": "stderr",
     "output_type": "stream",
     "text": [
      "Epoch 1/10000: 100%|██████████| 181/181 [01:31<00:00,  1.98it/s, loss=0.139]\n",
      "sampling loop time step: 100%|██████████| 250/250 [00:12<00:00, 20.40it/s]\n"
     ]
    },
    {
     "name": "stdout",
     "output_type": "stream",
     "text": [
      "✅ Sample saved at epoch 1 to ../../model/med_ddpm_translation/dwi2ct/samples\n"
     ]
    },
    {
     "name": "stderr",
     "output_type": "stream",
     "text": [
      "Epoch 2/10000: 100%|██████████| 181/181 [01:30<00:00,  1.99it/s, loss=0.0439]\n",
      "sampling loop time step: 100%|██████████| 250/250 [00:12<00:00, 20.53it/s]\n"
     ]
    },
    {
     "name": "stdout",
     "output_type": "stream",
     "text": [
      "✅ Sample saved at epoch 2 to ../../model/med_ddpm_translation/dwi2ct/samples\n"
     ]
    },
    {
     "name": "stderr",
     "output_type": "stream",
     "text": [
      "Epoch 3/10000: 100%|██████████| 181/181 [01:30<00:00,  1.99it/s, loss=0.0307]\n",
      "sampling loop time step: 100%|██████████| 250/250 [00:12<00:00, 20.54it/s]\n"
     ]
    },
    {
     "name": "stdout",
     "output_type": "stream",
     "text": [
      "✅ Sample saved at epoch 3 to ../../model/med_ddpm_translation/dwi2ct/samples\n"
     ]
    },
    {
     "name": "stderr",
     "output_type": "stream",
     "text": [
      "Epoch 4/10000: 100%|██████████| 181/181 [01:30<00:00,  1.99it/s, loss=0.0252]\n",
      "sampling loop time step: 100%|██████████| 250/250 [00:12<00:00, 20.53it/s]\n"
     ]
    },
    {
     "name": "stdout",
     "output_type": "stream",
     "text": [
      "✅ Sample saved at epoch 4 to ../../model/med_ddpm_translation/dwi2ct/samples\n"
     ]
    },
    {
     "name": "stderr",
     "output_type": "stream",
     "text": [
      "Epoch 5/10000: 100%|██████████| 181/181 [01:30<00:00,  1.99it/s, loss=0.0242]\n",
      "sampling loop time step: 100%|██████████| 250/250 [00:12<00:00, 20.53it/s]\n"
     ]
    },
    {
     "name": "stdout",
     "output_type": "stream",
     "text": [
      "✅ Sample saved at epoch 5 to ../../model/med_ddpm_translation/dwi2ct/samples\n"
     ]
    },
    {
     "name": "stderr",
     "output_type": "stream",
     "text": [
      "Epoch 6/10000: 100%|██████████| 181/181 [01:30<00:00,  1.99it/s, loss=0.0216]\n",
      "sampling loop time step: 100%|██████████| 250/250 [00:12<00:00, 20.53it/s]\n"
     ]
    },
    {
     "name": "stdout",
     "output_type": "stream",
     "text": [
      "✅ Sample saved at epoch 6 to ../../model/med_ddpm_translation/dwi2ct/samples\n"
     ]
    },
    {
     "name": "stderr",
     "output_type": "stream",
     "text": [
      "Epoch 7/10000: 100%|██████████| 181/181 [01:31<00:00,  1.99it/s, loss=0.0208]\n",
      "sampling loop time step: 100%|██████████| 250/250 [00:12<00:00, 20.53it/s]\n"
     ]
    },
    {
     "name": "stdout",
     "output_type": "stream",
     "text": [
      "✅ Sample saved at epoch 7 to ../../model/med_ddpm_translation/dwi2ct/samples\n"
     ]
    },
    {
     "name": "stderr",
     "output_type": "stream",
     "text": [
      "Epoch 8/10000:  14%|█▍        | 25/181 [00:13<01:22,  1.89it/s, loss=0.0222]\n"
     ]
    },
    {
     "ename": "KeyboardInterrupt",
     "evalue": "",
     "output_type": "error",
     "traceback": [
      "\u001b[0;31m---------------------------------------------------------------------------\u001b[0m",
      "\u001b[0;31mKeyboardInterrupt\u001b[0m                         Traceback (most recent call last)",
      "Cell \u001b[0;32mIn[6], line 19\u001b[0m\n\u001b[1;32m     16\u001b[0m     loss \u001b[38;5;241m=\u001b[39m diffusion(input_tensors)\n\u001b[1;32m     18\u001b[0m loss \u001b[38;5;241m=\u001b[39m loss\u001b[38;5;241m.\u001b[39msum() \u001b[38;5;241m/\u001b[39m params[\u001b[38;5;124m'\u001b[39m\u001b[38;5;124mbatchsize\u001b[39m\u001b[38;5;124m'\u001b[39m]\n\u001b[0;32m---> 19\u001b[0m \u001b[43mloss\u001b[49m\u001b[38;5;241;43m.\u001b[39;49m\u001b[43mbackward\u001b[49m\u001b[43m(\u001b[49m\u001b[43m)\u001b[49m\n\u001b[1;32m     20\u001b[0m optimizer\u001b[38;5;241m.\u001b[39mstep()\n\u001b[1;32m     21\u001b[0m optimizer\u001b[38;5;241m.\u001b[39mzero_grad()\n",
      "File \u001b[0;32m/usr/local/lib/python3.12/dist-packages/torch/_tensor.py:626\u001b[0m, in \u001b[0;36mTensor.backward\u001b[0;34m(self, gradient, retain_graph, create_graph, inputs)\u001b[0m\n\u001b[1;32m    616\u001b[0m \u001b[38;5;28;01mif\u001b[39;00m has_torch_function_unary(\u001b[38;5;28mself\u001b[39m):\n\u001b[1;32m    617\u001b[0m     \u001b[38;5;28;01mreturn\u001b[39;00m handle_torch_function(\n\u001b[1;32m    618\u001b[0m         Tensor\u001b[38;5;241m.\u001b[39mbackward,\n\u001b[1;32m    619\u001b[0m         (\u001b[38;5;28mself\u001b[39m,),\n\u001b[0;32m   (...)\u001b[0m\n\u001b[1;32m    624\u001b[0m         inputs\u001b[38;5;241m=\u001b[39minputs,\n\u001b[1;32m    625\u001b[0m     )\n\u001b[0;32m--> 626\u001b[0m \u001b[43mtorch\u001b[49m\u001b[38;5;241;43m.\u001b[39;49m\u001b[43mautograd\u001b[49m\u001b[38;5;241;43m.\u001b[39;49m\u001b[43mbackward\u001b[49m\u001b[43m(\u001b[49m\n\u001b[1;32m    627\u001b[0m \u001b[43m    \u001b[49m\u001b[38;5;28;43mself\u001b[39;49m\u001b[43m,\u001b[49m\u001b[43m \u001b[49m\u001b[43mgradient\u001b[49m\u001b[43m,\u001b[49m\u001b[43m \u001b[49m\u001b[43mretain_graph\u001b[49m\u001b[43m,\u001b[49m\u001b[43m \u001b[49m\u001b[43mcreate_graph\u001b[49m\u001b[43m,\u001b[49m\u001b[43m \u001b[49m\u001b[43minputs\u001b[49m\u001b[38;5;241;43m=\u001b[39;49m\u001b[43minputs\u001b[49m\n\u001b[1;32m    628\u001b[0m \u001b[43m\u001b[49m\u001b[43m)\u001b[49m\n",
      "File \u001b[0;32m/usr/local/lib/python3.12/dist-packages/torch/autograd/__init__.py:347\u001b[0m, in \u001b[0;36mbackward\u001b[0;34m(tensors, grad_tensors, retain_graph, create_graph, grad_variables, inputs)\u001b[0m\n\u001b[1;32m    342\u001b[0m     retain_graph \u001b[38;5;241m=\u001b[39m create_graph\n\u001b[1;32m    344\u001b[0m \u001b[38;5;66;03m# The reason we repeat the same comment below is that\u001b[39;00m\n\u001b[1;32m    345\u001b[0m \u001b[38;5;66;03m# some Python versions print out the first line of a multi-line function\u001b[39;00m\n\u001b[1;32m    346\u001b[0m \u001b[38;5;66;03m# calls in the traceback and some print out the last line\u001b[39;00m\n\u001b[0;32m--> 347\u001b[0m \u001b[43m_engine_run_backward\u001b[49m\u001b[43m(\u001b[49m\n\u001b[1;32m    348\u001b[0m \u001b[43m    \u001b[49m\u001b[43mtensors\u001b[49m\u001b[43m,\u001b[49m\n\u001b[1;32m    349\u001b[0m \u001b[43m    \u001b[49m\u001b[43mgrad_tensors_\u001b[49m\u001b[43m,\u001b[49m\n\u001b[1;32m    350\u001b[0m \u001b[43m    \u001b[49m\u001b[43mretain_graph\u001b[49m\u001b[43m,\u001b[49m\n\u001b[1;32m    351\u001b[0m \u001b[43m    \u001b[49m\u001b[43mcreate_graph\u001b[49m\u001b[43m,\u001b[49m\n\u001b[1;32m    352\u001b[0m \u001b[43m    \u001b[49m\u001b[43minputs\u001b[49m\u001b[43m,\u001b[49m\n\u001b[1;32m    353\u001b[0m \u001b[43m    \u001b[49m\u001b[43mallow_unreachable\u001b[49m\u001b[38;5;241;43m=\u001b[39;49m\u001b[38;5;28;43;01mTrue\u001b[39;49;00m\u001b[43m,\u001b[49m\n\u001b[1;32m    354\u001b[0m \u001b[43m    \u001b[49m\u001b[43maccumulate_grad\u001b[49m\u001b[38;5;241;43m=\u001b[39;49m\u001b[38;5;28;43;01mTrue\u001b[39;49;00m\u001b[43m,\u001b[49m\n\u001b[1;32m    355\u001b[0m \u001b[43m\u001b[49m\u001b[43m)\u001b[49m\n",
      "File \u001b[0;32m/usr/local/lib/python3.12/dist-packages/torch/autograd/graph.py:823\u001b[0m, in \u001b[0;36m_engine_run_backward\u001b[0;34m(t_outputs, *args, **kwargs)\u001b[0m\n\u001b[1;32m    821\u001b[0m     unregister_hooks \u001b[38;5;241m=\u001b[39m _register_logging_hooks_on_whole_graph(t_outputs)\n\u001b[1;32m    822\u001b[0m \u001b[38;5;28;01mtry\u001b[39;00m:\n\u001b[0;32m--> 823\u001b[0m     \u001b[38;5;28;01mreturn\u001b[39;00m \u001b[43mVariable\u001b[49m\u001b[38;5;241;43m.\u001b[39;49m\u001b[43m_execution_engine\u001b[49m\u001b[38;5;241;43m.\u001b[39;49m\u001b[43mrun_backward\u001b[49m\u001b[43m(\u001b[49m\u001b[43m  \u001b[49m\u001b[38;5;66;43;03m# Calls into the C++ engine to run the backward pass\u001b[39;49;00m\n\u001b[1;32m    824\u001b[0m \u001b[43m        \u001b[49m\u001b[43mt_outputs\u001b[49m\u001b[43m,\u001b[49m\u001b[43m \u001b[49m\u001b[38;5;241;43m*\u001b[39;49m\u001b[43margs\u001b[49m\u001b[43m,\u001b[49m\u001b[43m \u001b[49m\u001b[38;5;241;43m*\u001b[39;49m\u001b[38;5;241;43m*\u001b[39;49m\u001b[43mkwargs\u001b[49m\n\u001b[1;32m    825\u001b[0m \u001b[43m    \u001b[49m\u001b[43m)\u001b[49m  \u001b[38;5;66;03m# Calls into the C++ engine to run the backward pass\u001b[39;00m\n\u001b[1;32m    826\u001b[0m \u001b[38;5;28;01mfinally\u001b[39;00m:\n\u001b[1;32m    827\u001b[0m     \u001b[38;5;28;01mif\u001b[39;00m attach_logging_hooks:\n",
      "\u001b[0;31mKeyboardInterrupt\u001b[0m: "
     ]
    }
   ],
   "source": [
    "optimizer = torch.optim.Adam(diffusion.parameters(), lr=2e-5)\n",
    "num_epochs = params['epochs']\n",
    "save_every = params['save_and_sample_every']\n",
    "\n",
    "for epoch in range(num_epochs):\n",
    "    sum_loss=0\n",
    "    diffusion.train()\n",
    "    with tqdm(dataloader, total=len(dataloader), desc=f\"Epoch {epoch+1}/{num_epochs}\") as pbar:\n",
    "        for step, data in enumerate(pbar):\n",
    "            if params['with_condition']:\n",
    "                input_tensors = data['input'].to(device)    # condition\n",
    "                target_tensors = data['target'].to(device)  # target\n",
    "                loss = diffusion(target_tensors, condition_tensors=input_tensors)\n",
    "            else:\n",
    "                input_tensors = data.to(device)\n",
    "                loss = diffusion(input_tensors)\n",
    "\n",
    "            loss = loss.sum() / params['batchsize']\n",
    "            loss.backward()\n",
    "            optimizer.step()\n",
    "            optimizer.zero_grad()\n",
    "            sum_loss += loss.item()\n",
    "            pbar.set_postfix(loss=sum_loss/(step+1))\n",
    "\n",
    "    # 모델 저장\n",
    "    if (epoch + 1) % save_every == 0 or (epoch + 1) == num_epochs:\n",
    "        os.makedirs(params[\"model_save_path\"], exist_ok=True)\n",
    "        torch.save(diffusion.state_dict(), os.path.join(params[\"model_save_path\"], f\"model-{epoch+1}.pt\"))\n",
    "        print(f\"✅ Model saved at epoch {epoch+1}\")\n",
    "        \n",
    "    condition_example = None\n",
    "    if params[\"with_condition\"]:\n",
    "        data_example = next(iter(dataloader))\n",
    "        condition_example = data_example['input'].to(device)[:1]  # 1개만\n",
    "    save_sample(\n",
    "        diffusion=diffusion,\n",
    "        epoch=epoch + 1,\n",
    "        save_path=os.path.join(params[\"model_save_path\"], \"samples\"),\n",
    "        sample_shape=(1, diffusion.channels, diffusion.depth_size, diffusion.image_size, diffusion.image_size),\n",
    "        device=device,\n",
    "        condition_tensors=condition_example\n",
    "    )"
   ]
  },
  {
   "cell_type": "code",
   "execution_count": null,
   "id": "89b30a28",
   "metadata": {},
   "outputs": [],
   "source": [
    "len(dataloader)"
   ]
  }
 ],
 "metadata": {
  "kernelspec": {
   "display_name": "Python 3",
   "language": "python",
   "name": "python3"
  },
  "language_info": {
   "codemirror_mode": {
    "name": "ipython",
    "version": 3
   },
   "file_extension": ".py",
   "mimetype": "text/x-python",
   "name": "python",
   "nbconvert_exporter": "python",
   "pygments_lexer": "ipython3",
   "version": "3.12.3"
  }
 },
 "nbformat": 4,
 "nbformat_minor": 5
}
