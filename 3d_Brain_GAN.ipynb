{
 "cells": [
  {
   "cell_type": "code",
   "execution_count": 2,
   "metadata": {},
   "outputs": [],
   "source": [
    "import os\n",
    "import torch\n",
    "import numpy as np\n",
    "from tqdm import tqdm\n",
    "from glob import glob\n",
    "import torch.optim as optim\n",
    "import random\n",
    "from torchvision import transforms\n",
    "from torch.utils.data import DataLoader, Dataset\n",
    "from torchvision.utils import save_image\n",
    "from torchinfo import summary\n",
    "from PIL import Image\n",
    "from Braingen_3d import Model_alphaGAN,Model_VAEGAN,Model_WGAN,Model_alphaWGAN"
   ]
  },
  {
   "cell_type": "code",
   "execution_count": 4,
   "metadata": {},
   "outputs": [
    {
     "name": "stdout",
     "output_type": "stream",
     "text": [
      "Device: cuda:0\n"
     ]
    }
   ],
   "source": [
    "# 클래스 정의\n",
    "class_list = ['Normal','Ischemic','Hemorrhagic']\n",
    "\n",
    "params = {\n",
    "    # 데이터 설정\n",
    "    'data_path': '../../data/stroke_CT_preprocessed/',\n",
    "    'image_count': 10000,\n",
    "    'image_size': 256,\n",
    "    'inch': 1,\n",
    "    'outch': 1,\n",
    "    'image_count':32,\n",
    "    # 학습 설정\n",
    "    'lr': 2e-5,\n",
    "    'batch_size': 8,\n",
    "    'epochs': 10000,\n",
    "    'save_every': 10,\n",
    "    'save_path': '../../result/edm2/CT',\n",
    "\n",
    "}\n",
    "device = torch.device(\"cuda:0\" if torch.cuda.is_available() else \"cpu\")\n",
    "print(f\"Device: {device}\")"
   ]
  },
  {
   "cell_type": "code",
   "execution_count": null,
   "metadata": {},
   "outputs": [],
   "source": [
    "# 변환 정의\n",
    "# trans = transforms.Compose([\n",
    "#     transforms.ToTensor(),\n",
    "#     transforms.Normalize((0.5,0.5,0.5), (0.5,0.5,0.5))\n",
    "# ])\n",
    "trans = transforms.Compose([\n",
    "    transforms.ToTensor(),\n",
    "    transforms.Normalize((0.5,), (0.5,))\n",
    "])\n",
    "def transback(x):\n",
    "    return (x.clamp(-1, 1) + 1) * 0.5\n",
    "\n",
    "# 이미지 로드\n",
    "image_paths, image_labels = [], []\n",
    "for i, cname in enumerate(class_list):\n",
    "    paths =glob(params['data_path']+class_list[i]+'/**/')\n",
    "    image_paths.extend(paths)\n",
    "    image_labels.extend([i] * len(paths))\n",
    "\n",
    "N = len(image_paths)\n",
    "C, H, W = params['inch'], params['image_size'], params['image_size']\n",
    "train_images = torch.zeros((N,params['image_count'], C, H, W), dtype=torch.float32)\n",
    "\n",
    "print(\"Loading images into tensor...\")\n",
    "for i, path in enumerate(tqdm(image_paths)):\n",
    "    img = Image.open(path).convert('L').resize((W, H))\n",
    "    \n",
    "    train_images[i] = trans(img)\n",
    "train_labels = torch.tensor(image_labels, dtype=torch.long)\n",
    "\n",
    "# 커스텀 Dataset\n",
    "class CustomDataset(Dataset):\n",
    "    def __init__(self, images, labels):\n",
    "        self.images = images\n",
    "        self.labels = labels\n",
    "\n",
    "    def __getitem__(self, index):\n",
    "        img = self.images[index]\n",
    "        lab = self.labels[index]\n",
    "        # if random.random() > 0.5:\n",
    "        #     img = transforms.functional.hflip(img)\n",
    "        # if random.random() > 0.5:\n",
    "        #     img = transforms.functional.vflip(img)\n",
    "        return img, lab\n",
    "\n",
    "    def __len__(self):\n",
    "        return len(self.images)\n",
    "def edm_sample_sigma(batch_size, rho, sigma_min, sigma_max, device):\n",
    "    t = torch.rand(batch_size, device=device)\n",
    "    sigmas = (sigma_max ** (1 / rho) + t * (sigma_min ** (1 / rho) - sigma_max ** (1 / rho))) ** rho\n",
    "    return sigmas\n",
    "\n",
    "def get_edm_sigma_schedule(sigma_min, sigma_max, rho, num_steps, device):\n",
    "    ramp = torch.linspace(0, 1, num_steps, device=device)\n",
    "    sigmas = (sigma_max ** (1 / rho) + ramp * (sigma_min ** (1 / rho) - sigma_max ** (1 / rho))) ** rho\n",
    "    return sigmas\n",
    "# DataLoader\n",
    "train_dataset = CustomDataset(train_images, train_labels)\n",
    "dataloader = DataLoader(train_dataset, batch_size=params['batch_size'], shuffle=True,drop_last=True)\n",
    "# 모델 초기화"
   ]
  },
  {
   "cell_type": "code",
   "execution_count": 10,
   "metadata": {},
   "outputs": [
    {
     "name": "stderr",
     "output_type": "stream",
     "text": [
      "  0%|          | 0/3097 [00:00<?, ?it/s]\n"
     ]
    },
    {
     "ename": "IsADirectoryError",
     "evalue": "[Errno 21] Is a directory: '/home/ubuntu/gcubme_ai2/Workspace/YS_Lee/stroke synthesis/data/stroke_CT_preprocessed/Normal/ANO3_1597'",
     "output_type": "error",
     "traceback": [
      "\u001b[0;31m---------------------------------------------------------------------------\u001b[0m",
      "\u001b[0;31mIsADirectoryError\u001b[0m                         Traceback (most recent call last)",
      "Input \u001b[0;32mIn [10]\u001b[0m, in \u001b[0;36m<cell line: 23>\u001b[0;34m()\u001b[0m\n\u001b[1;32m     23\u001b[0m \u001b[38;5;28;01mfor\u001b[39;00m i, path \u001b[38;5;129;01min\u001b[39;00m \u001b[38;5;28menumerate\u001b[39m(tqdm(image_paths)):\n\u001b[1;32m     24\u001b[0m     \u001b[38;5;28;01mfor\u001b[39;00m j \u001b[38;5;129;01min\u001b[39;00m \u001b[38;5;28mrange\u001b[39m(params[\u001b[38;5;124m'\u001b[39m\u001b[38;5;124mimage_count\u001b[39m\u001b[38;5;124m'\u001b[39m]):\n\u001b[0;32m---> 25\u001b[0m         img \u001b[38;5;241m=\u001b[39m \u001b[43mImage\u001b[49m\u001b[38;5;241;43m.\u001b[39;49m\u001b[43mopen\u001b[49m\u001b[43m(\u001b[49m\u001b[43mpath\u001b[49m\u001b[43m)\u001b[49m\u001b[38;5;241m.\u001b[39mconvert(\u001b[38;5;124m'\u001b[39m\u001b[38;5;124mL\u001b[39m\u001b[38;5;124m'\u001b[39m)\u001b[38;5;241m.\u001b[39mresize((W, H))\n\u001b[1;32m     27\u001b[0m     train_images[i] \u001b[38;5;241m=\u001b[39m trans(img)\n\u001b[1;32m     28\u001b[0m train_labels \u001b[38;5;241m=\u001b[39m torch\u001b[38;5;241m.\u001b[39mtensor(image_labels, dtype\u001b[38;5;241m=\u001b[39mtorch\u001b[38;5;241m.\u001b[39mlong)\n",
      "File \u001b[0;32m~/anaconda3/envs/LeeYS/lib/python3.10/site-packages/PIL/Image.py:3431\u001b[0m, in \u001b[0;36mopen\u001b[0;34m(fp, mode, formats)\u001b[0m\n\u001b[1;32m   3428\u001b[0m     filename \u001b[38;5;241m=\u001b[39m os\u001b[38;5;241m.\u001b[39mpath\u001b[38;5;241m.\u001b[39mrealpath(os\u001b[38;5;241m.\u001b[39mfspath(fp))\n\u001b[1;32m   3430\u001b[0m \u001b[38;5;28;01mif\u001b[39;00m filename:\n\u001b[0;32m-> 3431\u001b[0m     fp \u001b[38;5;241m=\u001b[39m \u001b[43mbuiltins\u001b[49m\u001b[38;5;241;43m.\u001b[39;49m\u001b[43mopen\u001b[49m\u001b[43m(\u001b[49m\u001b[43mfilename\u001b[49m\u001b[43m,\u001b[49m\u001b[43m \u001b[49m\u001b[38;5;124;43m\"\u001b[39;49m\u001b[38;5;124;43mrb\u001b[39;49m\u001b[38;5;124;43m\"\u001b[39;49m\u001b[43m)\u001b[49m\n\u001b[1;32m   3432\u001b[0m     exclusive_fp \u001b[38;5;241m=\u001b[39m \u001b[38;5;28;01mTrue\u001b[39;00m\n\u001b[1;32m   3433\u001b[0m \u001b[38;5;28;01melse\u001b[39;00m:\n",
      "\u001b[0;31mIsADirectoryError\u001b[0m: [Errno 21] Is a directory: '/home/ubuntu/gcubme_ai2/Workspace/YS_Lee/stroke synthesis/data/stroke_CT_preprocessed/Normal/ANO3_1597'"
     ]
    }
   ],
   "source": [
    "# 변환 정의\n",
    "# trans = transforms.Compose([\n",
    "#     transforms.ToTensor(),\n",
    "#     transforms.Normalize((0.5,0.5,0.5), (0.5,0.5,0.5))\n",
    "# ])\n",
    "trans = transforms.Compose([\n",
    "    transforms.ToTensor(),\n",
    "    transforms.Normalize((0.5,), (0.5,))\n",
    "])\n",
    "def transback(x):\n",
    "    return (x.clamp(-1, 1) + 1) * 0.5\n",
    "\n",
    "# 이미지 로드\n",
    "image_paths, image_labels = [], []\n",
    "for i, cname in enumerate(class_list):\n",
    "    paths =glob(params['data_path']+class_list[i]+'/**/')\n",
    "    image_paths.extend(paths)\n",
    "    image_labels.extend([i] * len(paths))\n",
    "\n",
    "N = len(image_paths)\n",
    "C, H, W = params['inch'], params['image_size'], params['image_size']\n",
    "train_images = torch.zeros((N,params['image_count'], C, H, W), dtype=torch.float32)\n",
    "for i, path in enumerate(tqdm(image_paths)):\n",
    "    for j in range(params['image_count']):\n",
    "        img = Image.open(path).convert('L').resize((W, H))\n",
    "    \n",
    "    train_images[i] = trans(img)\n",
    "train_labels = torch.tensor(image_labels, dtype=torch.long)"
   ]
  },
  {
   "cell_type": "code",
   "execution_count": 9,
   "metadata": {},
   "outputs": [
    {
     "data": {
      "text/plain": [
       "torch.Size([3097, 32, 1, 256, 256])"
      ]
     },
     "execution_count": 9,
     "metadata": {},
     "output_type": "execute_result"
    }
   ],
   "source": [
    "train_images.shape"
   ]
  }
 ],
 "metadata": {
  "kernelspec": {
   "display_name": "LeeYS",
   "language": "python",
   "name": "python3"
  },
  "language_info": {
   "codemirror_mode": {
    "name": "ipython",
    "version": 3
   },
   "file_extension": ".py",
   "mimetype": "text/x-python",
   "name": "python",
   "nbconvert_exporter": "python",
   "pygments_lexer": "ipython3",
   "version": "3.10.14"
  }
 },
 "nbformat": 4,
 "nbformat_minor": 2
}
