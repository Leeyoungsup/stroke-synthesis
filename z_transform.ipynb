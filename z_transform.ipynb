{
 "cells": [
  {
   "cell_type": "code",
   "execution_count": 3,
   "id": "3731a2f9",
   "metadata": {},
   "outputs": [],
   "source": [
    "from scipy.ndimage import zoom\n",
    "import nibabel as nib\n",
    "import numpy as np\n",
    "import os\n",
    "import shutil\n",
    "from glob import glob   \n",
    "from tqdm import tqdm"
   ]
  },
  {
   "cell_type": "code",
   "execution_count": 19,
   "id": "1ec6b85e",
   "metadata": {},
   "outputs": [],
   "source": [
    "save_path='../../data/registlation_data/'"
   ]
  },
  {
   "cell_type": "code",
   "execution_count": 22,
   "id": "78967362",
   "metadata": {},
   "outputs": [
    {
     "name": "stderr",
     "output_type": "stream",
     "text": [
      "  0%|          | 0/1010 [00:00<?, ?it/s]"
     ]
    },
    {
     "name": "stderr",
     "output_type": "stream",
     "text": [
      "100%|██████████| 1010/1010 [05:02<00:00,  3.34it/s]\n"
     ]
    }
   ],
   "source": [
    "ct_list=glob('../../data/stroke_ct_nii_256/images/Ischemic/*.nii.gz')\n",
    "mri_list=[f.replace('_ct','_mri') for f in ct_list]\n",
    "mri_list=[f.replace('/Ischemic','') for f in mri_list]\n",
    "for i in tqdm(range(len(mri_list))):\n",
    "    if os.path.exists(mri_list[i]):\n",
    "        shutil.copy(ct_list[i],save_path+'CT/'+ct_list[i].split('/')[-1])\n",
    "        img=nib.load(mri_list[i])\n",
    "        volume = img.get_fdata()  # (64, 256, 256)\n",
    "        # z축 축소 비율 계산\n",
    "        zoom_factor = (40 / 64, 1, 1)\n",
    "\n",
    "        # trilinear interpolation\n",
    "        volume_resized = zoom(volume, zoom=zoom_factor, order=1)\n",
    "\n",
    "        # 저장\n",
    "        resized_img = nib.Nifti1Image(volume_resized.astype(np.float32), affine=img.affine)\n",
    "        nib.save(resized_img,save_path+'DWI/'+mri_list[i].split('/')[-1])"
   ]
  },
  {
   "cell_type": "code",
   "execution_count": 29,
   "id": "c7eadfcc",
   "metadata": {},
   "outputs": [
    {
     "name": "stderr",
     "output_type": "stream",
     "text": [
      "  0%|          | 0/724 [00:00<?, ?it/s]"
     ]
    },
    {
     "name": "stderr",
     "output_type": "stream",
     "text": [
      "100%|██████████| 724/724 [04:10<00:00,  2.89it/s]\n"
     ]
    }
   ],
   "source": [
    "ct_list=glob('../../data/registration_data/CT/*.nii.gz')\n",
    "mri_list=[f.replace('CT','DWI') for f in ct_list]\n",
    "for i in tqdm(range(len(mri_list))):\n",
    "    if os.path.exists(mri_list[i]):\n",
    "        mri_img=nib.load(mri_list[i])\n",
    "        mri_volume = mri_img.get_fdata()  \n",
    "        ct_img=nib.load(ct_list[i])\n",
    "        ct_volume = ct_img.get_fdata()\n",
    "        mri_volume=mri_volume+1.\n",
    "        ct_volume=ct_volume+1.\n",
    "        mri_img=nib.Nifti1Image(mri_volume.astype(np.float32), affine=mri_img.affine)\n",
    "        nib.save(mri_img,mri_list[i])\n",
    "        ct_img=nib.Nifti1Image(ct_volume.astype(np.float32), affine=ct_img.affine)\n",
    "        nib.save(ct_img,ct_list[i])\n",
    "        "
   ]
  },
  {
   "cell_type": "code",
   "execution_count": 28,
   "id": "9318299f",
   "metadata": {},
   "outputs": [
    {
     "data": {
      "text/plain": [
       "<nibabel.nifti1.Nifti1Image at 0x7f81b2bbb070>"
      ]
     },
     "execution_count": 28,
     "metadata": {},
     "output_type": "execute_result"
    }
   ],
   "source": [
    "ct_img"
   ]
  }
 ],
 "metadata": {
  "kernelspec": {
   "display_name": "LeeYS",
   "language": "python",
   "name": "python3"
  },
  "language_info": {
   "codemirror_mode": {
    "name": "ipython",
    "version": 3
   },
   "file_extension": ".py",
   "mimetype": "text/x-python",
   "name": "python",
   "nbconvert_exporter": "python",
   "pygments_lexer": "ipython3",
   "version": "3.10.14"
  }
 },
 "nbformat": 4,
 "nbformat_minor": 5
}
