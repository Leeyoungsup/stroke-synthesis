{
 "cells": [
  {
   "cell_type": "code",
   "execution_count": 1,
   "metadata": {},
   "outputs": [],
   "source": [
    "import os\n",
    "import pandas as pd\n",
    "import numpy as np\n",
    "from PIL import Image\n",
    "from glob import glob\n",
    "from tqdm import tqdm\n",
    "import shutil\n",
    "import nibabel as nib\n",
    "from subprocess import run\n",
    "\n",
    "def create_dir(path):\n",
    "    if not os.path.exists(path):\n",
    "        os.makedirs(path)"
   ]
  },
  {
   "cell_type": "code",
   "execution_count": 6,
   "metadata": {},
   "outputs": [
    {
     "name": "stderr",
     "output_type": "stream",
     "text": [
      "100%|██████████| 1325/1325 [00:17<00:00, 76.65it/s]\n",
      "100%|██████████| 1110/1110 [00:06<00:00, 169.32it/s]\n"
     ]
    }
   ],
   "source": [
    "save_path='../../data/2D_CT/'\n",
    "class_list=['Ischemic','Hemorrhagic']\n",
    "data_path='../../data/stroke_CT_preprocessed/'\n",
    "for j in range(len(class_list)):\n",
    "    dir_list=glob(data_path+class_list[j]+'/**')\n",
    "    for i in tqdm(range(len(dir_list))):\n",
    "        file_list=glob(dir_list[i]+'/*.png')\n",
    "        file_count=len(file_list)+1\n",
    "        create_dir(save_path+class_list[j])\n",
    "        shutil.copy(file_list[len(file_list)-20],save_path+class_list[j]+'/'+os.path.basename(dir_list[i])+'.png')"
   ]
  },
  {
   "cell_type": "code",
   "execution_count": 3,
   "metadata": {},
   "outputs": [
    {
     "data": {
      "text/plain": [
       "'ANO2_1003'"
      ]
     },
     "execution_count": 3,
     "metadata": {},
     "output_type": "execute_result"
    }
   ],
   "source": [
    "os.path.basename(dir_list[i])"
   ]
  }
 ],
 "metadata": {
  "kernelspec": {
   "display_name": "LeeYS",
   "language": "python",
   "name": "python3"
  },
  "language_info": {
   "codemirror_mode": {
    "name": "ipython",
    "version": 3
   },
   "file_extension": ".py",
   "mimetype": "text/x-python",
   "name": "python",
   "nbconvert_exporter": "python",
   "pygments_lexer": "ipython3",
   "version": "3.10.14"
  }
 },
 "nbformat": 4,
 "nbformat_minor": 2
}
