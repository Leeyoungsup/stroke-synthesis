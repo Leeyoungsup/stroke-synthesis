{
 "cells": [
  {
   "cell_type": "code",
   "execution_count": 1,
   "metadata": {},
   "outputs": [],
   "source": [
    "import os\n",
    "import pandas as pd\n",
    "import numpy as np\n",
    "from PIL import Image\n",
    "from glob import glob\n",
    "from tqdm import tqdm\n",
    "import shutil\n",
    "import nibabel as nib\n",
    "from subprocess import run\n",
    "import cv2\n",
    "\n",
    "# 이미지 로드 및 전처리 함수 정의\n",
    "def process_image(file_path):\n",
    "    # OpenCV로 이미지 로드\n",
    "    image = cv2.imread(file_path)\n",
    "    gray = cv2.cvtColor(image, cv2.COLOR_BGR2GRAY)\n",
    "\n",
    "    # 엣지 감지 및 팽창 (Canny + Dilate)\n",
    "    edges = cv2.Canny(gray, 50, 150)\n",
    "    dilated = cv2.dilate(edges, np.ones((3,3), np.uint8), iterations=2)\n",
    "\n",
    "    # 컨투어 검출\n",
    "    contours, _ = cv2.findContours(dilated, cv2.RETR_EXTERNAL, cv2.CHAIN_APPROX_SIMPLE)\n",
    "\n",
    "    if len(contours) > 1:\n",
    "        contours = sorted(contours, key=cv2.contourArea, reverse=True)\n",
    "        largest_contour = contours[0]\n",
    "        small_contours = contours[1:]\n",
    "\n",
    "        # OpenCV 방식으로 마스크 생성 (PIL 대신 OpenCV 사용)\n",
    "        mask = np.zeros_like(gray, dtype=np.uint8)\n",
    "        cv2.fillPoly(mask, small_contours, 255)  # 작은 컨투어들만 흰색 채우기\n",
    "\n",
    "        # NumPy 벡터 연산으로 검정색 마스크 적용 (PIL 대신 NumPy 연산 사용)\n",
    "        image[mask > 0] = (0, 0, 0)  # 작은 컨투어 부분을 검정색으로 변경\n",
    "\n",
    "    return image\n",
    "def create_dir(path):\n",
    "    if not os.path.exists(path):\n",
    "        os.makedirs(path)"
   ]
  },
  {
   "cell_type": "code",
   "execution_count": 3,
   "metadata": {},
   "outputs": [
    {
     "name": "stderr",
     "output_type": "stream",
     "text": [
      "100%|██████████| 662/662 [00:31<00:00, 21.27it/s]\n"
     ]
    }
   ],
   "source": [
    "save_path='../../data/2D_CT/'\n",
    "class_list=['Ischemic','Hemorrhagic','Normal']\n",
    "data_path='../../data/stroke_CT_preprocessed/'\n",
    "for j in range(len(class_list)):\n",
    "    dir_list=glob(data_path+class_list[j]+'/**')\n",
    "    for i in tqdm(range(len(dir_list))):\n",
    "        file_list=glob(dir_list[i]+'/*.png')\n",
    "        file_count=len(file_list)+1\n",
    "        create_dir(save_path+class_list[j])\n",
    "        img=process_image(file_list[len(file_list)-20])\n",
    "        Image.fromarray(img).save(save_path+class_list[j]+'/'+os.path.basename(dir_list[i])+'.png')"
   ]
  },
  {
   "cell_type": "code",
   "execution_count": 3,
   "metadata": {},
   "outputs": [
    {
     "data": {
      "text/plain": [
       "'ANO2_1003'"
      ]
     },
     "execution_count": 3,
     "metadata": {},
     "output_type": "execute_result"
    }
   ],
   "source": [
    "os.path.basename(dir_list[i])"
   ]
  }
 ],
 "metadata": {
  "kernelspec": {
   "display_name": "LeeYS",
   "language": "python",
   "name": "python3"
  },
  "language_info": {
   "codemirror_mode": {
    "name": "ipython",
    "version": 3
   },
   "file_extension": ".py",
   "mimetype": "text/x-python",
   "name": "python",
   "nbconvert_exporter": "python",
   "pygments_lexer": "ipython3",
   "version": "3.10.14"
  }
 },
 "nbformat": 4,
 "nbformat_minor": 2
}
