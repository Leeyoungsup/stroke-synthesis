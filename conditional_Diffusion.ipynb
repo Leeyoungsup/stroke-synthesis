{
 "cells": [
  {
   "cell_type": "code",
   "execution_count": 18,
   "metadata": {},
   "outputs": [
    {
     "name": "stdout",
     "output_type": "stream",
     "text": [
      "GPUs used:\t8\n",
      "Device:\t\tcuda:1\n"
     ]
    }
   ],
   "source": [
    "import os\n",
    "import torch\n",
    "import argparse\n",
    "import itertools\n",
    "import numpy as np\n",
    "from tqdm import tqdm\n",
    "import torch.optim as optim\n",
    "from torchvision.utils import save_image\n",
    "from torch.nn.parallel import DistributedDataParallel as DDP\n",
    "from torch.distributed import get_rank, init_process_group, destroy_process_group, all_gather, get_world_size\n",
    "from torch import Tensor\n",
    "from torchvision import transforms\n",
    "from torch.utils.data import DataLoader,Dataset\n",
    "from glob import glob\n",
    "from torch.utils.data.distributed import DistributedSampler\n",
    "import random\n",
    "from conditionDiffusion.unet import Unet\n",
    "from conditionDiffusion.embedding import ConditionalEmbedding\n",
    "from conditionDiffusion.utils import get_named_beta_schedule\n",
    "from conditionDiffusion.diffusion import GaussianDiffusion\n",
    "from conditionDiffusion.Scheduler import GradualWarmupScheduler\n",
    "from PIL import Image\n",
    "print(f\"GPUs used:\\t{torch.cuda.device_count()}\")\n",
    "device = torch.device(\"cuda\",1)\n",
    "print(f\"Device:\\t\\t{device}\")\n",
    "import pytorch_model_summary as tms\n",
    "\n",
    "def create_dir(path):\n",
    "    if not os.path.exists(path):\n",
    "        os.makedirs(path)\n",
    "    return path"
   ]
  },
  {
   "cell_type": "code",
   "execution_count": 59,
   "metadata": {},
   "outputs": [],
   "source": [
    "\n",
    "class_list = ['DWI', 'ADC']\n",
    "params = {'image_size': 256,\n",
    "          'lr': 2e-5,\n",
    "          'beta1': 0.5,\n",
    "          'beta2': 0.999,\n",
    "          'batch_size': 16,\n",
    "          'epochs': 1000,\n",
    "          'n_classes': None,\n",
    "          'data_path': '../../data/2D_MRI/',\n",
    "          'image_count': 5000,\n",
    "          'inch': 3,\n",
    "          'modch': 64,\n",
    "          'outch': 3,\n",
    "          'chmul': [1, 2, 4, 8],\n",
    "          'numres': 2,\n",
    "          'dtype': torch.float32,\n",
    "          'cdim': 256,\n",
    "          'useconv': False,\n",
    "          'droprate': 0.1,\n",
    "          'T': 1000,\n",
    "          'w': 1.8,\n",
    "          'v': 0.3,\n",
    "          'multiplier': 1,\n",
    "          'threshold': 0.02,\n",
    "          'ddim': True,\n",
    "          }"
   ]
  },
  {
   "cell_type": "code",
   "execution_count": null,
   "metadata": {},
   "outputs": [
    {
     "name": "stderr",
     "output_type": "stream",
     "text": [
      "100%|██████████| 2/2 [00:00<00:00, 52.61it/s]\n",
      "100%|██████████| 1783/1783 [00:03<00:00, 469.28it/s]\n"
     ]
    }
   ],
   "source": [
    "\n",
    "trans = transforms.Compose([\n",
    "    transforms.ToTensor(),\n",
    "    transforms.Normalize((0.5,0.5,0.5), (0.5,0.5,0.5)),\n",
    "])\n",
    "\n",
    "\n",
    "def transback(data:Tensor) -> Tensor:\n",
    "    return data / 2 + 0.5\n",
    "\n",
    "class CustomDataset(Dataset):\n",
    "    \"\"\"COCO Custom Dataset compatible with torch.utils.data.DataLoader.\"\"\"\n",
    "    def __init__(self,parmas, images,label):\n",
    "        \n",
    "        self.images = images\n",
    "        self.args=parmas\n",
    "        self.label=label\n",
    "        \n",
    "    def trans(self,image):\n",
    "        if random.random() > 0.5:\n",
    "            transform = transforms.RandomHorizontalFlip(1)\n",
    "            image = transform(image)\n",
    "            \n",
    "        if random.random() > 0.5:\n",
    "            transform = transforms.RandomVerticalFlip(1)\n",
    "            image = transform(image)\n",
    "            \n",
    "        return image\n",
    "    \n",
    "    def __getitem__(self, index):\n",
    "        image=self.images[index]\n",
    "        label=self.label[index]\n",
    "        image = self.trans(image)\n",
    "        return image,label\n",
    "    \n",
    "    def __len__(self):\n",
    "        return len(self.images)\n",
    "\n",
    "\n",
    "image_label=[]\n",
    "image_path=[]\n",
    "for i in tqdm(range(len(class_list))):\n",
    "    image_list=glob(params['data_path']+class_list[i]+'/*.png')\n",
    "    if len(image_list)>params['image_count']:\n",
    "        image_list=image_list[:params['image_count']]\n",
    "    for j in range(len(image_list)):\n",
    "        image_path.append(image_list[j])\n",
    "        image_label.append(i)\n",
    "        \n",
    "train_images=torch.zeros((len(image_path),params['inch'],params['image_size'],params['image_size']))\n",
    "for i in tqdm(range(len(image_path))):\n",
    "    train_images[i]=trans(Image.open(image_path[i]).convert('RGB').resize((params['image_size'],params['image_size'])))\n",
    "train_dataset=CustomDataset(params,train_images,image_label)\n",
    "dataloader=DataLoader(train_dataset,batch_size=params['batch_size'],shuffle=True)"
   ]
  },
  {
   "cell_type": "code",
   "execution_count": 61,
   "metadata": {},
   "outputs": [
    {
     "data": {
      "text/plain": [
       "========================================================================================================================\n",
       "Layer (type:depth-idx)                        Input Shape               Output Shape              Param #\n",
       "========================================================================================================================\n",
       "Unet                                          [1, 3, 256, 256]          [1, 3, 256, 256]          131,584\n",
       "├─Sequential: 1-1                             [1, 64]                   [1, 256]                  --\n",
       "│    └─Linear: 2-1                            [1, 64]                   [1, 256]                  16,640\n",
       "│    └─SiLU: 2-2                              [1, 256]                  [1, 256]                  --\n",
       "│    └─Linear: 2-3                            [1, 256]                  [1, 256]                  65,792\n",
       "├─Sequential: 1-2                             [1, 256]                  [1, 256]                  --\n",
       "│    └─Linear: 2-4                            [1, 256]                  [1, 256]                  65,792\n",
       "│    └─SiLU: 2-5                              [1, 256]                  [1, 256]                  --\n",
       "│    └─Linear: 2-6                            [1, 256]                  [1, 256]                  65,792\n",
       "├─ModuleList: 1-3                             --                        --                        --\n",
       "│    └─EmbedSequential: 2-7                   [1, 3, 256, 256]          [1, 64, 256, 256]         --\n",
       "│    │    └─Conv2d: 3-1                       [1, 3, 256, 256]          [1, 64, 256, 256]         1,792\n",
       "│    └─EmbedSequential: 2-8                   [1, 64, 256, 256]         [1, 64, 256, 256]         --\n",
       "│    │    └─ResBlock: 3-2                     [1, 64, 256, 256]         [1, 64, 256, 256]         107,008\n",
       "│    │    └─AttnBlock: 3-3                    [1, 64, 256, 256]         [1, 64, 256, 256]         16,768\n",
       "│    └─EmbedSequential: 2-9                   [1, 64, 256, 256]         [1, 64, 256, 256]         --\n",
       "│    │    └─ResBlock: 3-4                     [1, 64, 256, 256]         [1, 64, 256, 256]         107,008\n",
       "│    │    └─AttnBlock: 3-5                    [1, 64, 256, 256]         [1, 64, 256, 256]         16,768\n",
       "│    └─EmbedSequential: 2-10                  [1, 64, 256, 256]         [1, 64, 128, 128]         --\n",
       "│    │    └─Downsample: 3-6                   [1, 64, 256, 256]         [1, 64, 128, 128]         --\n",
       "│    └─EmbedSequential: 2-11                  [1, 64, 128, 128]         [1, 128, 128, 128]        --\n",
       "│    │    └─ResBlock: 3-7                     [1, 64, 128, 128]         [1, 128, 128, 128]        295,936\n",
       "│    │    └─AttnBlock: 3-8                    [1, 128, 128, 128]        [1, 128, 128, 128]        66,304\n",
       "│    └─EmbedSequential: 2-12                  [1, 128, 128, 128]        [1, 128, 128, 128]        --\n",
       "│    │    └─ResBlock: 3-9                     [1, 128, 128, 128]        [1, 128, 128, 128]        361,472\n",
       "│    │    └─AttnBlock: 3-10                   [1, 128, 128, 128]        [1, 128, 128, 128]        66,304\n",
       "│    └─EmbedSequential: 2-13                  [1, 128, 128, 128]        [1, 128, 64, 64]          --\n",
       "│    │    └─Downsample: 3-11                  [1, 128, 128, 128]        [1, 128, 64, 64]          --\n",
       "│    └─EmbedSequential: 2-14                  [1, 128, 64, 64]          [1, 256, 64, 64]          --\n",
       "│    │    └─ResBlock: 3-12                    [1, 128, 64, 64]          [1, 256, 64, 64]          1,050,624\n",
       "│    │    └─AttnBlock: 3-13                   [1, 256, 64, 64]          [1, 256, 64, 64]          263,680\n",
       "│    └─EmbedSequential: 2-15                  [1, 256, 64, 64]          [1, 256, 64, 64]          --\n",
       "│    │    └─ResBlock: 3-14                    [1, 256, 64, 64]          [1, 256, 64, 64]          1,312,768\n",
       "│    │    └─AttnBlock: 3-15                   [1, 256, 64, 64]          [1, 256, 64, 64]          263,680\n",
       "│    └─EmbedSequential: 2-16                  [1, 256, 64, 64]          [1, 256, 32, 32]          --\n",
       "│    │    └─Downsample: 3-16                  [1, 256, 64, 64]          [1, 256, 32, 32]          --\n",
       "│    └─EmbedSequential: 2-17                  [1, 256, 32, 32]          [1, 512, 32, 32]          --\n",
       "│    │    └─ResBlock: 3-17                    [1, 256, 32, 32]          [1, 512, 32, 32]          3,936,256\n",
       "│    │    └─AttnBlock: 3-18                   [1, 512, 32, 32]          [1, 512, 32, 32]          1,051,648\n",
       "│    └─EmbedSequential: 2-18                  [1, 512, 32, 32]          [1, 512, 32, 32]          --\n",
       "│    │    └─ResBlock: 3-19                    [1, 512, 32, 32]          [1, 512, 32, 32]          4,984,832\n",
       "│    │    └─AttnBlock: 3-20                   [1, 512, 32, 32]          [1, 512, 32, 32]          1,051,648\n",
       "├─EmbedSequential: 1-4                        [1, 512, 32, 32]          [1, 512, 32, 32]          --\n",
       "│    └─ResBlock: 2-19                         [1, 512, 32, 32]          [1, 512, 32, 32]          --\n",
       "│    │    └─Sequential: 3-21                  [1, 512, 32, 32]          [1, 512, 32, 32]          2,360,832\n",
       "│    │    └─Sequential: 3-22                  [1, 256]                  [1, 512]                  131,584\n",
       "│    │    └─Sequential: 3-23                  [1, 256]                  [1, 512]                  131,584\n",
       "│    │    └─Sequential: 3-24                  [1, 512, 32, 32]          [1, 512, 32, 32]          2,360,832\n",
       "│    │    └─Identity: 3-25                    [1, 512, 32, 32]          [1, 512, 32, 32]          --\n",
       "│    └─AttnBlock: 2-20                        [1, 512, 32, 32]          [1, 512, 32, 32]          --\n",
       "│    │    └─GroupNorm: 3-26                   [1, 512, 32, 32]          [1, 512, 32, 32]          1,024\n",
       "│    │    └─Conv2d: 3-27                      [1, 512, 32, 32]          [1, 512, 2, 2]            262,656\n",
       "│    │    └─Conv2d: 3-28                      [1, 512, 32, 32]          [1, 512, 2, 2]            262,656\n",
       "│    │    └─Conv2d: 3-29                      [1, 512, 32, 32]          [1, 512, 2, 2]            262,656\n",
       "│    │    └─Conv2d: 3-30                      [1, 512, 2, 2]            [1, 512, 2, 2]            262,656\n",
       "│    └─ResBlock: 2-21                         [1, 512, 32, 32]          [1, 512, 32, 32]          --\n",
       "│    │    └─Sequential: 3-31                  [1, 512, 32, 32]          [1, 512, 32, 32]          2,360,832\n",
       "│    │    └─Sequential: 3-32                  [1, 256]                  [1, 512]                  131,584\n",
       "│    │    └─Sequential: 3-33                  [1, 256]                  [1, 512]                  131,584\n",
       "│    │    └─Sequential: 3-34                  [1, 512, 32, 32]          [1, 512, 32, 32]          2,360,832\n",
       "│    │    └─Identity: 3-35                    [1, 512, 32, 32]          [1, 512, 32, 32]          --\n",
       "├─ModuleList: 1-5                             --                        --                        --\n",
       "│    └─EmbedSequential: 2-22                  [1, 1024, 32, 32]         [1, 512, 32, 32]          --\n",
       "│    │    └─ResBlock: 3-36                    [1, 1024, 32, 32]         [1, 512, 32, 32]          7,869,952\n",
       "│    │    └─AttnBlock: 3-37                   [1, 512, 32, 32]          [1, 512, 32, 32]          1,051,648\n",
       "│    └─EmbedSequential: 2-23                  [1, 1024, 32, 32]         [1, 512, 32, 32]          --\n",
       "│    │    └─ResBlock: 3-38                    [1, 1024, 32, 32]         [1, 512, 32, 32]          7,869,952\n",
       "│    │    └─AttnBlock: 3-39                   [1, 512, 32, 32]          [1, 512, 32, 32]          1,051,648\n",
       "│    └─EmbedSequential: 2-24                  [1, 768, 32, 32]          [1, 512, 64, 64]          --\n",
       "│    │    └─ResBlock: 3-40                    [1, 768, 32, 32]          [1, 512, 32, 32]          6,558,720\n",
       "│    │    └─AttnBlock: 3-41                   [1, 512, 32, 32]          [1, 512, 32, 32]          1,051,648\n",
       "│    │    └─Upsample: 3-42                    [1, 512, 32, 32]          [1, 512, 64, 64]          2,359,808\n",
       "│    └─EmbedSequential: 2-25                  [1, 768, 64, 64]          [1, 256, 64, 64]          --\n",
       "│    │    └─ResBlock: 3-43                    [1, 768, 64, 64]          [1, 256, 64, 64]          2,690,304\n",
       "│    │    └─AttnBlock: 3-44                   [1, 256, 64, 64]          [1, 256, 64, 64]          263,680\n",
       "│    └─EmbedSequential: 2-26                  [1, 512, 64, 64]          [1, 256, 64, 64]          --\n",
       "│    │    └─ResBlock: 3-45                    [1, 512, 64, 64]          [1, 256, 64, 64]          2,034,432\n",
       "│    │    └─AttnBlock: 3-46                   [1, 256, 64, 64]          [1, 256, 64, 64]          263,680\n",
       "│    └─EmbedSequential: 2-27                  [1, 384, 64, 64]          [1, 256, 128, 128]        --\n",
       "│    │    └─ResBlock: 3-47                    [1, 384, 64, 64]          [1, 256, 64, 64]          1,706,496\n",
       "│    │    └─AttnBlock: 3-48                   [1, 256, 64, 64]          [1, 256, 64, 64]          263,680\n",
       "│    │    └─Upsample: 3-49                    [1, 256, 64, 64]          [1, 256, 128, 128]        590,080\n",
       "│    └─EmbedSequential: 2-28                  [1, 384, 128, 128]        [1, 128, 128, 128]        --\n",
       "│    │    └─ResBlock: 3-50                    [1, 384, 128, 128]        [1, 128, 128, 128]        706,176\n",
       "│    │    └─AttnBlock: 3-51                   [1, 128, 128, 128]        [1, 128, 128, 128]        66,304\n",
       "│    └─EmbedSequential: 2-29                  [1, 256, 128, 128]        [1, 128, 128, 128]        --\n",
       "│    │    └─ResBlock: 3-52                    [1, 256, 128, 128]        [1, 128, 128, 128]        542,080\n",
       "│    │    └─AttnBlock: 3-53                   [1, 128, 128, 128]        [1, 128, 128, 128]        66,304\n",
       "│    └─EmbedSequential: 2-30                  [1, 192, 128, 128]        [1, 128, 256, 256]        --\n",
       "│    │    └─ResBlock: 3-54                    [1, 192, 128, 128]        [1, 128, 128, 128]        460,032\n",
       "│    │    └─AttnBlock: 3-55                   [1, 128, 128, 128]        [1, 128, 128, 128]        66,304\n",
       "│    │    └─Upsample: 3-56                    [1, 128, 128, 128]        [1, 128, 256, 256]        147,584\n",
       "│    └─EmbedSequential: 2-31                  [1, 192, 256, 256]        [1, 64, 256, 256]         --\n",
       "│    │    └─ResBlock: 3-57                    [1, 192, 256, 256]        [1, 64, 256, 256]         193,344\n",
       "│    │    └─AttnBlock: 3-58                   [1, 64, 256, 256]         [1, 64, 256, 256]         16,768\n",
       "│    └─EmbedSequential: 2-32                  [1, 128, 256, 256]        [1, 64, 256, 256]         --\n",
       "│    │    └─ResBlock: 3-59                    [1, 128, 256, 256]        [1, 64, 256, 256]         152,256\n",
       "│    │    └─AttnBlock: 3-60                   [1, 64, 256, 256]         [1, 64, 256, 256]         16,768\n",
       "│    └─EmbedSequential: 2-33                  [1, 128, 256, 256]        [1, 64, 256, 256]         --\n",
       "│    │    └─ResBlock: 3-61                    [1, 128, 256, 256]        [1, 64, 256, 256]         152,256\n",
       "│    │    └─AttnBlock: 3-62                   [1, 64, 256, 256]         [1, 64, 256, 256]         16,768\n",
       "├─Sequential: 1-6                             [1, 64, 256, 256]         [1, 3, 256, 256]          --\n",
       "│    └─GroupNorm: 2-34                        [1, 64, 256, 256]         [1, 64, 256, 256]         128\n",
       "│    └─SiLU: 2-35                             [1, 64, 256, 256]         [1, 64, 256, 256]         --\n",
       "│    └─Conv2d: 2-36                           [1, 64, 256, 256]         [1, 3, 256, 256]          1,731\n",
       "========================================================================================================================\n",
       "Total params: 64,551,939\n",
       "Trainable params: 64,551,939\n",
       "Non-trainable params: 0\n",
       "Total mult-adds (G): 171.98\n",
       "========================================================================================================================\n",
       "Input size (MB): 0.79\n",
       "Forward/backward pass size (MB): 2238.02\n",
       "Params size (MB): 257.68\n",
       "Estimated Total Size (MB): 2496.49\n",
       "========================================================================================================================"
      ]
     },
     "execution_count": 61,
     "metadata": {},
     "output_type": "execute_result"
    }
   ],
   "source": [
    "net = Unet(in_ch = params['inch'],\n",
    "            mod_ch = params['modch'],\n",
    "            out_ch = params['outch'],\n",
    "            ch_mul = params['chmul'],\n",
    "            num_res_blocks = params['numres'],\n",
    "            cdim = params['cdim'],\n",
    "            use_conv = params['useconv'],\n",
    "            droprate = params['droprate'],\n",
    "            dtype = params['dtype']\n",
    "            ).to(device)\n",
    "cemblayer = ConditionalEmbedding(len(class_list), params['cdim'], params['cdim']).to(device)\n",
    "betas = get_named_beta_schedule(num_diffusion_timesteps = params['T'])\n",
    "diffusion = GaussianDiffusion(\n",
    "                    dtype = params['dtype'],\n",
    "                    model = net,\n",
    "                    betas = betas,\n",
    "                    w = params['w'],\n",
    "                    v = params['v'],\n",
    "                    device = device\n",
    "                )\n",
    "optimizer = torch.optim.AdamW(\n",
    "                itertools.chain(\n",
    "                    diffusion.model.parameters(),\n",
    "                    cemblayer.parameters()\n",
    "                ),\n",
    "                lr = params['lr'],\n",
    "                weight_decay = 1e-4\n",
    "            )\n",
    "\n",
    "cosineScheduler = optim.lr_scheduler.CosineAnnealingLR(\n",
    "                            optimizer = optimizer,\n",
    "                            T_max = params['epochs']/100,\n",
    "                            eta_min = 0,\n",
    "                            last_epoch = -1\n",
    "                        )\n",
    "warmUpScheduler = GradualWarmupScheduler(\n",
    "                        optimizer = optimizer,\n",
    "                        multiplier = params['multiplier'],\n",
    "                        warm_epoch = params['epochs'] // 10,\n",
    "                        after_scheduler = cosineScheduler,\n",
    "                        last_epoch = 0\n",
    "                    )\n",
    "# checkpoint=torch.load(f'../../model/conditionDiff/details/BRNT/ckpt_101_checkpoint.pt',map_location=device)\n",
    "# diffusion.model.load_state_dict(checkpoint['net'])\n",
    "# cemblayer.load_state_dict(checkpoint['cemblayer'])\n",
    "# optimizer.load_state_dict(checkpoint['optimizer'])\n",
    "# warmUpScheduler.load_state_dict(checkpoint['scheduler'])\n",
    "from torchinfo import summary\n",
    "\n",
    "# 각 입력 데이터 생성\n",
    "image_input = torch.randn(1, 3, 256, 256, device=device)  # 첫 번째 입력 (이미지 텐서)\n",
    "random_int_input = torch.randint(1000, size=(1,), device=device)  # 두 번째 입력 (정수 텐서)\n",
    "cemblayer_input = cemblayer(torch.Tensor([1]).long().to(device))  # 세 번째 입력 (cemblayer 텐서)\n",
    "\n",
    "# 네트워크 요약 출력\n",
    "summary(net, input_data=[image_input, random_int_input, cemblayer_input], col_names=[\"input_size\", \"output_size\", \"num_params\"])\n"
   ]
  },
  {
   "cell_type": "code",
   "execution_count": null,
   "metadata": {},
   "outputs": [
    {
     "name": "stderr",
     "output_type": "stream",
     "text": [
      "100%|██████████| 112/112 [01:18<00:00,  1.42it/s, epoch=1, loss: =0.496, batch per device: =7, img shape: =torch.Size([3, 256, 256]), LR=2e-5] \n"
     ]
    },
    {
     "name": "stdout",
     "output_type": "stream",
     "text": [
      "Start generating(ddim)...\n"
     ]
    },
    {
     "name": "stderr",
     "output_type": "stream",
     "text": [
      "100%|██████████| 50/50 [00:08<00:00,  6.16it/s]\n"
     ]
    },
    {
     "name": "stdout",
     "output_type": "stream",
     "text": [
      "ending sampling process(ddim)...\n"
     ]
    },
    {
     "name": "stderr",
     "output_type": "stream",
     "text": [
      "100%|██████████| 112/112 [01:17<00:00,  1.44it/s, epoch=2, loss: =0.14, batch per device: =7, img shape: =torch.Size([3, 256, 256]), LR=2e-5]  \n",
      "100%|██████████| 112/112 [01:17<00:00,  1.45it/s, epoch=3, loss: =0.0902, batch per device: =7, img shape: =torch.Size([3, 256, 256]), LR=2e-5] \n",
      "100%|██████████| 112/112 [01:17<00:00,  1.44it/s, epoch=4, loss: =0.0706, batch per device: =7, img shape: =torch.Size([3, 256, 256]), LR=2e-5] \n",
      "100%|██████████| 112/112 [01:17<00:00,  1.44it/s, epoch=5, loss: =0.0628, batch per device: =7, img shape: =torch.Size([3, 256, 256]), LR=2e-5] \n",
      "100%|██████████| 112/112 [01:18<00:00,  1.43it/s, epoch=6, loss: =0.0549, batch per device: =7, img shape: =torch.Size([3, 256, 256]), LR=2e-5] \n"
     ]
    },
    {
     "name": "stdout",
     "output_type": "stream",
     "text": [
      "Start generating(ddim)...\n"
     ]
    },
    {
     "name": "stderr",
     "output_type": "stream",
     "text": [
      "100%|██████████| 50/50 [00:08<00:00,  6.12it/s]\n"
     ]
    },
    {
     "name": "stdout",
     "output_type": "stream",
     "text": [
      "ending sampling process(ddim)...\n"
     ]
    },
    {
     "name": "stderr",
     "output_type": "stream",
     "text": [
      "100%|██████████| 112/112 [01:19<00:00,  1.41it/s, epoch=7, loss: =0.0509, batch per device: =7, img shape: =torch.Size([3, 256, 256]), LR=2e-5] \n",
      "100%|██████████| 112/112 [01:18<00:00,  1.43it/s, epoch=8, loss: =0.0423, batch per device: =7, img shape: =torch.Size([3, 256, 256]), LR=2e-5] \n",
      "100%|██████████| 112/112 [01:20<00:00,  1.38it/s, epoch=9, loss: =0.042, batch per device: =7, img shape: =torch.Size([3, 256, 256]), LR=2e-5]  \n",
      "100%|██████████| 112/112 [01:17<00:00,  1.45it/s, epoch=10, loss: =0.038, batch per device: =7, img shape: =torch.Size([3, 256, 256]), LR=2e-5]  \n",
      "100%|██████████| 112/112 [01:18<00:00,  1.43it/s, epoch=11, loss: =0.0362, batch per device: =7, img shape: =torch.Size([3, 256, 256]), LR=2e-5] \n"
     ]
    },
    {
     "name": "stdout",
     "output_type": "stream",
     "text": [
      "Start generating(ddim)...\n"
     ]
    },
    {
     "name": "stderr",
     "output_type": "stream",
     "text": [
      "100%|██████████| 50/50 [00:08<00:00,  6.11it/s]\n"
     ]
    },
    {
     "name": "stdout",
     "output_type": "stream",
     "text": [
      "ending sampling process(ddim)...\n"
     ]
    },
    {
     "name": "stderr",
     "output_type": "stream",
     "text": [
      "100%|██████████| 112/112 [01:19<00:00,  1.42it/s, epoch=12, loss: =0.0323, batch per device: =7, img shape: =torch.Size([3, 256, 256]), LR=2e-5] \n",
      "100%|██████████| 112/112 [01:19<00:00,  1.41it/s, epoch=13, loss: =0.0333, batch per device: =7, img shape: =torch.Size([3, 256, 256]), LR=2e-5] \n",
      "100%|██████████| 112/112 [01:17<00:00,  1.44it/s, epoch=14, loss: =0.0301, batch per device: =7, img shape: =torch.Size([3, 256, 256]), LR=2e-5] \n",
      "100%|██████████| 112/112 [01:17<00:00,  1.44it/s, epoch=15, loss: =0.03, batch per device: =7, img shape: =torch.Size([3, 256, 256]), LR=2e-5]   \n",
      "100%|██████████| 112/112 [01:17<00:00,  1.45it/s, epoch=16, loss: =0.0278, batch per device: =7, img shape: =torch.Size([3, 256, 256]), LR=2e-5] \n"
     ]
    },
    {
     "name": "stdout",
     "output_type": "stream",
     "text": [
      "Start generating(ddim)...\n"
     ]
    },
    {
     "name": "stderr",
     "output_type": "stream",
     "text": [
      "100%|██████████| 50/50 [00:08<00:00,  6.11it/s]\n"
     ]
    },
    {
     "name": "stdout",
     "output_type": "stream",
     "text": [
      "ending sampling process(ddim)...\n"
     ]
    },
    {
     "name": "stderr",
     "output_type": "stream",
     "text": [
      "100%|██████████| 112/112 [01:17<00:00,  1.45it/s, epoch=17, loss: =0.0272, batch per device: =7, img shape: =torch.Size([3, 256, 256]), LR=2e-5] \n",
      "100%|██████████| 112/112 [01:17<00:00,  1.44it/s, epoch=18, loss: =0.0261, batch per device: =7, img shape: =torch.Size([3, 256, 256]), LR=2e-5] \n",
      "100%|██████████| 112/112 [01:18<00:00,  1.43it/s, epoch=19, loss: =0.0254, batch per device: =7, img shape: =torch.Size([3, 256, 256]), LR=2e-5] \n",
      "100%|██████████| 112/112 [01:17<00:00,  1.44it/s, epoch=20, loss: =0.0231, batch per device: =7, img shape: =torch.Size([3, 256, 256]), LR=2e-5] \n",
      "100%|██████████| 112/112 [01:17<00:00,  1.44it/s, epoch=21, loss: =0.0222, batch per device: =7, img shape: =torch.Size([3, 256, 256]), LR=2e-5] \n"
     ]
    },
    {
     "name": "stdout",
     "output_type": "stream",
     "text": [
      "Start generating(ddim)...\n"
     ]
    },
    {
     "name": "stderr",
     "output_type": "stream",
     "text": [
      "100%|██████████| 50/50 [00:08<00:00,  6.11it/s]\n"
     ]
    },
    {
     "name": "stdout",
     "output_type": "stream",
     "text": [
      "ending sampling process(ddim)...\n"
     ]
    },
    {
     "name": "stderr",
     "output_type": "stream",
     "text": [
      "100%|██████████| 112/112 [01:17<00:00,  1.45it/s, epoch=22, loss: =0.022, batch per device: =7, img shape: =torch.Size([3, 256, 256]), LR=2e-5]  \n",
      "100%|██████████| 112/112 [01:18<00:00,  1.42it/s, epoch=23, loss: =0.0218, batch per device: =7, img shape: =torch.Size([3, 256, 256]), LR=2e-5] \n",
      "100%|██████████| 112/112 [01:17<00:00,  1.45it/s, epoch=24, loss: =0.0205, batch per device: =7, img shape: =torch.Size([3, 256, 256]), LR=2e-5] \n",
      "100%|██████████| 112/112 [01:17<00:00,  1.44it/s, epoch=25, loss: =0.0187, batch per device: =7, img shape: =torch.Size([3, 256, 256]), LR=2e-5] \n",
      "100%|██████████| 112/112 [01:17<00:00,  1.44it/s, epoch=26, loss: =0.0187, batch per device: =7, img shape: =torch.Size([3, 256, 256]), LR=2e-5] \n"
     ]
    },
    {
     "name": "stdout",
     "output_type": "stream",
     "text": [
      "Start generating(ddim)...\n"
     ]
    },
    {
     "name": "stderr",
     "output_type": "stream",
     "text": [
      "100%|██████████| 50/50 [00:08<00:00,  6.11it/s]\n"
     ]
    },
    {
     "name": "stdout",
     "output_type": "stream",
     "text": [
      "ending sampling process(ddim)...\n"
     ]
    },
    {
     "name": "stderr",
     "output_type": "stream",
     "text": [
      "100%|██████████| 112/112 [01:22<00:00,  1.36it/s, epoch=27, loss: =0.0193, batch per device: =7, img shape: =torch.Size([3, 256, 256]), LR=2e-5] \n",
      "100%|██████████| 112/112 [01:18<00:00,  1.44it/s, epoch=28, loss: =0.0174, batch per device: =7, img shape: =torch.Size([3, 256, 256]), LR=2e-5] \n",
      " 72%|███████▏  | 81/112 [00:58<00:28,  1.10it/s, epoch=29, loss: =0.0187, batch per device: =16, img shape: =torch.Size([3, 256, 256]), LR=2e-5]"
     ]
    }
   ],
   "source": [
    "for epc in range(params['epochs']):\n",
    "    diffusion.model.train()\n",
    "    cemblayer.train()\n",
    "    total_loss=0\n",
    "    steps=0\n",
    "    with tqdm(dataloader, dynamic_ncols=True) as tqdmDataLoader:\n",
    "        for img, lab in tqdmDataLoader:\n",
    "            b = img.shape[0]\n",
    "            optimizer.zero_grad()\n",
    "            x_0 = img.to(device)\n",
    "            lab = lab.to(device)\n",
    "            cemb = cemblayer(lab)\n",
    "            cemb[np.where(np.random.rand(b)<params['threshold'])] = 0\n",
    "            loss = diffusion.trainloss(x_0, cemb = cemb)\n",
    "            loss.backward()\n",
    "            optimizer.step()\n",
    "            steps+=1\n",
    "            total_loss+=loss.item()\n",
    "            tqdmDataLoader.set_postfix(\n",
    "                ordered_dict={\n",
    "                    \"epoch\": epc + 1,\n",
    "                    \"loss: \": total_loss/steps,\n",
    "                    \"batch per device: \":x_0.shape[0],\n",
    "                    \"img shape: \": x_0.shape[1:],\n",
    "                    \"LR\": optimizer.state_dict()['param_groups'][0][\"lr\"]\n",
    "                }\n",
    "            )\n",
    "    warmUpScheduler.step()\n",
    "    if (epc) % 5 == 0:\n",
    "        diffusion.model.eval()\n",
    "        cemblayer.eval()\n",
    "        # generating samples\n",
    "        # The model generate 80 pictures(8 per row) each time\n",
    "        # pictures of same row belong to the same class\n",
    "        all_samples = []\n",
    "        each_device_batch =params['batch_size']//len(class_list)\n",
    "        with torch.no_grad():\n",
    "            lab = torch.ones(len(class_list), each_device_batch // len(class_list)).type(torch.long) \\\n",
    "            * torch.arange(start = 0, end = len(class_list)).reshape(-1, 1)\n",
    "            lab = lab.reshape(-1, 1).squeeze()\n",
    "            lab = lab.to(device)\n",
    "            cemb = cemblayer(lab)\n",
    "            genshape = (each_device_batch , params['outch'], params['image_size'], params['image_size'])\n",
    "            if params['ddim']:\n",
    "                generated = diffusion.ddim_sample(genshape, 50, 0, 'quadratic', cemb = cemb)\n",
    "            else:\n",
    "                generated = diffusion.sample(genshape, cemb = cemb)\n",
    "            img = transback(generated)\n",
    "            img = img.reshape(len(class_list), each_device_batch // len(class_list), params['outch'], params['image_size'], params['image_size']).contiguous()\n",
    "            all_samples.append(img)\n",
    "            samples = torch.concat(all_samples, dim = 1).reshape(each_device_batch, params['outch'],params['image_size'], params['image_size'])\n",
    "        create_dir(f'../../result/conditionDiff/MRI/')\n",
    "        save_image(samples,f'../../result/conditionDiff/MRI/generated_{epc+1}_pict.png', nrow = each_device_batch // len(class_list))\n",
    "        # save checkpoints\n",
    "        checkpoint = {\n",
    "                            'net':diffusion.model.state_dict(),\n",
    "                            'cemblayer':cemblayer.state_dict(),\n",
    "                            'optimizer':optimizer.state_dict(),\n",
    "                            'scheduler':warmUpScheduler.state_dict()\n",
    "                        }\n",
    "        create_dir(f'../../model/conditionDiff/MRI/')\n",
    "        torch.save(checkpoint, f'../../model/conditionDiff/MRI/ck1pt_{epc+1}_checkpoint.pt')\n",
    "    torch.cuda.empty_cache()\n",
    "    "
   ]
  },
  {
   "cell_type": "code",
   "execution_count": 62,
   "metadata": {},
   "outputs": [
    {
     "name": "stdout",
     "output_type": "stream",
     "text": [
      "Start generating(ddim)...\n"
     ]
    },
    {
     "name": "stderr",
     "output_type": "stream",
     "text": [
      "100%|██████████| 50/50 [00:08<00:00,  6.19it/s]"
     ]
    },
    {
     "name": "stdout",
     "output_type": "stream",
     "text": [
      "ending sampling process(ddim)...\n"
     ]
    },
    {
     "name": "stderr",
     "output_type": "stream",
     "text": [
      "\n"
     ]
    }
   ],
   "source": [
    "diffusion.model.eval()\n",
    "cemblayer.eval()\n",
    "# generating samples\n",
    "# The model generate 80 pictures(8 per row) each time\n",
    "# pictures of same row belong to the same class\n",
    "all_samples = []\n",
    "each_device_batch =params['batch_size']//len(class_list)\n",
    "with torch.no_grad():\n",
    "    lab = torch.ones(len(class_list), each_device_batch // len(class_list)).type(torch.long) \\\n",
    "    * torch.arange(start = 0, end = len(class_list)).reshape(-1, 1)\n",
    "    lab = lab.reshape(-1, 1).squeeze()\n",
    "    lab = lab.to(device)\n",
    "    cemb = cemblayer(lab)\n",
    "    genshape = (each_device_batch , params['inch'], params['image_size'], params['image_size'])\n",
    "    if params['ddim']:\n",
    "        generated = diffusion.ddim_sample(genshape, 50, 0, 'quadratic', cemb = cemb)\n",
    "    else:\n",
    "        generated = diffusion.sample(genshape, cemb = cemb)\n",
    "    img = transback(generated)\n",
    "    img = img.reshape(len(class_list), each_device_batch // len(class_list), params['outch'], params['image_size'], params['image_size']).contiguous()\n",
    "    all_samples.append(img)\n",
    "    samples = torch.concat(all_samples, dim = 1).reshape(each_device_batch, params['outch'],params['image_size'], params['image_size'])"
   ]
  }
 ],
 "metadata": {
  "kernelspec": {
   "display_name": "LeeYS",
   "language": "python",
   "name": "python3"
  },
  "language_info": {
   "codemirror_mode": {
    "name": "ipython",
    "version": 3
   },
   "file_extension": ".py",
   "mimetype": "text/x-python",
   "name": "python",
   "nbconvert_exporter": "python",
   "pygments_lexer": "ipython3",
   "version": "3.10.14"
  }
 },
 "nbformat": 4,
 "nbformat_minor": 2
}
