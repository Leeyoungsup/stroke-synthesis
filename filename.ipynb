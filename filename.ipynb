{
 "cells": [
  {
   "cell_type": "code",
   "execution_count": 3,
   "id": "2d9b873e",
   "metadata": {},
   "outputs": [],
   "source": [
    "import os\n",
    "from glob import glob\n",
    "import shutil"
   ]
  },
  {
   "cell_type": "code",
   "execution_count": 24,
   "id": "0fe8ef8e",
   "metadata": {},
   "outputs": [],
   "source": [
    "nii_list=glob('../../result/generator/Normal_mask/*.nii.gz')\n",
    "nii_list.sort()\n",
    "for i in range(len(nii_list)):\n",
    "    file_path = nii_list[i]\n",
    "    file_name=os.path.basename(file_path)  \n",
    "    file_path1=file_path.replace(file_name.split('.')[0],str(i))\n",
    "    os.rename(file_path, file_path1)"
   ]
  },
  {
   "cell_type": "code",
   "execution_count": 25,
   "id": "009c193c",
   "metadata": {},
   "outputs": [],
   "source": [
    "for i in range(len(nii_list)*11):\n",
    "    file_path = nii_list[i//11]\n",
    "    file_name=os.path.basename(file_path)\n",
    "    shutil.copy(file_path, f'../../result/generator/Normal_mask/{len(nii_list)+i}.nii.gz')"
   ]
  },
  {
   "cell_type": "code",
   "execution_count": 21,
   "id": "de981c7a",
   "metadata": {},
   "outputs": [
    {
     "data": {
      "text/plain": [
       "10"
      ]
     },
     "execution_count": 21,
     "metadata": {},
     "output_type": "execute_result"
    }
   ],
   "source": [
    "109//10"
   ]
  }
 ],
 "metadata": {
  "kernelspec": {
   "display_name": "LeeYS",
   "language": "python",
   "name": "python3"
  },
  "language_info": {
   "codemirror_mode": {
    "name": "ipython",
    "version": 3
   },
   "file_extension": ".py",
   "mimetype": "text/x-python",
   "name": "python",
   "nbconvert_exporter": "python",
   "pygments_lexer": "ipython3",
   "version": "3.10.14"
  }
 },
 "nbformat": 4,
 "nbformat_minor": 5
}
