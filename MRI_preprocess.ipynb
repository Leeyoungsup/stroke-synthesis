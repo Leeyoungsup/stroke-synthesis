{
 "cells": [
  {
   "cell_type": "code",
   "execution_count": 38,
   "metadata": {},
   "outputs": [],
   "source": [
    "import pydicom\n",
    "from pydicom.dataset import Dataset, FileDataset\n",
    "import numpy as np\n",
    "import datetime\n",
    "from glob import glob\n",
    "import os\n",
    "import matplotlib.pyplot as plt\n",
    "from tqdm import tqdm\n",
    "import pandas as pd\n",
    "import nibabel as nib\n",
    "import shutil\n",
    "def create_directory(path):\n",
    "    if not os.path.exists(path):\n",
    "        os.makedirs(path)"
   ]
  },
  {
   "cell_type": "code",
   "execution_count": 11,
   "metadata": {},
   "outputs": [],
   "source": [
    "class_list=['0100.Ischemic Stroke','0300.Stroke Control Group']\n",
    "save_class_list=['Ischemic','Normal']\n",
    "data_dir='../../data/stroke_2023/**/1.원천데이터/'\n"
   ]
  },
  {
   "cell_type": "code",
   "execution_count": null,
   "metadata": {},
   "outputs": [
    {
     "name": "stderr",
     "output_type": "stream",
     "text": [
      "100%|██████████| 81624/81624 [00:54<00:00, 1500.27it/s]\n",
      "100%|██████████| 39617/39617 [00:27<00:00, 1429.91it/s]\n"
     ]
    }
   ],
   "source": [
    "df=pd.DataFrame(columns=['class','slice','thickness'])\n",
    "slice_list=[]\n",
    "step=0\n",
    "for j in range(len(class_list)):\n",
    "\n",
    "    data_list=glob(data_dir+class_list[j]+'/*Diffusion/*DWI*.dcm')\n",
    "    for i in tqdm(range(len(data_list))):\n",
    "\n",
    "        folder_split=os.path.basename(data_list[i]).split('_')\n",
    "        folder_name=folder_split[0]+'_'+folder_split[1]\n",
    "        dicom_file=data_list[i]\n",
    "        if folder_name in slice_list:\n",
    "            continue\n",
    "        else:\n",
    "            slice_list.append(folder_name)\n",
    "        dcm = pydicom.dcmread(dicom_file)\n",
    "        df.loc[step, 'class'] = save_class_list[j]\n",
    "        df.loc[step, 'slice'] = folder_name\n",
    "        df.loc[step, 'thickness'] = dcm.SliceThickness\n",
    "        step+=1\n",
    "df['thickness'] = df['thickness'].astype(float).round(1)\n",
    "df.to_csv('../../data/MRI_thickness_list.csv', index=False)\n",
    "filter_df = df[df.thickness == df.thickness.value_counts().keys()[0]]\n",
    "filter_df.to_csv('../../data/MRI_s_thickness_list.csv', index=False)"
   ]
  },
  {
   "cell_type": "code",
   "execution_count": null,
   "metadata": {},
   "outputs": [],
   "source": [
    "filter_df = pd.read_csv('../../data/MRI_s_thickness_list.csv')\n",
    "folder_path='../../data/'\n",
    "for i in range(len(filter_df)):\n",
    "    filter_df.loc[i, 'slice'] = filter_df.loc[i, 'slice'].replace(' ', '_')"
   ]
  },
  {
   "cell_type": "code",
   "execution_count": null,
   "metadata": {},
   "outputs": [],
   "source": [
    "df['thickness'] = df['thickness'].astype(float).round(1)\n"
   ]
  }
 ],
 "metadata": {
  "kernelspec": {
   "display_name": "LeeYS",
   "language": "python",
   "name": "python3"
  },
  "language_info": {
   "codemirror_mode": {
    "name": "ipython",
    "version": 3
   },
   "file_extension": ".py",
   "mimetype": "text/x-python",
   "name": "python",
   "nbconvert_exporter": "python",
   "pygments_lexer": "ipython3",
   "version": "3.10.14"
  }
 },
 "nbformat": 4,
 "nbformat_minor": 2
}
