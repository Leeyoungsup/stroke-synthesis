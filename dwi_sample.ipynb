{
 "cells": [
  {
   "cell_type": "code",
   "execution_count": 1,
   "id": "ce51de9b",
   "metadata": {},
   "outputs": [
    {
     "name": "stderr",
     "output_type": "stream",
     "text": [
      "2025-05-28 09:58:39.132768: E external/local_xla/xla/stream_executor/cuda/cuda_fft.cc:485] Unable to register cuFFT factory: Attempting to register factory for plugin cuFFT when one has already been registered\n",
      "2025-05-28 09:58:39.255958: E external/local_xla/xla/stream_executor/cuda/cuda_dnn.cc:8454] Unable to register cuDNN factory: Attempting to register factory for plugin cuDNN when one has already been registered\n",
      "2025-05-28 09:58:39.292415: E external/local_xla/xla/stream_executor/cuda/cuda_blas.cc:1452] Unable to register cuBLAS factory: Attempting to register factory for plugin cuBLAS when one has already been registered\n",
      "2025-05-28 09:58:39.490871: I tensorflow/core/platform/cpu_feature_guard.cc:210] This TensorFlow binary is optimized to use available CPU instructions in performance-critical operations.\n",
      "To enable the following instructions: AVX2 FMA, in other operations, rebuild TensorFlow with the appropriate compiler flags.\n",
      "2025-05-28 09:58:40.450905: W tensorflow/compiler/tf2tensorrt/utils/py_utils.cc:38] TF-TRT Warning: Could not find TensorRT\n"
     ]
    },
    {
     "name": "stdout",
     "output_type": "stream",
     "text": [
      "APEX: OFF\n"
     ]
    }
   ],
   "source": [
    "#-*- coding:utf-8 -*-\n",
    "from med_ddpm.diffusion_model.trainer import GaussianDiffusion, num_to_groups\n",
    "from med_ddpm.diffusion_model.trainer import GaussianDiffusion, Trainer\n",
    "from med_ddpm.diffusion_model.unet import create_model\n",
    "from torchvision.transforms import Compose, Lambda\n",
    "from med_ddpm.utils.dtypes import LabelEnum\n",
    "import nibabel as nib\n",
    "import torchio as tio\n",
    "import numpy as np\n",
    "import argparse\n",
    "import torch\n",
    "import os\n",
    "import glob"
   ]
  },
  {
   "cell_type": "code",
   "execution_count": null,
   "id": "b3286348",
   "metadata": {},
   "outputs": [],
   "source": [
    "\n",
    "exportfolder ='../../result/generator/Ischemic_DWI'\n",
    "inputfolder = '../../result/generator/Ischemic_mask'\n",
    "input_size = 128\n",
    "depth_size = 64\n",
    "batchsize = 8\n",
    "weightfile = '../../model/med_ddpm/dwi_250.pt'\n",
    "num_channels = 64\n",
    "num_res_blocks = 1\n",
    "num_samples = 1\n",
    "in_channels =3\n",
    "out_channels = 1\n",
    "device = \"cuda:4\" if torch.cuda.is_available() else \"cpu\"\n",
    "print(\"Device: \", device)\n",
    "i=6\n",
    "mask_list = sorted(glob.glob(f\"{inputfolder}/*.nii.gz\"))[1000*i:1000*i+1000]\n",
    "print(len(mask_list))\n"
   ]
  },
  {
   "cell_type": "code",
   "execution_count": null,
   "id": "e770056b",
   "metadata": {},
   "outputs": [],
   "source": [
    "\n",
    "def resize_img_4d(input_img):\n",
    "    d, h, w, c = input_img.shape  # Axial 기준: (D, H, W, C)\n",
    "    result_img = np.zeros((depth_size, input_size, input_size, in_channels - 1))  # (D, H, W, C)\n",
    "\n",
    "    if d != depth_size or h != input_size or w != input_size:\n",
    "        for ch in range(c):\n",
    "            buff = input_img[..., ch]  # (D, H, W)\n",
    "            img = tio.ScalarImage(tensor=buff[np.newaxis, ...])  # (1, D, H, W)\n",
    "            cop = tio.Resize((depth_size, input_size, input_size))\n",
    "            img = np.asarray(cop(img))[0]  # (D, H, W)\n",
    "            result_img[..., ch] = img\n",
    "        return result_img\n",
    "    else:\n",
    "        return input_img\n",
    "\n",
    "\n",
    "def label2masks(masked_img):\n",
    "    result_img = np.zeros(masked_img.shape + (in_channels-1,))\n",
    "    result_img[masked_img==LabelEnum.BRAINAREA.value, 0] = 1\n",
    "    result_img[masked_img==LabelEnum.TUMORAREA.value, 1] = 1\n",
    "    return result_img\n",
    "\n",
    "\n",
    "input_transform = Compose([\n",
    "    Lambda(lambda t: torch.tensor(t).float()),\n",
    "    Lambda(lambda t: (t * 2) - 1),\n",
    "    Lambda(lambda t: t.permute(3, 0, 1, 2)),\n",
    "    Lambda(lambda t: t.unsqueeze(0))\n",
    "])\n",
    "\n",
    "model = create_model(input_size, num_channels, num_res_blocks, in_channels=in_channels, out_channels=out_channels).to(device)\n",
    "\n",
    "\n",
    "diffusion = GaussianDiffusion(\n",
    "    model,\n",
    "    image_size = input_size,\n",
    "    depth_size = depth_size,\n",
    "    timesteps = 250,   # number of steps\n",
    "    loss_type = 'L1', \n",
    "    with_condition=True,\n",
    ").to(device)\n",
    "diffusion.load_state_dict(torch.load(weightfile,map_location=device)['ema'])\n",
    "print(\"Model Loaded!\")\n"
   ]
  },
  {
   "cell_type": "code",
   "execution_count": null,
   "id": "63a9b1dc",
   "metadata": {},
   "outputs": [],
   "source": [
    "max_file_size_kb = 3450\n",
    "max_retry = 10\n",
    "img_dir = exportfolder\n",
    "for k, inputfile in enumerate(mask_list):\n",
    "    left = len(mask_list) - (k + 1)\n",
    "    print(\"LEFT: \", left)\n",
    "\n",
    "    ref = nib.load(inputfile)\n",
    "    msk_name = inputfile.split('/')[-1]\n",
    "    refImg = ref.get_fdata()\n",
    "    img = label2masks(refImg)\n",
    "    img = resize_img_4d(img)\n",
    "    input_tensor = input_transform(img)\n",
    "    condition_tensor = input_tensor.to(device)\n",
    "\n",
    "    for sample_idx in range(num_samples):\n",
    "        saved_count = 0\n",
    "        retry = 0\n",
    "        file_saved = False\n",
    "        generated = diffusion.sample(batch_size=batchsize, condition_tensors=condition_tensor.repeat(batchsize, 1, 1, 1, 1))\n",
    "        generated = generated.unsqueeze(1).cpu().numpy()  # (B, 1, D, H, W)\n",
    "\n",
    "        for b in range(batchsize):\n",
    "            sampleImage = generated[b][0]  # shape: (D, H, W)\n",
    "            sampleImage = sampleImage.reshape(refImg.shape)\n",
    "\n",
    "            # 저장 경로 생성\n",
    "            out_name = f\"{msk_name}\"\n",
    "            nifti_path = os.path.join(img_dir, out_name)\n",
    "            nifti_img = nib.Nifti1Image(sampleImage, affine=ref.affine)\n",
    "            nib.save(nifti_img, nifti_path)\n",
    "            file_size_kb = os.path.getsize(nifti_path) / 1024\n",
    "            if file_size_kb <= max_file_size_kb:\n",
    "                file_saved = True\n",
    "                saved_count += 1\n",
    "                break\n",
    "            else:\n",
    "                os.remove(nifti_path)  # 너무 크면 삭제하고 재시도\n",
    "                continue\n",
    "    \n",
    "    torch.cuda.empty_cache()"
   ]
  }
 ],
 "metadata": {
  "kernelspec": {
   "display_name": "LeeYS",
   "language": "python",
   "name": "python3"
  },
  "language_info": {
   "codemirror_mode": {
    "name": "ipython",
    "version": 3
   },
   "file_extension": ".py",
   "mimetype": "text/x-python",
   "name": "python",
   "nbconvert_exporter": "python",
   "pygments_lexer": "ipython3",
   "version": "3.10.14"
  }
 },
 "nbformat": 4,
 "nbformat_minor": 5
}
