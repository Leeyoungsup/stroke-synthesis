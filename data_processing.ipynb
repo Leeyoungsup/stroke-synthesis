{
 "cells": [
  {
   "cell_type": "code",
   "execution_count": 1,
   "metadata": {},
   "outputs": [],
   "source": [
    "import numpy as np\n",
    "import matplotlib.pyplot as plt\n",
    "from PIL import Image\n",
    "import pydicom\n",
    "import imageio\n",
    "import os\n",
    "from glob import glob\n",
    "from tqdm import tqdm\n",
    "import json\n",
    "def create_dir(path):\n",
    "    if not os.path.exists(path):\n",
    "        os.makedirs(path)"
   ]
  },
  {
   "cell_type": "markdown",
   "metadata": {},
   "source": [
    "CT"
   ]
  },
  {
   "cell_type": "code",
   "execution_count": 2,
   "metadata": {},
   "outputs": [],
   "source": [
    "class_list=['0100.Ischemic Stroke','0200.Hemorrhagic Stroke','0300.Stroke Control Group']\n",
    "save_class_list=['Ischemic','Hemorrhagic','Normal']\n",
    "data_dir='../../data/stroke_2023/**/1.원천데이터/'\n",
    "save_dir='../../data/stroke_CT/'"
   ]
  },
  {
   "cell_type": "code",
   "execution_count": 3,
   "metadata": {},
   "outputs": [
    {
     "name": "stderr",
     "output_type": "stream",
     "text": [
      "100%|██████████| 73876/73876 [25:54<00:00, 47.52it/s]  \n",
      "100%|██████████| 56076/56076 [19:51<00:00, 47.08it/s]\n",
      "100%|██████████| 29307/29307 [11:15<00:00, 43.42it/s]\n"
     ]
    }
   ],
   "source": [
    "for j in range(len(class_list)):\n",
    "    data_list=glob(data_dir+class_list[j]+'/*NCCT/*NCCT*.dcm')\n",
    "    for i in tqdm(range(len(data_list))):\n",
    "        folder_split=os.path.basename(data_list[i]).split('_')\n",
    "        folder_name=folder_split[0]+'_'+folder_split[1]\n",
    "        folder_path=save_dir+save_class_list[j]+'/'+folder_name+'/'\n",
    "        create_dir(folder_path)\n",
    "        dicom_file=data_list[i]\n",
    "        dcm = pydicom.dcmread(dicom_file)\n",
    "        img = dcm.pixel_array.astype(np.float32)\n",
    "        # HU 변환 적용\n",
    "        slope = dcm.RescaleSlope if 'RescaleSlope' in dcm else 1\n",
    "        intercept = dcm.RescaleIntercept if 'RescaleIntercept' in dcm else 0\n",
    "        img = img * slope + intercept  # HU 변환\n",
    "        # DICOM 헤더에서 Window Level과 Width 가져오기\n",
    "        window_center = dcm.WindowCenter if hasattr(dcm, 'WindowCenter') else None\n",
    "        window_width = dcm.WindowWidth if hasattr(dcm, 'WindowWidth') else None\n",
    "\n",
    "        # Window Level/Width가 여러 개일 경우 첫 번째 값 사용\n",
    "        if isinstance(window_center, pydicom.multival.MultiValue):\n",
    "            window_center = window_center[0]\n",
    "        if isinstance(window_width, pydicom.multival.MultiValue):\n",
    "            window_width = window_width[0]\n",
    "\n",
    "        if window_center is not None and window_width is not None:\n",
    "            min_val = window_center - window_width / 2\n",
    "            max_val = window_center + window_width / 2\n",
    "            img = np.clip(img, min_val, max_val)  # 범위 내 값 유지\n",
    "            img = (img - min_val) / (max_val - min_val) * 255  # 0~255 정규화\n",
    "        else:\n",
    "            # WL/WW 값이 없으면 기본적으로 min-max 정규화\n",
    "            img = (img - img.min()) / (img.max() - img.min()) * 255\n",
    "\n",
    "        Image.fromarray(img.astype(np.uint8)).save(folder_path+os.path.splitext(os.path.basename(dicom_file))[0].split('_')[-1]+'.png')"
   ]
  },
  {
   "cell_type": "markdown",
   "metadata": {},
   "source": [
    "MRI"
   ]
  },
  {
   "cell_type": "code",
   "execution_count": 8,
   "metadata": {},
   "outputs": [],
   "source": [
    "\n",
    "save_class_list1=['ADC','DWI']\n",
    "class_list=['0100.Ischemic Stroke','0300.Stroke Control Group']\n",
    "save_class_list=['Ischemic','Normal']\n",
    "data_dir='../../data/stroke_2023/**/1.원천데이터/'\n",
    "save_dir='../../data/stroke_mri/'"
   ]
  },
  {
   "cell_type": "code",
   "execution_count": 9,
   "metadata": {},
   "outputs": [
    {
     "name": "stderr",
     "output_type": "stream",
     "text": [
      " 27%|██▋       | 21973/81618 [07:01<23:32, 42.22it/s] /tmp/ipykernel_1565993/1776336736.py:30: RuntimeWarning: invalid value encountered in divide\n",
      "  img = (img - min_val) / (max_val - min_val) * 255  # 0~255 정규화\n",
      "/tmp/ipykernel_1565993/1776336736.py:35: RuntimeWarning: invalid value encountered in cast\n",
      "  Image.fromarray(img.astype(np.uint8)).save(folder_path+os.path.splitext(os.path.basename(dicom_file))[0].split('_')[-1]+'.png')\n",
      "100%|██████████| 81618/81618 [27:11<00:00, 50.03it/s] \n",
      "100%|██████████| 81624/81624 [35:25<00:00, 38.41it/s]  \n",
      "100%|██████████| 39660/39660 [13:54<00:00, 47.54it/s] \n",
      "100%|██████████| 39617/39617 [16:41<00:00, 39.57it/s]\n"
     ]
    }
   ],
   "source": [
    "for k in range(len(class_list)):\n",
    "    for j in range(len(save_class_list1)):\n",
    "        data_list=glob(data_dir+class_list[k]+'/*MR Diffusion/*'+save_class_list1[j]+'*.dcm')\n",
    "        for i in tqdm(range(len(data_list))):\n",
    "            folder_split=os.path.basename(data_list[i]).split('_')\n",
    "            folder_name=folder_split[0]+'_'+folder_split[1]\n",
    "            folder_path=save_dir+save_class_list1[j]+'/'+save_class_list[k]+'/'+folder_name+'/'\n",
    "            create_dir(folder_path)\n",
    "            dicom_file=data_list[i]\n",
    "            dcm = pydicom.dcmread(dicom_file)\n",
    "            img = dcm.pixel_array.astype(np.float32)\n",
    "            # HU 변환 적용\n",
    "            slope = dcm.RescaleSlope if 'RescaleSlope' in dcm else 1\n",
    "            intercept = dcm.RescaleIntercept if 'RescaleIntercept' in dcm else 0\n",
    "            img = img * slope + intercept  # HU 변환\n",
    "            # DICOM 헤더에서 Window Level과 Width 가져오기\n",
    "            window_center = dcm.WindowCenter if hasattr(dcm, 'WindowCenter') else None\n",
    "            window_width = dcm.WindowWidth if hasattr(dcm, 'WindowWidth') else None\n",
    "\n",
    "            # Window Level/Width가 여러 개일 경우 첫 번째 값 사용\n",
    "            if isinstance(window_center, pydicom.multival.MultiValue):\n",
    "                window_center = window_center[0]\n",
    "            if isinstance(window_width, pydicom.multival.MultiValue):\n",
    "                window_width = window_width[0]\n",
    "\n",
    "            if window_center is not None and window_width is not None:\n",
    "                min_val = window_center - window_width / 2\n",
    "                max_val = window_center + window_width / 2\n",
    "                img = np.clip(img, min_val, max_val)  # 범위 내 값 유지\n",
    "                img = (img - min_val) / (max_val - min_val) * 255  # 0~255 정규화\n",
    "            else:\n",
    "                # WL/WW 값이 없으면 기본적으로 min-max 정규화\n",
    "                img = (img - img.min()) / (img.max() - img.min()) * 255\n",
    "\n",
    "            Image.fromarray(img.astype(np.uint8)).save(folder_path+os.path.splitext(os.path.basename(dicom_file))[0].split('_')[-1]+'.png')"
   ]
  },
  {
   "cell_type": "code",
   "execution_count": 5,
   "metadata": {},
   "outputs": [
    {
     "ename": "KeyboardInterrupt",
     "evalue": "",
     "output_type": "error",
     "traceback": [
      "\u001b[0;31m---------------------------------------------------------------------------\u001b[0m",
      "\u001b[0;31mKeyboardInterrupt\u001b[0m                         Traceback (most recent call last)",
      "Input \u001b[0;32mIn [5]\u001b[0m, in \u001b[0;36m<cell line: 2>\u001b[0;34m()\u001b[0m\n\u001b[1;32m      1\u001b[0m \u001b[38;5;28;01mimport\u001b[39;00m \u001b[38;5;21;01mshutil\u001b[39;00m\n\u001b[0;32m----> 2\u001b[0m \u001b[43mshutil\u001b[49m\u001b[38;5;241;43m.\u001b[39;49m\u001b[43mrmtree\u001b[49m\u001b[43m(\u001b[49m\u001b[38;5;124;43m'\u001b[39;49m\u001b[38;5;124;43m../../data/Ischemic_stroke_mri/\u001b[39;49m\u001b[38;5;124;43m'\u001b[39;49m\u001b[43m)\u001b[49m\n\u001b[1;32m      3\u001b[0m shutil\u001b[38;5;241m.\u001b[39mrmtree(\u001b[38;5;124m'\u001b[39m\u001b[38;5;124m../../data/stroke_MRI_preprocessed/\u001b[39m\u001b[38;5;124m'\u001b[39m)\n\u001b[1;32m      4\u001b[0m shutil\u001b[38;5;241m.\u001b[39mrmtree(\u001b[38;5;124m'\u001b[39m\u001b[38;5;124m../../data/2D_MRI/\u001b[39m\u001b[38;5;124m'\u001b[39m)\n",
      "File \u001b[0;32m~/anaconda3/envs/LeeYS/lib/python3.10/shutil.py:725\u001b[0m, in \u001b[0;36mrmtree\u001b[0;34m(path, ignore_errors, onerror)\u001b[0m\n\u001b[1;32m    723\u001b[0m \u001b[38;5;28;01mtry\u001b[39;00m:\n\u001b[1;32m    724\u001b[0m     \u001b[38;5;28;01mif\u001b[39;00m os\u001b[38;5;241m.\u001b[39mpath\u001b[38;5;241m.\u001b[39msamestat(orig_st, os\u001b[38;5;241m.\u001b[39mfstat(fd)):\n\u001b[0;32m--> 725\u001b[0m         \u001b[43m_rmtree_safe_fd\u001b[49m\u001b[43m(\u001b[49m\u001b[43mfd\u001b[49m\u001b[43m,\u001b[49m\u001b[43m \u001b[49m\u001b[43mpath\u001b[49m\u001b[43m,\u001b[49m\u001b[43m \u001b[49m\u001b[43monerror\u001b[49m\u001b[43m)\u001b[49m\n\u001b[1;32m    726\u001b[0m         \u001b[38;5;28;01mtry\u001b[39;00m:\n\u001b[1;32m    727\u001b[0m             os\u001b[38;5;241m.\u001b[39mclose(fd)\n",
      "File \u001b[0;32m~/anaconda3/envs/LeeYS/lib/python3.10/shutil.py:658\u001b[0m, in \u001b[0;36m_rmtree_safe_fd\u001b[0;34m(topfd, path, onerror)\u001b[0m\n\u001b[1;32m    656\u001b[0m \u001b[38;5;28;01mtry\u001b[39;00m:\n\u001b[1;32m    657\u001b[0m     \u001b[38;5;28;01mif\u001b[39;00m os\u001b[38;5;241m.\u001b[39mpath\u001b[38;5;241m.\u001b[39msamestat(orig_st, os\u001b[38;5;241m.\u001b[39mfstat(dirfd)):\n\u001b[0;32m--> 658\u001b[0m         \u001b[43m_rmtree_safe_fd\u001b[49m\u001b[43m(\u001b[49m\u001b[43mdirfd\u001b[49m\u001b[43m,\u001b[49m\u001b[43m \u001b[49m\u001b[43mfullname\u001b[49m\u001b[43m,\u001b[49m\u001b[43m \u001b[49m\u001b[43monerror\u001b[49m\u001b[43m)\u001b[49m\n\u001b[1;32m    659\u001b[0m         \u001b[38;5;28;01mtry\u001b[39;00m:\n\u001b[1;32m    660\u001b[0m             os\u001b[38;5;241m.\u001b[39mclose(dirfd)\n",
      "File \u001b[0;32m~/anaconda3/envs/LeeYS/lib/python3.10/shutil.py:658\u001b[0m, in \u001b[0;36m_rmtree_safe_fd\u001b[0;34m(topfd, path, onerror)\u001b[0m\n\u001b[1;32m    656\u001b[0m \u001b[38;5;28;01mtry\u001b[39;00m:\n\u001b[1;32m    657\u001b[0m     \u001b[38;5;28;01mif\u001b[39;00m os\u001b[38;5;241m.\u001b[39mpath\u001b[38;5;241m.\u001b[39msamestat(orig_st, os\u001b[38;5;241m.\u001b[39mfstat(dirfd)):\n\u001b[0;32m--> 658\u001b[0m         \u001b[43m_rmtree_safe_fd\u001b[49m\u001b[43m(\u001b[49m\u001b[43mdirfd\u001b[49m\u001b[43m,\u001b[49m\u001b[43m \u001b[49m\u001b[43mfullname\u001b[49m\u001b[43m,\u001b[49m\u001b[43m \u001b[49m\u001b[43monerror\u001b[49m\u001b[43m)\u001b[49m\n\u001b[1;32m    659\u001b[0m         \u001b[38;5;28;01mtry\u001b[39;00m:\n\u001b[1;32m    660\u001b[0m             os\u001b[38;5;241m.\u001b[39mclose(dirfd)\n",
      "File \u001b[0;32m~/anaconda3/envs/LeeYS/lib/python3.10/shutil.py:658\u001b[0m, in \u001b[0;36m_rmtree_safe_fd\u001b[0;34m(topfd, path, onerror)\u001b[0m\n\u001b[1;32m    656\u001b[0m \u001b[38;5;28;01mtry\u001b[39;00m:\n\u001b[1;32m    657\u001b[0m     \u001b[38;5;28;01mif\u001b[39;00m os\u001b[38;5;241m.\u001b[39mpath\u001b[38;5;241m.\u001b[39msamestat(orig_st, os\u001b[38;5;241m.\u001b[39mfstat(dirfd)):\n\u001b[0;32m--> 658\u001b[0m         \u001b[43m_rmtree_safe_fd\u001b[49m\u001b[43m(\u001b[49m\u001b[43mdirfd\u001b[49m\u001b[43m,\u001b[49m\u001b[43m \u001b[49m\u001b[43mfullname\u001b[49m\u001b[43m,\u001b[49m\u001b[43m \u001b[49m\u001b[43monerror\u001b[49m\u001b[43m)\u001b[49m\n\u001b[1;32m    659\u001b[0m         \u001b[38;5;28;01mtry\u001b[39;00m:\n\u001b[1;32m    660\u001b[0m             os\u001b[38;5;241m.\u001b[39mclose(dirfd)\n",
      "File \u001b[0;32m~/anaconda3/envs/LeeYS/lib/python3.10/shutil.py:679\u001b[0m, in \u001b[0;36m_rmtree_safe_fd\u001b[0;34m(topfd, path, onerror)\u001b[0m\n\u001b[1;32m    677\u001b[0m \u001b[38;5;28;01melse\u001b[39;00m:\n\u001b[1;32m    678\u001b[0m     \u001b[38;5;28;01mtry\u001b[39;00m:\n\u001b[0;32m--> 679\u001b[0m         \u001b[43mos\u001b[49m\u001b[38;5;241;43m.\u001b[39;49m\u001b[43munlink\u001b[49m\u001b[43m(\u001b[49m\u001b[43mentry\u001b[49m\u001b[38;5;241;43m.\u001b[39;49m\u001b[43mname\u001b[49m\u001b[43m,\u001b[49m\u001b[43m \u001b[49m\u001b[43mdir_fd\u001b[49m\u001b[38;5;241;43m=\u001b[39;49m\u001b[43mtopfd\u001b[49m\u001b[43m)\u001b[49m\n\u001b[1;32m    680\u001b[0m     \u001b[38;5;28;01mexcept\u001b[39;00m \u001b[38;5;167;01mOSError\u001b[39;00m:\n\u001b[1;32m    681\u001b[0m         onerror(os\u001b[38;5;241m.\u001b[39munlink, fullname, sys\u001b[38;5;241m.\u001b[39mexc_info())\n",
      "\u001b[0;31mKeyboardInterrupt\u001b[0m: "
     ]
    }
   ],
   "source": [
    "import shutil\n",
    "shutil.rmtree('../../data/Ischemic_stroke_mri/')\n",
    "shutil.rmtree('../../data/stroke_MRI_preprocessed/')\n",
    "shutil.rmtree('../../data/2D_MRI/')"
   ]
  },
  {
   "cell_type": "code",
   "execution_count": 11,
   "metadata": {},
   "outputs": [],
   "source": [
    "save_class_list=['ADC','DWI']\n",
    "data_dir='../../data/stroke_2023/**/2.라벨링데이터/'\n",
    "save_dir='../../data/stroke_mri/label/'"
   ]
  },
  {
   "cell_type": "code",
   "execution_count": 12,
   "metadata": {},
   "outputs": [
    {
     "name": "stderr",
     "output_type": "stream",
     "text": [
      "100%|██████████| 81618/81618 [25:31<00:00, 53.31it/s]  \n",
      "100%|██████████| 81624/81624 [27:34<00:00, 49.33it/s]  \n"
     ]
    }
   ],
   "source": [
    "for j in range(len(save_class_list)):\n",
    "    data_list=glob(data_dir+'0100.Ischemic Stroke'+'/*MR Diffusion/*'+save_class_list[j]+'*.json')\n",
    "    for i in tqdm(range(len(data_list))):\n",
    "        with open(data_list[i], 'r') as f:\n",
    "            json_data = json.load(f)\n",
    "        label=np.array(json_data[\"Ischemic Core\"])*255\n",
    "        folder_split=os.path.basename(data_list[i]).split('_')\n",
    "        folder_name=folder_split[0]+'_'+folder_split[1]\n",
    "        folder_path=save_dir+save_class_list[j]+'/'+folder_name+'/'\n",
    "        create_dir(folder_path)\n",
    "        Image.fromarray(label.astype(np.uint8)).save(folder_path+os.path.splitext(os.path.basename(data_list[i]))[0].split('_')[-1]+'.png')"
   ]
  },
  {
   "cell_type": "code",
   "execution_count": null,
   "metadata": {},
   "outputs": [],
   "source": []
  }
 ],
 "metadata": {
  "kernelspec": {
   "display_name": "LeeYS",
   "language": "python",
   "name": "python3"
  },
  "language_info": {
   "codemirror_mode": {
    "name": "ipython",
    "version": 3
   },
   "file_extension": ".py",
   "mimetype": "text/x-python",
   "name": "python",
   "nbconvert_exporter": "python",
   "pygments_lexer": "ipython3",
   "version": "3.10.14"
  }
 },
 "nbformat": 4,
 "nbformat_minor": 2
}
