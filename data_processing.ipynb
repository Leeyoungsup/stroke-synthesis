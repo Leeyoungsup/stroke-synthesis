{
 "cells": [
  {
   "cell_type": "code",
   "execution_count": 2,
   "metadata": {},
   "outputs": [],
   "source": [
    "import numpy as np\n",
    "import matplotlib.pyplot as plt\n",
    "from PIL import Image\n",
    "import pydicom\n",
    "import imageio\n",
    "import os\n",
    "from glob import glob\n",
    "from tqdm import tqdm\n",
    "import json\n",
    "import cv2\n",
    "def create_dir(path):\n",
    "    if not os.path.exists(path):\n",
    "        os.makedirs(path)"
   ]
  },
  {
   "cell_type": "markdown",
   "metadata": {},
   "source": [
    "CT"
   ]
  },
  {
   "cell_type": "code",
   "execution_count": null,
   "metadata": {},
   "outputs": [],
   "source": [
    "class_list=['0100.Ischemic Stroke','0200.Hemorrhagic Stroke','0300.Stroke Control Group']\n",
    "save_class_list=['Ischemic','Hemorrhagic','Normal']\n",
    "data_dir='../../data/stroke_2023/**/1.원천데이터/'\n",
    "save_dir='../../data/stroke_CT/'"
   ]
  },
  {
   "cell_type": "code",
   "execution_count": null,
   "metadata": {},
   "outputs": [],
   "source": [
    "for j in range(len(class_list)):\n",
    "    data_list=glob(data_dir+class_list[j]+'/*NCCT/*NCCT*.dcm')\n",
    "    for i in tqdm(range(len(data_list))):\n",
    "        folder_split=os.path.basename(data_list[i]).split('_')\n",
    "        folder_name=folder_split[0]+'_'+folder_split[1]\n",
    "        folder_path=save_dir+save_class_list[j]+'/'+folder_name+'/'\n",
    "        create_dir(folder_path)\n",
    "        dicom_file=data_list[i]\n",
    "        dcm = pydicom.dcmread(dicom_file)\n",
    "        img = dcm.pixel_array.astype(np.float32)\n",
    "        # HU 변환 적용\n",
    "        slope = dcm.RescaleSlope if 'RescaleSlope' in dcm else 1\n",
    "        intercept = dcm.RescaleIntercept if 'RescaleIntercept' in dcm else 0\n",
    "        img = img * slope + intercept  # HU 변환\n",
    "        # DICOM 헤더에서 Window Level과 Width 가져오기\n",
    "        window_center = dcm.WindowCenter if hasattr(dcm, 'WindowCenter') else None\n",
    "        window_width = dcm.WindowWidth if hasattr(dcm, 'WindowWidth') else None\n",
    "\n",
    "        # Window Level/Width가 여러 개일 경우 첫 번째 값 사용\n",
    "        if isinstance(window_center, pydicom.multival.MultiValue):\n",
    "            window_center = window_center[0]\n",
    "        if isinstance(window_width, pydicom.multival.MultiValue):\n",
    "            window_width = window_width[0]\n",
    "\n",
    "        if window_center is not None and window_width is not None:\n",
    "            min_val = window_center - window_width / 2\n",
    "            max_val = window_center + window_width / 2\n",
    "            img = np.clip(img, min_val, max_val)  # 범위 내 값 유지\n",
    "            img = (img - min_val) / (max_val - min_val) * 255  # 0~255 정규화\n",
    "        else:\n",
    "            # WL/WW 값이 없으면 기본적으로 min-max 정규화\n",
    "            img = (img - img.min()) / (img.max() - img.min()) * 255\n",
    "\n",
    "        Image.fromarray(img.astype(np.uint8)).save(folder_path+os.path.splitext(os.path.basename(dicom_file))[0].split('_')[-1]+'.png')"
   ]
  },
  {
   "cell_type": "markdown",
   "metadata": {},
   "source": [
    "MRI"
   ]
  },
  {
   "cell_type": "code",
   "execution_count": 3,
   "metadata": {},
   "outputs": [],
   "source": [
    "\n",
    "\n",
    "save_class_list1=['DWI']\n",
    "class_list=['0100.Ischemic Stroke','0300.Stroke Control Group']\n",
    "save_class_list=['Ischemic','Normal']\n",
    "data_dir='../../data/stroke_2023/**/1.원천데이터/'\n",
    "save_dir='../../data/stroke_mri1/'\n",
    "mask_png_list=glob('../../data/stroke_mri/label/DWI/*')"
   ]
  },
  {
   "cell_type": "code",
   "execution_count": null,
   "metadata": {},
   "outputs": [],
   "source": [
    "mask_png_folder_list=[os.path.basename(f) for f in mask_png_list]\n",
    "i=6\n",
    "\n",
    "nii_img=nib.load(nii_list[i])\n",
    "nii_data=nii_img.get_fdata()\n",
    "nii_data=nii_data.astype(np.float32)\n",
    "folder_name=os.path.splitext(os.path.splitext(os.path.basename(nii_list[i]))[0])[0]\n",
    "if folder_name in mask_png_folder_list:\n",
    "    tumor_label=True\n",
    "    index=mask_png_folder_list.index(folder_name)\n",
    "    tumor_mask_path=mask_png_list[index]\n",
    "    tumor_mask_list=glob(tumor_mask_path+'/*.png')\n",
    "else:\n",
    "    tumor_label=False\n",
    "for j in range(len(nii_data)):\n",
    "    slice_image = ((nii_data[j] - np.min(nii_data[j])) / (np.max(nii_data[j]) - np.min(nii_data[j])) * 255).astype(np.uint8)\n",
    "    blured_image = cv2.GaussianBlur(slice_image, (5, 5), 0)\n",
    "    mask = ((blured_image>np.percentile(blured_image, 50+j/2))*255).astype(np.uint8)\n",
    "    mask=cv2.morphologyEx(mask, cv2.MORPH_CLOSE, np.ones((5,5),np.uint8))\n",
    "    mask=generate_largest_contour_mask_from_array(mask)\n",
    "    if tumor_label:\n",
    "        tumor_mask_list=sorted(tumor_mask_list)\n",
    "        Valid_section1=len(tumor_mask_list)-64\n",
    "        tumor_mask=cv2.imread(tumor_mask_list[Valid_section1+j])\n",
    "        tumor_mask=cv2.cvtColor(tumor_mask, cv2.COLOR_BGR2GRAY)\n",
    "        tumor_mask=cv2.resize(tumor_mask, (128, 128))\n",
    "        tumor_index=np.where(tumor_mask>0)\n",
    "        mask[tumor_index]=2\n",
    "    \n",
    "    final_mask_volume[j] = mask\n",
    "\n",
    "# NIfTI로 저장\n",
    "affine = np.eye(4)  # 단순 저장용 단위 행렬, 필요 시 원본에서 복사도 가능\n",
    "nifti_img = nib.Nifti1Image(final_mask_volume, affine)\n",
    "nib.save(nifti_img, f\"{folder_name}_mask.nii.gz\")"
   ]
  }
 ],
 "metadata": {
  "kernelspec": {
   "display_name": "LeeYS",
   "language": "python",
   "name": "python3"
  },
  "language_info": {
   "codemirror_mode": {
    "name": "ipython",
    "version": 3
   },
   "file_extension": ".py",
   "mimetype": "text/x-python",
   "name": "python",
   "nbconvert_exporter": "python",
   "pygments_lexer": "ipython3",
   "version": "3.10.14"
  }
 },
 "nbformat": 4,
 "nbformat_minor": 2
}
