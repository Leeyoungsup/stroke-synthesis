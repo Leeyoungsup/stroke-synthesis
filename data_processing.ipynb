{
 "cells": [
  {
   "cell_type": "code",
   "execution_count": 53,
   "metadata": {},
   "outputs": [],
   "source": [
    "import numpy as np\n",
    "import matplotlib.pyplot as plt\n",
    "from PIL import Image\n",
    "import pydicom\n",
    "import imageio\n",
    "import os\n",
    "from glob import glob\n",
    "from tqdm import tqdm\n",
    "def create_dir(path):\n",
    "    if not os.path.exists(path):\n",
    "        os.makedirs(path)"
   ]
  },
  {
   "cell_type": "markdown",
   "metadata": {},
   "source": [
    "CT"
   ]
  },
  {
   "cell_type": "code",
   "execution_count": 39,
   "metadata": {},
   "outputs": [],
   "source": [
    "class_list=['0100.Ischemic Stroke','0200.Hemorrhagic Stroke']\n",
    "save_class_list=['Ischemic','Hemorrhagic']\n",
    "data_dir='../../data/stroke_2023/**/1.원천데이터/'\n",
    "save_dir='../../data/stroke_CT/'"
   ]
  },
  {
   "cell_type": "code",
   "execution_count": 140,
   "metadata": {},
   "outputs": [
    {
     "name": "stderr",
     "output_type": "stream",
     "text": [
      "100%|██████████| 73876/73876 [25:17<00:00, 48.68it/s]  \n",
      "100%|██████████| 56076/56076 [19:42<00:00, 47.42it/s]  \n"
     ]
    }
   ],
   "source": [
    "for j in range(len(class_list)):\n",
    "    data_list=glob(data_dir+class_list[j]+'/*NCCT/*NCCT*.dcm')\n",
    "    for i in tqdm(range(len(data_list))):\n",
    "        folder_split=os.path.basename(data_list[i]).split('_')\n",
    "        folder_name=folder_split[0]+'_'+folder_split[1]\n",
    "        folder_path=save_dir+save_class_list[j]+'/'+folder_name+'/'\n",
    "        create_dir(folder_path)\n",
    "        dicom_file=data_list[i]\n",
    "        dcm = pydicom.dcmread(dicom_file)\n",
    "        img = dcm.pixel_array.astype(np.float32)\n",
    "        # HU 변환 적용\n",
    "        slope = dcm.RescaleSlope if 'RescaleSlope' in dcm else 1\n",
    "        intercept = dcm.RescaleIntercept if 'RescaleIntercept' in dcm else 0\n",
    "        img = img * slope + intercept  # HU 변환\n",
    "        # DICOM 헤더에서 Window Level과 Width 가져오기\n",
    "        window_center = dcm.WindowCenter if hasattr(dcm, 'WindowCenter') else None\n",
    "        window_width = dcm.WindowWidth if hasattr(dcm, 'WindowWidth') else None\n",
    "\n",
    "        # Window Level/Width가 여러 개일 경우 첫 번째 값 사용\n",
    "        if isinstance(window_center, pydicom.multival.MultiValue):\n",
    "            window_center = window_center[0]\n",
    "        if isinstance(window_width, pydicom.multival.MultiValue):\n",
    "            window_width = window_width[0]\n",
    "\n",
    "        if window_center is not None and window_width is not None:\n",
    "            min_val = window_center - window_width / 2\n",
    "            max_val = window_center + window_width / 2\n",
    "            img = np.clip(img, min_val, max_val)  # 범위 내 값 유지\n",
    "            img = (img - min_val) / (max_val - min_val) * 255  # 0~255 정규화\n",
    "        else:\n",
    "            # WL/WW 값이 없으면 기본적으로 min-max 정규화\n",
    "            img = (img - img.min()) / (img.max() - img.min()) * 255\n",
    "\n",
    "        Image.fromarray(img.astype(np.uint8)).save(folder_path+os.path.splitext(os.path.basename(dicom_file))[0].split('_')[-1]+'.png')"
   ]
  },
  {
   "cell_type": "markdown",
   "metadata": {},
   "source": [
    "MRI"
   ]
  },
  {
   "cell_type": "code",
   "execution_count": 142,
   "metadata": {},
   "outputs": [],
   "source": [
    "\n",
    "save_class_list=['ADC','DWI']\n",
    "data_dir='../../data/stroke_2023/**/1.원천데이터/'\n",
    "save_dir='../../data/Ischemic_stroke_mri/image/'"
   ]
  },
  {
   "cell_type": "code",
   "execution_count": 145,
   "metadata": {},
   "outputs": [
    {
     "name": "stderr",
     "output_type": "stream",
     "text": [
      " 27%|██▋       | 21977/81618 [03:06<09:19, 106.57it/s]/tmp/ipykernel_668316/1031642925.py:29: RuntimeWarning: invalid value encountered in divide\n",
      "  img = (img - min_val) / (max_val - min_val) * 255  # 0~255 정규화\n",
      "/tmp/ipykernel_668316/1031642925.py:34: RuntimeWarning: invalid value encountered in cast\n",
      "  Image.fromarray(img.astype(np.uint8)).save(folder_path+os.path.splitext(os.path.basename(dicom_file))[0].split('_')[-1]+'.png')\n",
      "100%|██████████| 81618/81618 [12:36<00:00, 107.91it/s]\n",
      "100%|██████████| 81624/81624 [20:20<00:00, 66.89it/s] \n"
     ]
    }
   ],
   "source": [
    "\n",
    "for j in range(len(save_class_list)):\n",
    "    data_list=glob(data_dir+'0100.Ischemic Stroke'+'/*MR Diffusion/*'+save_class_list[j]+'*.dcm')\n",
    "    for i in tqdm(range(len(data_list))):\n",
    "        folder_split=os.path.basename(data_list[i]).split('_')\n",
    "        folder_name=folder_split[0]+'_'+folder_split[1]\n",
    "        folder_path=save_dir+save_class_list[j]+'/'+folder_name+'/'\n",
    "        create_dir(folder_path)\n",
    "        dicom_file=data_list[i]\n",
    "        dcm = pydicom.dcmread(dicom_file)\n",
    "        img = dcm.pixel_array.astype(np.float32)\n",
    "        # HU 변환 적용\n",
    "        slope = dcm.RescaleSlope if 'RescaleSlope' in dcm else 1\n",
    "        intercept = dcm.RescaleIntercept if 'RescaleIntercept' in dcm else 0\n",
    "        img = img * slope + intercept  # HU 변환\n",
    "        # DICOM 헤더에서 Window Level과 Width 가져오기\n",
    "        window_center = dcm.WindowCenter if hasattr(dcm, 'WindowCenter') else None\n",
    "        window_width = dcm.WindowWidth if hasattr(dcm, 'WindowWidth') else None\n",
    "\n",
    "        # Window Level/Width가 여러 개일 경우 첫 번째 값 사용\n",
    "        if isinstance(window_center, pydicom.multival.MultiValue):\n",
    "            window_center = window_center[0]\n",
    "        if isinstance(window_width, pydicom.multival.MultiValue):\n",
    "            window_width = window_width[0]\n",
    "\n",
    "        if window_center is not None and window_width is not None:\n",
    "            min_val = window_center - window_width / 2\n",
    "            max_val = window_center + window_width / 2\n",
    "            img = np.clip(img, min_val, max_val)  # 범위 내 값 유지\n",
    "            img = (img - min_val) / (max_val - min_val) * 255  # 0~255 정규화\n",
    "        else:\n",
    "            # WL/WW 값이 없으면 기본적으로 min-max 정규화\n",
    "            img = (img - img.min()) / (img.max() - img.min()) * 255\n",
    "\n",
    "        Image.fromarray(img.astype(np.uint8)).save(folder_path+os.path.splitext(os.path.basename(dicom_file))[0].split('_')[-1]+'.png')"
   ]
  },
  {
   "cell_type": "code",
   "execution_count": 144,
   "metadata": {},
   "outputs": [
    {
     "data": {
      "text/plain": [
       "(256, 256)"
      ]
     },
     "execution_count": 144,
     "metadata": {},
     "output_type": "execute_result"
    }
   ],
   "source": [
    "dcm.pixel_array.astype(np.float32).shape"
   ]
  }
 ],
 "metadata": {
  "kernelspec": {
   "display_name": "LeeYS",
   "language": "python",
   "name": "python3"
  },
  "language_info": {
   "codemirror_mode": {
    "name": "ipython",
    "version": 3
   },
   "file_extension": ".py",
   "mimetype": "text/x-python",
   "name": "python",
   "nbconvert_exporter": "python",
   "pygments_lexer": "ipython3",
   "version": "3.10.14"
  }
 },
 "nbformat": 4,
 "nbformat_minor": 2
}
