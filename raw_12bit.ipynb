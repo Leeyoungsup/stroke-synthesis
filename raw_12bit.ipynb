{
 "cells": [
  {
   "cell_type": "code",
   "execution_count": 57,
   "metadata": {},
   "outputs": [],
   "source": [
    "import pydicom\n",
    "from pydicom.dataset import Dataset, FileDataset\n",
    "import numpy as np\n",
    "import datetime\n",
    "from glob import glob\n",
    "import os\n",
    "import matplotlib.pyplot as plt\n",
    "from tqdm import tqdm\n",
    "import pandas as pd\n",
    "def create_directory(path):\n",
    "    if not os.path.exists(path):\n",
    "        os.makedirs(path)"
   ]
  },
  {
   "cell_type": "markdown",
   "metadata": {},
   "source": [
    "CT"
   ]
  },
  {
   "cell_type": "code",
   "execution_count": null,
   "metadata": {},
   "outputs": [
    {
     "name": "stderr",
     "output_type": "stream",
     "text": [
      " 10%|█         | 7613/73876 [04:03<36:16, 30.44it/s]  "
     ]
    }
   ],
   "source": [
    "class_list=['0100.Ischemic Stroke','0200.Hemorrhagic Stroke','0300.Stroke Control Group']\n",
    "save_class_list=['Ischemic','Hemorrhagic','Normal']\n",
    "file_path='../../data/stroke_2023/**/1.원천데이터/'\n",
    "save_path='../../data/raw_12bit/CT/'\n",
    "for i in range(len(class_list)):\n",
    "    file_list=glob(f'{file_path}{class_list[i]}/*NCCT/*.dcm')\n",
    "    for j in tqdm(range(len(file_list))):\n",
    "        dicom_file=file_list[j]\n",
    "        folder_split=os.path.basename(dicom_file).split('_')\n",
    "        folder_name=folder_split[0]+'_'+folder_split[1]\n",
    "        folder_path=save_path+save_class_list[i]+'/'+folder_name+'/'\n",
    "        dcm = pydicom.dcmread(dicom_file)\n",
    "        slope = dcm.RescaleSlope if 'RescaleSlope' in dcm else 1\n",
    "        intercept = dcm.RescaleIntercept if 'RescaleIntercept' in dcm else 0\n",
    "        img = dcm.pixel_array.astype(np.float32)\n",
    "        hu = img * slope + intercept  # HU 변환\n",
    "        hu_clipped = np.clip(hu, -1024, 3071)\n",
    "        hu_normalized = (hu_clipped + 1024) / (4095)\n",
    "        create_directory(folder_path)\n",
    "        hu_normalized\n",
    "        np.save(folder_path+os.path.splitext(folder_split[-1])[0]+'.npy',hu_normalized)\n"
   ]
  },
  {
   "cell_type": "markdown",
   "metadata": {},
   "source": [
    "MRI"
   ]
  },
  {
   "cell_type": "code",
   "execution_count": null,
   "metadata": {},
   "outputs": [],
   "source": [
    "class_list=['0100.Ischemic Stroke','0300.Stroke Control Group']\n",
    "save_class_list=['Ischemic','Normal']\n",
    "file_path = '../../data/stroke_2023/**/1.원천데이터/'  # MRI 경로 예시\n",
    "save_path = '../../data/raw_12bit/MRI/'\n"
   ]
  },
  {
   "cell_type": "code",
   "execution_count": null,
   "metadata": {},
   "outputs": [
    {
     "name": "stderr",
     "output_type": "stream",
     "text": [
      "  2%|▏         | 1643/81624 [00:18<14:39, 90.90it/s] \n"
     ]
    },
    {
     "ename": "KeyboardInterrupt",
     "evalue": "",
     "output_type": "error",
     "traceback": [
      "\u001b[0;31m---------------------------------------------------------------------------\u001b[0m",
      "\u001b[0;31mKeyboardInterrupt\u001b[0m                         Traceback (most recent call last)",
      "Input \u001b[0;32mIn [56]\u001b[0m, in \u001b[0;36m<cell line: 4>\u001b[0;34m()\u001b[0m\n\u001b[1;32m     20\u001b[0m \u001b[38;5;66;03m# 파일명\u001b[39;00m\n\u001b[1;32m     21\u001b[0m base_filename \u001b[38;5;241m=\u001b[39m os\u001b[38;5;241m.\u001b[39mpath\u001b[38;5;241m.\u001b[39msplitext(folder_split[\u001b[38;5;241m-\u001b[39m\u001b[38;5;241m1\u001b[39m])[\u001b[38;5;241m0\u001b[39m] \u001b[38;5;241m+\u001b[39m \u001b[38;5;124m'\u001b[39m\u001b[38;5;124m.npy\u001b[39m\u001b[38;5;124m'\u001b[39m\n\u001b[0;32m---> 22\u001b[0m \u001b[43mnp\u001b[49m\u001b[38;5;241;43m.\u001b[39;49m\u001b[43msave\u001b[49m\u001b[43m(\u001b[49m\u001b[43mos\u001b[49m\u001b[38;5;241;43m.\u001b[39;49m\u001b[43mpath\u001b[49m\u001b[38;5;241;43m.\u001b[39;49m\u001b[43mjoin\u001b[49m\u001b[43m(\u001b[49m\u001b[43mfolder_path\u001b[49m\u001b[43m,\u001b[49m\u001b[43m \u001b[49m\u001b[43mbase_filename\u001b[49m\u001b[43m)\u001b[49m\u001b[43m,\u001b[49m\u001b[43m \u001b[49m\u001b[43mimg_z\u001b[49m\u001b[43m)\u001b[49m\n\u001b[1;32m     24\u001b[0m \u001b[38;5;66;03m# 기록 저장\u001b[39;00m\n\u001b[1;32m     25\u001b[0m records\u001b[38;5;241m.\u001b[39mappend({\n\u001b[1;32m     26\u001b[0m     \u001b[38;5;124m'\u001b[39m\u001b[38;5;124mdata_folder\u001b[39m\u001b[38;5;124m'\u001b[39m: folder_name,\n\u001b[1;32m     27\u001b[0m     \u001b[38;5;124m'\u001b[39m\u001b[38;5;124mdata_name\u001b[39m\u001b[38;5;124m'\u001b[39m: base_filename,\n\u001b[1;32m     28\u001b[0m     \u001b[38;5;124m'\u001b[39m\u001b[38;5;124mmean\u001b[39m\u001b[38;5;124m'\u001b[39m: \u001b[38;5;28mround\u001b[39m(mean, \u001b[38;5;241m4\u001b[39m),\n\u001b[1;32m     29\u001b[0m     \u001b[38;5;124m'\u001b[39m\u001b[38;5;124mstd\u001b[39m\u001b[38;5;124m'\u001b[39m: \u001b[38;5;28mround\u001b[39m(std, \u001b[38;5;241m4\u001b[39m)\n\u001b[1;32m     30\u001b[0m })\n",
      "File \u001b[0;32m~/anaconda3/envs/LeeYS/lib/python3.10/site-packages/numpy/lib/npyio.py:546\u001b[0m, in \u001b[0;36msave\u001b[0;34m(file, arr, allow_pickle, fix_imports)\u001b[0m\n\u001b[1;32m    544\u001b[0m \u001b[38;5;28;01mwith\u001b[39;00m file_ctx \u001b[38;5;28;01mas\u001b[39;00m fid:\n\u001b[1;32m    545\u001b[0m     arr \u001b[38;5;241m=\u001b[39m np\u001b[38;5;241m.\u001b[39masanyarray(arr)\n\u001b[0;32m--> 546\u001b[0m     \u001b[38;5;28;43mformat\u001b[39;49m\u001b[38;5;241;43m.\u001b[39;49m\u001b[43mwrite_array\u001b[49m\u001b[43m(\u001b[49m\u001b[43mfid\u001b[49m\u001b[43m,\u001b[49m\u001b[43m \u001b[49m\u001b[43marr\u001b[49m\u001b[43m,\u001b[49m\u001b[43m \u001b[49m\u001b[43mallow_pickle\u001b[49m\u001b[38;5;241;43m=\u001b[39;49m\u001b[43mallow_pickle\u001b[49m\u001b[43m,\u001b[49m\n\u001b[1;32m    547\u001b[0m \u001b[43m                       \u001b[49m\u001b[43mpickle_kwargs\u001b[49m\u001b[38;5;241;43m=\u001b[39;49m\u001b[38;5;28;43mdict\u001b[39;49m\u001b[43m(\u001b[49m\u001b[43mfix_imports\u001b[49m\u001b[38;5;241;43m=\u001b[39;49m\u001b[43mfix_imports\u001b[49m\u001b[43m)\u001b[49m\u001b[43m)\u001b[49m\n",
      "File \u001b[0;32m~/anaconda3/envs/LeeYS/lib/python3.10/site-packages/numpy/lib/format.py:730\u001b[0m, in \u001b[0;36mwrite_array\u001b[0;34m(fp, array, version, allow_pickle, pickle_kwargs)\u001b[0m\n\u001b[1;32m    728\u001b[0m \u001b[38;5;28;01melse\u001b[39;00m:\n\u001b[1;32m    729\u001b[0m     \u001b[38;5;28;01mif\u001b[39;00m isfileobj(fp):\n\u001b[0;32m--> 730\u001b[0m         \u001b[43marray\u001b[49m\u001b[38;5;241;43m.\u001b[39;49m\u001b[43mtofile\u001b[49m\u001b[43m(\u001b[49m\u001b[43mfp\u001b[49m\u001b[43m)\u001b[49m\n\u001b[1;32m    731\u001b[0m     \u001b[38;5;28;01melse\u001b[39;00m:\n\u001b[1;32m    732\u001b[0m         \u001b[38;5;28;01mfor\u001b[39;00m chunk \u001b[38;5;129;01min\u001b[39;00m numpy\u001b[38;5;241m.\u001b[39mnditer(\n\u001b[1;32m    733\u001b[0m                 array, flags\u001b[38;5;241m=\u001b[39m[\u001b[38;5;124m'\u001b[39m\u001b[38;5;124mexternal_loop\u001b[39m\u001b[38;5;124m'\u001b[39m, \u001b[38;5;124m'\u001b[39m\u001b[38;5;124mbuffered\u001b[39m\u001b[38;5;124m'\u001b[39m, \u001b[38;5;124m'\u001b[39m\u001b[38;5;124mzerosize_ok\u001b[39m\u001b[38;5;124m'\u001b[39m],\n\u001b[1;32m    734\u001b[0m                 buffersize\u001b[38;5;241m=\u001b[39mbuffersize, order\u001b[38;5;241m=\u001b[39m\u001b[38;5;124m'\u001b[39m\u001b[38;5;124mC\u001b[39m\u001b[38;5;124m'\u001b[39m):\n",
      "\u001b[0;31mKeyboardInterrupt\u001b[0m: "
     ]
    }
   ],
   "source": [
    "# DataFrame 저장용 리스트\n",
    "records = []\n",
    "\n",
    "for i in range(len(class_list)):\n",
    "    file_list = glob(f'{file_path}{class_list[i]}/*Diffusion/*DWI*.dcm')\n",
    "    for j in tqdm(range(len(file_list))):\n",
    "        dicom_file = file_list[j]\n",
    "        folder_split = os.path.basename(dicom_file).split('_')\n",
    "        folder_name = folder_split[0] + '_' + folder_split[1]\n",
    "        folder_path = os.path.join(save_path, save_class_list[i], folder_name)\n",
    "        create_directory(folder_path)\n",
    "\n",
    "        # DICOM 읽기 및 z-score 정규화\n",
    "        dcm = pydicom.dcmread(dicom_file)\n",
    "        img = dcm.pixel_array.astype(np.float32)\n",
    "        mean = np.mean(img)\n",
    "        std = np.std(img)\n",
    "        img_z = (img - mean) / (std + 1e-8)\n",
    "\n",
    "        # 파일명\n",
    "        base_filename = os.path.splitext(folder_split[-1])[0] + '.npy'\n",
    "        np.save(os.path.join(folder_path, base_filename), img_z)\n",
    "\n",
    "        # 기록 저장\n",
    "        records.append({\n",
    "            'data_folder': folder_name,\n",
    "            'data_name': base_filename,\n",
    "            'mean': round(mean, 4),\n",
    "            'std': round(std, 4)\n",
    "        })\n",
    "\n",
    "# pandas DataFrame으로 저장\n",
    "df = pd.DataFrame(records)\n",
    "csv_save_path = os.path.join(save_path, 'mri_mean_std.csv')\n",
    "df.to_csv(csv_save_path, index=False)\n"
   ]
  },
  {
   "cell_type": "code",
   "execution_count": 17,
   "metadata": {},
   "outputs": [
    {
     "name": "stdout",
     "output_type": "stream",
     "text": [
      "HU 기반 DICOM 저장 완료: output_hu.dcm\n"
     ]
    }
   ],
   "source": [
    "img_int16 = img1.astype(np.int16)\n",
    "\n",
    "# 저장할 경로\n",
    "save_path = \"output_hu.dcm\"\n",
    "\n",
    "# 새로운 DICOM 객체 생성\n",
    "file_meta = pydicom.Dataset()\n",
    "file_meta.MediaStorageSOPClassUID = pydicom.uid.generate_uid()\n",
    "file_meta.MediaStorageSOPInstanceUID = pydicom.uid.generate_uid()\n",
    "file_meta.ImplementationClassUID = pydicom.uid.PYDICOM_IMPLEMENTATION_UID\n",
    "\n",
    "# 최소 헤더 세팅\n",
    "ds = FileDataset(\n",
    "    save_path, {}, file_meta=file_meta, preamble=b\"\\0\" * 128\n",
    ")\n",
    "\n",
    "# 환자 및 기본 정보\n",
    "ds.PatientName = \"Anonymous\"\n",
    "ds.PatientID = \"000000\"\n",
    "ds.StudyInstanceUID = pydicom.uid.generate_uid()\n",
    "ds.SeriesInstanceUID = pydicom.uid.generate_uid()\n",
    "ds.SOPInstanceUID = file_meta.MediaStorageSOPInstanceUID\n",
    "ds.SOPClassUID = file_meta.MediaStorageSOPClassUID\n",
    "\n",
    "# 날짜\n",
    "dt = datetime.datetime.now()\n",
    "ds.StudyDate = dt.strftime(\"%Y%m%d\")\n",
    "ds.StudyTime = dt.strftime(\"%H%M%S\")\n",
    "\n",
    "# 이미지 관련 속성\n",
    "ds.Modality = \"CT\"\n",
    "ds.Rows, ds.Columns = img_int16.shape\n",
    "ds.BitsStored = 16\n",
    "ds.BitsAllocated = 16\n",
    "ds.HighBit = 15\n",
    "ds.PixelRepresentation = 1  # signed int\n",
    "ds.SamplesPerPixel = 1\n",
    "ds.PhotometricInterpretation = \"MONOCHROME2\"\n",
    "\n",
    "# HU로 변환된 상태이므로 slope=1, intercept=0\n",
    "ds.RescaleIntercept = 0\n",
    "ds.RescaleSlope = 1\n",
    "\n",
    "# 실제 픽셀 데이터\n",
    "ds.PixelData = img_int16.tobytes()\n",
    "\n",
    "# 저장\n",
    "ds.save_as(save_path)\n",
    "print(f\"HU 기반 DICOM 저장 완료: {save_path}\")"
   ]
  }
 ],
 "metadata": {
  "kernelspec": {
   "display_name": "LeeYS",
   "language": "python",
   "name": "python3"
  },
  "language_info": {
   "codemirror_mode": {
    "name": "ipython",
    "version": 3
   },
   "file_extension": ".py",
   "mimetype": "text/x-python",
   "name": "python",
   "nbconvert_exporter": "python",
   "pygments_lexer": "ipython3",
   "version": "3.10.14"
  }
 },
 "nbformat": 4,
 "nbformat_minor": 2
}
