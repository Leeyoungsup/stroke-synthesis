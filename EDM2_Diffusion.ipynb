{
 "cells": [
  {
   "cell_type": "code",
   "execution_count": 1,
   "metadata": {},
   "outputs": [],
   "source": [
    "import os\n",
    "import torch\n",
    "import numpy as np\n",
    "from tqdm import tqdm\n",
    "from glob import glob\n",
    "import torch.optim as optim\n",
    "import random\n",
    "from torchvision import transforms\n",
    "from torch.utils.data import DataLoader, Dataset\n",
    "from torchvision.utils import save_image\n",
    "from torchinfo import summary\n",
    "from PIL import Image\n",
    "from edm2_pytorch.model import UNetEDM2,EMA\n",
    "from edm2_pytorch.sampler import EDM2Schedule, EDM2Sampler\n",
    "from edm2_pytorch.loss import edm2_loss\n",
    "from edm2_pytorch.util import get_sigmas_karras_with_p\n"
   ]
  },
  {
   "cell_type": "code",
   "execution_count": 2,
   "metadata": {},
   "outputs": [
    {
     "name": "stdout",
     "output_type": "stream",
     "text": [
      "Device: cuda:0\n"
     ]
    }
   ],
   "source": [
    "# 클래스 정의\n",
    "class_list = ['Normal', 'Hemorrhagic']\n",
    "\n",
    "# 하이퍼파라미터 설정 (빠른 수렴/확인용)\n",
    "params = {\n",
    "    'image_size': 256,             # 💡 작게 줄여서 빠르게 학습 가능\n",
    "    'lr': 1e-4,                   # 💡 학습률 증가 (너무 크면 불안정할 수 있음)\n",
    "    'batch_size': 32,            # 💡 적절히 큰 배치 (메모리 여유에 따라 조절)\n",
    "    'epochs': 10000,              # 💡 빠른 실험을 위한 작은 epoch 수\n",
    "    'data_path': '../../data/2D_CT/',\n",
    "    'image_count': 10000,         # 💡 일부 데이터만 사용 (빠르게 epoch 반복)\n",
    "    'inch': 1,\n",
    "    'outch':1,\n",
    "    'cdim': 64,\n",
    "    'rho': 2.0,\n",
    "    'threshold': 0.0,\n",
    "    'save_every': 10,            # 💡 저장 주기를 자주 (결과 빨리 확인)\n",
    "    'save_path': '/edm2/CT_fast',\n",
    "    'P_mean':-1.2, \n",
    "    \"P_std\":1.2\n",
    "}\n",
    "\n",
    "device = torch.device(\"cuda:0\" if torch.cuda.is_available() else \"cpu\")\n",
    "print(f\"Device: {device}\")\n"
   ]
  },
  {
   "cell_type": "code",
   "execution_count": 3,
   "metadata": {},
   "outputs": [
    {
     "name": "stdout",
     "output_type": "stream",
     "text": [
      "Loading images into tensor...\n"
     ]
    },
    {
     "name": "stderr",
     "output_type": "stream",
     "text": [
      "100%|██████████| 1649/1649 [00:11<00:00, 144.54it/s]\n"
     ]
    }
   ],
   "source": [
    "\n",
    "# 변환 정의\n",
    "# trans = transforms.Compose([\n",
    "#     transforms.ToTensor(),\n",
    "#     transforms.Normalize((0.5,0.5,0.5), (0.5,0.5,0.5))\n",
    "# ])\n",
    "trans = transforms.Compose([\n",
    "    transforms.ToTensor(),\n",
    "    transforms.Normalize((0.5), (0.5))\n",
    "])\n",
    "def transback(x):\n",
    "    return (x.clamp(-1, 1) + 1) * 0.5\n",
    "\n",
    "# 이미지 로드\n",
    "image_paths, image_labels = [], []\n",
    "for i, cname in enumerate(class_list):\n",
    "    paths = sorted(glob(os.path.join(params['data_path'], cname, '*.png')))[:params['image_count']]\n",
    "    image_paths.extend(paths)\n",
    "    image_labels.extend([i] * len(paths))\n",
    "\n",
    "N = len(image_paths)\n",
    "C, H, W = params['inch'], params['image_size'], params['image_size']\n",
    "train_images = torch.zeros((N, C, H, W), dtype=torch.float32)\n",
    "\n",
    "print(\"Loading images into tensor...\")\n",
    "for i, path in enumerate(tqdm(image_paths)):\n",
    "    img = Image.open(path).convert('L').resize((W, H))\n",
    "    train_images[i] = trans(img)\n",
    "\n",
    "train_labels = torch.tensor(image_labels, dtype=torch.long)\n",
    "\n",
    "# 커스텀 Dataset\n",
    "class CustomDataset(Dataset):\n",
    "    def __init__(self, images, labels):\n",
    "        self.images = images\n",
    "        self.labels = labels\n",
    "\n",
    "    def __getitem__(self, index):\n",
    "        img = self.images[index]\n",
    "        lab = self.labels[index]\n",
    "        # if random.random() > 0.5:\n",
    "        #     img = transforms.functional.hflip(img)\n",
    "        # if random.random() > 0.5:\n",
    "        #     img = transforms.functional.vflip(img)\n",
    "        return img, lab\n",
    "\n",
    "    def __len__(self):\n",
    "        return len(self.images)\n",
    "\n",
    "# DataLoader\n",
    "train_dataset = CustomDataset(train_images, train_labels)\n",
    "dataloader = DataLoader(train_dataset, batch_size=params['batch_size'], shuffle=True,drop_last=True)\n"
   ]
  },
  {
   "cell_type": "code",
   "execution_count": 4,
   "metadata": {},
   "outputs": [
    {
     "data": {
      "text/plain": [
       "===================================================================================================================\n",
       "Layer (type:depth-idx)                   Input Shape               Output Shape              Param #\n",
       "===================================================================================================================\n",
       "UNetEDM2                                 [4, 1, 256, 256]          [4, 1, 256, 256]          --\n",
       "├─Sequential: 1-1                        [4, 1]                    [4, 128]                  --\n",
       "│    └─Linear: 2-1                       [4, 1]                    [4, 128]                  256\n",
       "│    └─SiLU: 2-2                         [4, 128]                  [4, 128]                  --\n",
       "│    └─Linear: 2-3                       [4, 128]                  [4, 128]                  16,512\n",
       "├─Embedding: 1-2                         [4]                       [4, 128]                  256\n",
       "├─Conv2d: 1-3                            [4, 1, 256, 256]          [4, 64, 256, 256]         640\n",
       "├─ResidualBlock: 1-4                     [4, 64, 256, 256]         [4, 64, 256, 256]         --\n",
       "│    └─GroupNorm: 2-4                    [4, 64, 256, 256]         [4, 64, 256, 256]         128\n",
       "│    └─SiLU: 2-5                         [4, 64, 256, 256]         [4, 64, 256, 256]         --\n",
       "│    └─Conv2d: 2-6                       [4, 64, 256, 256]         [4, 64, 256, 256]         36,928\n",
       "│    └─Linear: 2-7                       [4, 128]                  [4, 64]                   8,256\n",
       "│    └─GroupNorm: 2-8                    [4, 64, 256, 256]         [4, 64, 256, 256]         128\n",
       "│    └─SiLU: 2-9                         [4, 64, 256, 256]         [4, 64, 256, 256]         --\n",
       "│    └─Conv2d: 2-10                      [4, 64, 256, 256]         [4, 64, 256, 256]         36,928\n",
       "│    └─Identity: 2-11                    [4, 64, 256, 256]         [4, 64, 256, 256]         --\n",
       "├─ResidualBlock: 1-5                     [4, 64, 256, 256]         [4, 128, 256, 256]        --\n",
       "│    └─GroupNorm: 2-12                   [4, 64, 256, 256]         [4, 64, 256, 256]         128\n",
       "│    └─SiLU: 2-13                        [4, 64, 256, 256]         [4, 64, 256, 256]         --\n",
       "│    └─Conv2d: 2-14                      [4, 64, 256, 256]         [4, 128, 256, 256]        73,856\n",
       "│    └─Linear: 2-15                      [4, 128]                  [4, 128]                  16,512\n",
       "│    └─GroupNorm: 2-16                   [4, 128, 256, 256]        [4, 128, 256, 256]        256\n",
       "│    └─SiLU: 2-17                        [4, 128, 256, 256]        [4, 128, 256, 256]        --\n",
       "│    └─Conv2d: 2-18                      [4, 128, 256, 256]        [4, 128, 256, 256]        147,584\n",
       "│    └─Conv2d: 2-19                      [4, 64, 256, 256]         [4, 128, 256, 256]        8,320\n",
       "├─Downsample: 1-6                        [4, 128, 256, 256]        [4, 128, 128, 128]        --\n",
       "│    └─Conv2d: 2-20                      [4, 128, 256, 256]        [4, 128, 128, 128]        147,584\n",
       "├─ResidualBlock: 1-7                     [4, 128, 128, 128]        [4, 128, 128, 128]        --\n",
       "│    └─GroupNorm: 2-21                   [4, 128, 128, 128]        [4, 128, 128, 128]        256\n",
       "│    └─SiLU: 2-22                        [4, 128, 128, 128]        [4, 128, 128, 128]        --\n",
       "│    └─Conv2d: 2-23                      [4, 128, 128, 128]        [4, 128, 128, 128]        147,584\n",
       "│    └─Linear: 2-24                      [4, 128]                  [4, 128]                  16,512\n",
       "│    └─GroupNorm: 2-25                   [4, 128, 128, 128]        [4, 128, 128, 128]        256\n",
       "│    └─SiLU: 2-26                        [4, 128, 128, 128]        [4, 128, 128, 128]        --\n",
       "│    └─Conv2d: 2-27                      [4, 128, 128, 128]        [4, 128, 128, 128]        147,584\n",
       "│    └─Identity: 2-28                    [4, 128, 128, 128]        [4, 128, 128, 128]        --\n",
       "├─Upsample: 1-8                          [4, 128, 128, 128]        [4, 128, 256, 256]        --\n",
       "│    └─ConvTranspose2d: 2-29             [4, 128, 128, 128]        [4, 128, 256, 256]        262,272\n",
       "├─ResidualBlock: 1-9                     [4, 256, 256, 256]        [4, 64, 256, 256]         --\n",
       "│    └─GroupNorm: 2-30                   [4, 256, 256, 256]        [4, 256, 256, 256]        512\n",
       "│    └─SiLU: 2-31                        [4, 256, 256, 256]        [4, 256, 256, 256]        --\n",
       "│    └─Conv2d: 2-32                      [4, 256, 256, 256]        [4, 64, 256, 256]         147,520\n",
       "│    └─Linear: 2-33                      [4, 128]                  [4, 64]                   8,256\n",
       "│    └─GroupNorm: 2-34                   [4, 64, 256, 256]         [4, 64, 256, 256]         128\n",
       "│    └─SiLU: 2-35                        [4, 64, 256, 256]         [4, 64, 256, 256]         --\n",
       "│    └─Conv2d: 2-36                      [4, 64, 256, 256]         [4, 64, 256, 256]         36,928\n",
       "│    └─Conv2d: 2-37                      [4, 256, 256, 256]        [4, 64, 256, 256]         16,448\n",
       "├─ResidualBlock: 1-10                    [4, 128, 256, 256]        [4, 64, 256, 256]         --\n",
       "│    └─GroupNorm: 2-38                   [4, 128, 256, 256]        [4, 128, 256, 256]        256\n",
       "│    └─SiLU: 2-39                        [4, 128, 256, 256]        [4, 128, 256, 256]        --\n",
       "│    └─Conv2d: 2-40                      [4, 128, 256, 256]        [4, 64, 256, 256]         73,792\n",
       "│    └─Linear: 2-41                      [4, 128]                  [4, 64]                   8,256\n",
       "│    └─GroupNorm: 2-42                   [4, 64, 256, 256]         [4, 64, 256, 256]         128\n",
       "│    └─SiLU: 2-43                        [4, 64, 256, 256]         [4, 64, 256, 256]         --\n",
       "│    └─Conv2d: 2-44                      [4, 64, 256, 256]         [4, 64, 256, 256]         36,928\n",
       "│    └─Conv2d: 2-45                      [4, 128, 256, 256]        [4, 64, 256, 256]         8,256\n",
       "├─Sequential: 1-11                       [4, 64, 256, 256]         [4, 1, 256, 256]          --\n",
       "│    └─GroupNorm: 2-46                   [4, 64, 256, 256]         [4, 64, 256, 256]         128\n",
       "│    └─SiLU: 2-47                        [4, 64, 256, 256]         [4, 64, 256, 256]         --\n",
       "│    └─Conv2d: 2-48                      [4, 64, 256, 256]         [4, 1, 256, 256]          577\n",
       "===================================================================================================================\n",
       "Total params: 1,406,849\n",
       "Trainable params: 1,406,849\n",
       "Non-trainable params: 0\n",
       "Total mult-adds (G): 261.53\n",
       "===================================================================================================================\n",
       "Input size (MB): 1.05\n",
       "Forward/backward pass size (MB): 4498.42\n",
       "Params size (MB): 5.63\n",
       "Estimated Total Size (MB): 4505.09\n",
       "==================================================================================================================="
      ]
     },
     "execution_count": 4,
     "metadata": {},
     "output_type": "execute_result"
    }
   ],
   "source": [
    "# 모델 초기화\n",
    "model = UNetEDM2(\n",
    "    in_channels=params['inch'],\n",
    "    out_channels=params['outch'],\n",
    "    base_channels=params['cdim'],\n",
    "    class_embed_dim=128,\n",
    "    num_classes=len(class_list)\n",
    ").to(device)\n",
    "\n",
    "ema = EMA(model)\n",
    "optimizer = torch.optim.Adam(\n",
    "    model.parameters(),\n",
    "    lr=params['lr'],\n",
    "    betas=(0.9, 0.999),\n",
    "    weight_decay=0.0\n",
    ")\n",
    "\n",
    "# 모델 요약\n",
    "image_input = torch.randn(4, params['inch'], params['image_size'], params['image_size']).to(device)\n",
    "sigma_input = torch.ones(4).to(device) * 10.0\n",
    "class_input = torch.randint(0, len(class_list), (4,)).to(device)\n",
    "\n",
    "sigmas = get_sigmas_karras_with_p(n=80, P_mean=params['P_mean'], P_std=params['P_std'], device=device).to(device)\n",
    "model.eval()\n",
    "summary(model, input_data=(image_input, sigma_input, class_input), col_names=[\"input_size\", \"output_size\", \"num_params\"])\n",
    "\n",
    "\n",
    "\n"
   ]
  },
  {
   "cell_type": "code",
   "execution_count": 5,
   "metadata": {},
   "outputs": [
    {
     "name": "stderr",
     "output_type": "stream",
     "text": [
      "100%|██████████| 51/51 [00:20<00:00,  2.50it/s, epoch=1, loss=0.405, lr=0.0001]\n",
      "Sampling (euler): 100%|██████████| 79/79 [00:03<00:00, 22.15it/s]\n",
      "100%|██████████| 51/51 [00:20<00:00,  2.43it/s, epoch=2, loss=0.159, lr=0.0001]\n",
      "100%|██████████| 51/51 [00:20<00:00,  2.53it/s, epoch=3, loss=0.127, lr=0.0001]\n",
      "100%|██████████| 51/51 [00:20<00:00,  2.48it/s, epoch=4, loss=0.11, lr=0.0001] \n",
      "100%|██████████| 51/51 [00:19<00:00,  2.56it/s, epoch=5, loss=0.103, lr=0.0001] \n",
      "100%|██████████| 51/51 [00:20<00:00,  2.55it/s, epoch=6, loss=0.0996, lr=0.0001]\n",
      " 10%|▉         | 5/51 [00:02<00:21,  2.13it/s, epoch=7, loss=0.0999, lr=0.0001]\n"
     ]
    },
    {
     "ename": "KeyboardInterrupt",
     "evalue": "",
     "output_type": "error",
     "traceback": [
      "\u001b[0;31m---------------------------------------------------------------------------\u001b[0m",
      "\u001b[0;31mKeyboardInterrupt\u001b[0m                         Traceback (most recent call last)",
      "Input \u001b[0;32mIn [5]\u001b[0m, in \u001b[0;36m<cell line: 2>\u001b[0;34m()\u001b[0m\n\u001b[1;32m     17\u001b[0m optimizer\u001b[38;5;241m.\u001b[39mstep()\n\u001b[1;32m     18\u001b[0m ema\u001b[38;5;241m.\u001b[39mupdate(model)\n\u001b[0;32m---> 19\u001b[0m total_loss \u001b[38;5;241m+\u001b[39m\u001b[38;5;241m=\u001b[39m \u001b[43mloss\u001b[49m\u001b[38;5;241;43m.\u001b[39;49m\u001b[43mitem\u001b[49m\u001b[43m(\u001b[49m\u001b[43m)\u001b[49m\n\u001b[1;32m     20\u001b[0m steps \u001b[38;5;241m+\u001b[39m\u001b[38;5;241m=\u001b[39m \u001b[38;5;241m1\u001b[39m\n\u001b[1;32m     21\u001b[0m tqdmDataLoader\u001b[38;5;241m.\u001b[39mset_postfix({\n\u001b[1;32m     22\u001b[0m     \u001b[38;5;124m'\u001b[39m\u001b[38;5;124mepoch\u001b[39m\u001b[38;5;124m'\u001b[39m: epc \u001b[38;5;241m+\u001b[39m \u001b[38;5;241m1\u001b[39m,\n\u001b[1;32m     23\u001b[0m     \u001b[38;5;124m'\u001b[39m\u001b[38;5;124mloss\u001b[39m\u001b[38;5;124m'\u001b[39m: total_loss \u001b[38;5;241m/\u001b[39m steps,\n\u001b[1;32m     24\u001b[0m     \u001b[38;5;124m'\u001b[39m\u001b[38;5;124mlr\u001b[39m\u001b[38;5;124m'\u001b[39m: optimizer\u001b[38;5;241m.\u001b[39mparam_groups[\u001b[38;5;241m0\u001b[39m][\u001b[38;5;124m'\u001b[39m\u001b[38;5;124mlr\u001b[39m\u001b[38;5;124m'\u001b[39m]\n\u001b[1;32m     25\u001b[0m })\n",
      "\u001b[0;31mKeyboardInterrupt\u001b[0m: "
     ]
    }
   ],
   "source": [
    "# Training loop\n",
    "for epc in range(params['epochs']):\n",
    "    model.train()\n",
    "    total_loss = 0\n",
    "    steps = 0\n",
    "\n",
    "    with tqdm(dataloader, dynamic_ncols=True) as tqdmDataLoader:\n",
    "        for img, lab in tqdmDataLoader:\n",
    "            img, lab = img.to(device), lab.to(device)\n",
    "            optimizer.zero_grad()\n",
    "\n",
    "            rnd_normal = torch.randn([img.shape[0], 1, 1, 1], device=img.device)\n",
    "            sigma = (rnd_normal * params['P_std'] + params['P_mean']).exp()[:, 0, 0, 0]\n",
    "\n",
    "            loss = edm2_loss(model, img, sigma, lab, cfg_drop_prob=0.1, sigma_data=1.0)\n",
    "            loss.backward()\n",
    "            optimizer.step()\n",
    "            ema.update(model)\n",
    "            total_loss += loss.item()\n",
    "            steps += 1\n",
    "            tqdmDataLoader.set_postfix({\n",
    "                'epoch': epc + 1,\n",
    "                'loss': total_loss / steps,\n",
    "                'lr': optimizer.param_groups[0]['lr']\n",
    "            })\n",
    "\n",
    "    if epc % params['save_every'] == 0:\n",
    "        ema.ema_model.eval()\n",
    "        with torch.no_grad():\n",
    "            each_device_batch = 4 // len(class_list)\n",
    "            lab = torch.tensor([i % len(class_list) for i in range(4)], device=device)\n",
    "            genshape = (len(lab), params['outch'], params['image_size'], params['image_size'])\n",
    "\n",
    "            samples = EDM2Sampler(\n",
    "                model=ema.ema_model,\n",
    "                schedule=EDM2Schedule(steps=len(sigmas), P_mean=params['P_mean'], P_std=params['P_std'], rho=params['rho'], device=device),\n",
    "                sampler_type='euler',\n",
    "                cfg_scale=3.0,\n",
    "                device=device\n",
    "            ).sample(genshape, class_labels=lab)\n",
    "\n",
    "            samples1 = torch.cat([samples, transback(img[0]).unsqueeze(0), transback(img[1]).unsqueeze(0)], dim=0)\n",
    "\n",
    "        result_path = '../../result' + params['save_path']\n",
    "        model_path = '../../model' + params['save_path']\n",
    "        os.makedirs(result_path, exist_ok=True)\n",
    "        os.makedirs(model_path, exist_ok=True)\n",
    "\n",
    "        save_image(samples1, f'{result_path}/generated_{epc+1}_pict.png', nrow=each_device_batch)\n",
    "        torch.save({\n",
    "            'model': model.state_dict(),\n",
    "            'ema': ema.ema_model.state_dict(),\n",
    "            'optimizer': optimizer.state_dict(),\n",
    "        }, f'{model_path}/ckpt_{epc+1}.pt')\n",
    "        torch.cuda.empty_cache()"
   ]
  },
  {
   "cell_type": "code",
   "execution_count": null,
   "metadata": {},
   "outputs": [
    {
     "name": "stdout",
     "output_type": "stream",
     "text": [
      "Noise prediction MSE: 0.035668447613716125\n"
     ]
    }
   ],
   "source": [
    "model.eval()\n",
    "with torch.no_grad():\n",
    "    sigma = torch.full((4,), 1.0, device=device)\n",
    "    clean_img = img[0:4].to(device)  # shape: [4, C, H, W]\n",
    "    noise = torch.randn_like(clean_img)\n",
    "    noised_img = clean_img + sigma[:, None, None, None] * noise\n",
    "\n",
    "    pred_noise = model(noised_img, sigma,lab[0:4])\n",
    "    mse = ((pred_noise - noise) ** 2).mean()\n",
    "    print(\"Noise prediction MSE:\", mse.item())"
   ]
  },
  {
   "cell_type": "code",
   "execution_count": null,
   "metadata": {},
   "outputs": [
    {
     "name": "stdout",
     "output_type": "stream",
     "text": [
      "Diff to noise: 0.02724508009850979\n",
      "Diff to x: 1.5636131763458252\n"
     ]
    }
   ],
   "source": [
    "model.eval()\n",
    "with torch.no_grad():\n",
    "    sigma = torch.ones(4, device=device)\n",
    "    clean = img[:4]\n",
    "    noise = torch.randn_like(clean)\n",
    "    noised = clean + sigma[:, None, None, None] * noise\n",
    "    pred = model(noised, sigma)\n",
    "\n",
    "    print(\"Diff to noise:\", ((pred - noise) ** 2).mean().item())\n",
    "    print(\"Diff to x:\", ((pred - clean) ** 2).mean().item())"
   ]
  },
  {
   "cell_type": "code",
   "execution_count": null,
   "metadata": {},
   "outputs": [],
   "source": [
    "with torch.no_grad():\n",
    "    sigma = torch.ones(4, device=device)\n",
    "    clean = img[:4]\n",
    "    noise = torch.randn_like(clean)\n",
    "    noised = clean + sigma[:, None, None, None] * noise\n",
    "    pred = model(noised, sigma)\n",
    "\n",
    "    save_image(torch.cat([transback(clean), transback(noised), transback(pred), noised - sigma[:, None, None, None] * pred], dim=0),\n",
    "               'denoise_debug.png', nrow=4)"
   ]
  }
 ],
 "metadata": {
  "kernelspec": {
   "display_name": "LeeYS",
   "language": "python",
   "name": "python3"
  },
  "language_info": {
   "codemirror_mode": {
    "name": "ipython",
    "version": 3
   },
   "file_extension": ".py",
   "mimetype": "text/x-python",
   "name": "python",
   "nbconvert_exporter": "python",
   "pygments_lexer": "ipython3",
   "version": "3.10.14"
  }
 },
 "nbformat": 4,
 "nbformat_minor": 2
}
