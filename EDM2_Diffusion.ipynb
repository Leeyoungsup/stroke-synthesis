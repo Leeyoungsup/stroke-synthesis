{
 "cells": [
  {
   "cell_type": "code",
   "execution_count": 2,
   "metadata": {},
   "outputs": [],
   "source": [
    "import os\n",
    "import torch\n",
    "import numpy as np\n",
    "from tqdm import tqdm\n",
    "from glob import glob\n",
    "import torch.optim as optim\n",
    "import random\n",
    "from torchvision import transforms\n",
    "from torch.utils.data import DataLoader, Dataset\n",
    "from torchvision.utils import save_image\n",
    "from torchinfo import summary\n",
    "from PIL import Image\n",
    "from edm2_pytorch.model import UNetEDM2,EMA\n",
    "from edm2_pytorch.sampler import EDM2Schedule, EDM2Sampler\n",
    "from edm2_pytorch.loss import edm2_loss\n",
    "from edm2_pytorch.util import get_sigmas_karras_with_p\n"
   ]
  },
  {
   "cell_type": "code",
   "execution_count": null,
   "metadata": {},
   "outputs": [
    {
     "name": "stdout",
     "output_type": "stream",
     "text": [
      "Device: cuda:0\n"
     ]
    }
   ],
   "source": [
    "# 클래스 정의\n",
    "class_list = ['Normal','Ischemic','Hemorrhagic']\n",
    "\n",
    "# 하이퍼파라미터 설정 (빠른 수렴/확인용)\n",
    "params = {\n",
    "    'image_size': 64,             # 💡 작게 줄여서 빠르게 학습 가능\n",
    "    'lr': 1e-4,                   # 💡 학습률 증가 (너무 크면 불안정할 수 있음)\n",
    "    'batch_size': 32,            # 💡 적절히 큰 배치 (메모리 여유에 따라 조절)\n",
    "    'epochs': 10000,              # 💡 빠른 실험을 위한 작은 epoch 수\n",
    "    'data_path': '../../data/2D_CT/',\n",
    "    'image_count': 10000,         # 💡 일부 데이터만 사용 (빠르게 epoch 반복)\n",
    "    'inch': 1,\n",
    "    'outch':1,\n",
    "    'cdim': 64,\n",
    "    'rho': 2.0,\n",
    "    'threshold': 0.0,\n",
    "    'save_every': 10,            # 💡 저장 주기를 자주 (결과 빨리 확인)\n",
    "    'save_path': '/edm2/CT_fast',\n",
    "    'P_mean':-1.2, \n",
    "    \"P_std\":1.2\n",
    "}\n",
    "\n",
    "device = torch.device(\"cuda:0\" if torch.cuda.is_available() else \"cpu\")\n",
    "print(f\"Device: {device}\")\n"
   ]
  },
  {
   "cell_type": "code",
   "execution_count": 4,
   "metadata": {},
   "outputs": [
    {
     "name": "stdout",
     "output_type": "stream",
     "text": [
      "Loading images into tensor...\n"
     ]
    },
    {
     "name": "stderr",
     "output_type": "stream",
     "text": [
      "100%|██████████| 2849/2849 [00:20<00:00, 136.86it/s]\n"
     ]
    }
   ],
   "source": [
    "\n",
    "# 변환 정의\n",
    "# trans = transforms.Compose([\n",
    "#     transforms.ToTensor(),\n",
    "#     transforms.Normalize((0.5,0.5,0.5), (0.5,0.5,0.5))\n",
    "# ])\n",
    "trans = transforms.Compose([\n",
    "    transforms.ToTensor()\n",
    "])\n",
    "def transback(x):\n",
    "    return (x.clamp(-1, 1) + 1) * 0.5\n",
    "\n",
    "# 이미지 로드\n",
    "image_paths, image_labels = [], []\n",
    "for i, cname in enumerate(class_list):\n",
    "    paths = sorted(glob(os.path.join(params['data_path'], cname, '*.png')))[:params['image_count']]\n",
    "    image_paths.extend(paths)\n",
    "    image_labels.extend([i] * len(paths))\n",
    "\n",
    "N = len(image_paths)\n",
    "C, H, W = params['inch'], params['image_size'], params['image_size']\n",
    "train_images = torch.zeros((N, C, H, W), dtype=torch.float32)\n",
    "\n",
    "print(\"Loading images into tensor...\")\n",
    "for i, path in enumerate(tqdm(image_paths)):\n",
    "    img = Image.open(path).convert('L').resize((W, H))\n",
    "    \n",
    "    train_images[i] = trans(img)\n",
    "train_images=train_images*2-1.\n",
    "train_labels = torch.tensor(image_labels, dtype=torch.long)\n",
    "\n",
    "# 커스텀 Dataset\n",
    "class CustomDataset(Dataset):\n",
    "    def __init__(self, images, labels):\n",
    "        self.images = images\n",
    "        self.labels = labels\n",
    "\n",
    "    def __getitem__(self, index):\n",
    "        img = self.images[index]\n",
    "        lab = self.labels[index]\n",
    "        # if random.random() > 0.5:\n",
    "        #     img = transforms.functional.hflip(img)\n",
    "        # if random.random() > 0.5:\n",
    "        #     img = transforms.functional.vflip(img)\n",
    "        return img, lab\n",
    "\n",
    "    def __len__(self):\n",
    "        return len(self.images)\n",
    "\n",
    "# DataLoader\n",
    "train_dataset = CustomDataset(train_images, train_labels)\n",
    "dataloader = DataLoader(train_dataset, batch_size=params['batch_size'], shuffle=True,drop_last=True)\n"
   ]
  },
  {
   "cell_type": "code",
   "execution_count": 6,
   "metadata": {},
   "outputs": [
    {
     "data": {
      "text/plain": [
       "===================================================================================================================\n",
       "Layer (type:depth-idx)                   Input Shape               Output Shape              Param #\n",
       "===================================================================================================================\n",
       "UNetEDM2                                 [4, 1, 64, 64]            [4, 1, 64, 64]            --\n",
       "├─Embedding: 1-1                         [4]                       [4, 128]                  384\n",
       "├─Conv2d: 1-2                            [4, 1, 64, 64]            [4, 64, 64, 64]           640\n",
       "├─ResBlock: 1-3                          [4, 64, 64, 64]           [4, 64, 64, 64]           --\n",
       "│    └─GroupNorm: 2-1                    [4, 64, 64, 64]           [4, 64, 64, 64]           128\n",
       "│    └─SiLU: 2-2                         [4, 64, 64, 64]           [4, 64, 64, 64]           --\n",
       "│    └─Conv2d: 2-3                       [4, 64, 64, 64]           [4, 64, 64, 64]           36,928\n",
       "│    └─Linear: 2-4                       [4, 128]                  [4, 64]                   8,256\n",
       "│    └─GroupNorm: 2-5                    [4, 64, 64, 64]           [4, 64, 64, 64]           128\n",
       "│    └─SiLU: 2-6                         [4, 64, 64, 64]           [4, 64, 64, 64]           --\n",
       "│    └─Conv2d: 2-7                       [4, 64, 64, 64]           [4, 64, 64, 64]           36,928\n",
       "│    └─Identity: 2-8                     [4, 64, 64, 64]           [4, 64, 64, 64]           --\n",
       "├─ResBlock: 1-4                          [4, 64, 64, 64]           [4, 128, 64, 64]          --\n",
       "│    └─GroupNorm: 2-9                    [4, 64, 64, 64]           [4, 64, 64, 64]           128\n",
       "│    └─SiLU: 2-10                        [4, 64, 64, 64]           [4, 64, 64, 64]           --\n",
       "│    └─Conv2d: 2-11                      [4, 64, 64, 64]           [4, 128, 64, 64]          73,856\n",
       "│    └─Linear: 2-12                      [4, 128]                  [4, 128]                  16,512\n",
       "│    └─GroupNorm: 2-13                   [4, 128, 64, 64]          [4, 128, 64, 64]          256\n",
       "│    └─SiLU: 2-14                        [4, 128, 64, 64]          [4, 128, 64, 64]          --\n",
       "│    └─Conv2d: 2-15                      [4, 128, 64, 64]          [4, 128, 64, 64]          147,584\n",
       "│    └─Conv2d: 2-16                      [4, 64, 64, 64]           [4, 128, 64, 64]          8,320\n",
       "├─Down: 1-5                              [4, 128, 64, 64]          [4, 128, 32, 32]          --\n",
       "│    └─Conv2d: 2-17                      [4, 128, 64, 64]          [4, 128, 32, 32]          147,584\n",
       "├─ResBlock: 1-6                          [4, 128, 32, 32]          [4, 128, 32, 32]          --\n",
       "│    └─GroupNorm: 2-18                   [4, 128, 32, 32]          [4, 128, 32, 32]          256\n",
       "│    └─SiLU: 2-19                        [4, 128, 32, 32]          [4, 128, 32, 32]          --\n",
       "│    └─Conv2d: 2-20                      [4, 128, 32, 32]          [4, 128, 32, 32]          147,584\n",
       "│    └─Linear: 2-21                      [4, 128]                  [4, 128]                  16,512\n",
       "│    └─GroupNorm: 2-22                   [4, 128, 32, 32]          [4, 128, 32, 32]          256\n",
       "│    └─SiLU: 2-23                        [4, 128, 32, 32]          [4, 128, 32, 32]          --\n",
       "│    └─Conv2d: 2-24                      [4, 128, 32, 32]          [4, 128, 32, 32]          147,584\n",
       "│    └─Identity: 2-25                    [4, 128, 32, 32]          [4, 128, 32, 32]          --\n",
       "├─Up: 1-7                                [4, 128, 32, 32]          [4, 128, 64, 64]          --\n",
       "│    └─ConvTranspose2d: 2-26             [4, 128, 32, 32]          [4, 128, 64, 64]          262,272\n",
       "├─ResBlock: 1-8                          [4, 256, 64, 64]          [4, 64, 64, 64]           --\n",
       "│    └─GroupNorm: 2-27                   [4, 256, 64, 64]          [4, 256, 64, 64]          512\n",
       "│    └─SiLU: 2-28                        [4, 256, 64, 64]          [4, 256, 64, 64]          --\n",
       "│    └─Conv2d: 2-29                      [4, 256, 64, 64]          [4, 64, 64, 64]           147,520\n",
       "│    └─Linear: 2-30                      [4, 128]                  [4, 64]                   8,256\n",
       "│    └─GroupNorm: 2-31                   [4, 64, 64, 64]           [4, 64, 64, 64]           128\n",
       "│    └─SiLU: 2-32                        [4, 64, 64, 64]           [4, 64, 64, 64]           --\n",
       "│    └─Conv2d: 2-33                      [4, 64, 64, 64]           [4, 64, 64, 64]           36,928\n",
       "│    └─Conv2d: 2-34                      [4, 256, 64, 64]          [4, 64, 64, 64]           16,448\n",
       "├─ResBlock: 1-9                          [4, 128, 64, 64]          [4, 64, 64, 64]           --\n",
       "│    └─GroupNorm: 2-35                   [4, 128, 64, 64]          [4, 128, 64, 64]          256\n",
       "│    └─SiLU: 2-36                        [4, 128, 64, 64]          [4, 128, 64, 64]          --\n",
       "│    └─Conv2d: 2-37                      [4, 128, 64, 64]          [4, 64, 64, 64]           73,792\n",
       "│    └─Linear: 2-38                      [4, 128]                  [4, 64]                   8,256\n",
       "│    └─GroupNorm: 2-39                   [4, 64, 64, 64]           [4, 64, 64, 64]           128\n",
       "│    └─SiLU: 2-40                        [4, 64, 64, 64]           [4, 64, 64, 64]           --\n",
       "│    └─Conv2d: 2-41                      [4, 64, 64, 64]           [4, 64, 64, 64]           36,928\n",
       "│    └─Conv2d: 2-42                      [4, 128, 64, 64]          [4, 64, 64, 64]           8,256\n",
       "├─Sequential: 1-10                       [4, 64, 64, 64]           [4, 2, 64, 64]            --\n",
       "│    └─GroupNorm: 2-43                   [4, 64, 64, 64]           [4, 64, 64, 64]           128\n",
       "│    └─SiLU: 2-44                        [4, 64, 64, 64]           [4, 64, 64, 64]           --\n",
       "│    └─Conv2d: 2-45                      [4, 64, 64, 64]           [4, 2, 64, 64]            1,154\n",
       "===================================================================================================================\n",
       "Total params: 1,390,786\n",
       "Trainable params: 1,390,786\n",
       "Non-trainable params: 0\n",
       "Total mult-adds (G): 16.36\n",
       "===================================================================================================================\n",
       "Input size (MB): 0.07\n",
       "Forward/backward pass size (MB): 281.30\n",
       "Params size (MB): 5.56\n",
       "Estimated Total Size (MB): 286.93\n",
       "==================================================================================================================="
      ]
     },
     "execution_count": 6,
     "metadata": {},
     "output_type": "execute_result"
    }
   ],
   "source": [
    "# 모델 초기화\n",
    "model = UNetEDM2(\n",
    "    in_ch=params['inch'],\n",
    "    out_ch=params['outch'],\n",
    "    base=params['cdim'],\n",
    "    emb_ch=128,\n",
    "    num_classes=len(class_list)\n",
    ").to(device)\n",
    "\n",
    "ema = EMA(model)\n",
    "optimizer = torch.optim.Adam(\n",
    "    model.parameters(),\n",
    "    lr=params['lr'],\n",
    "    betas=(0.9, 0.999),\n",
    "    weight_decay=0.0\n",
    ")\n",
    "\n",
    "# 모델 요약\n",
    "image_input = torch.randn(4, params['inch'], params['image_size'], params['image_size']).to(device)\n",
    "sigma_input = torch.ones(4).to(device) * 10.0\n",
    "class_input = torch.randint(0, len(class_list), (4,)).to(device)\n",
    "\n",
    "sigmas = get_sigmas_karras_with_p(n=80, P_mean=params['P_mean'], P_std=params['P_std'], device=device).to(device)\n",
    "model.eval()\n",
    "summary(model, input_data=(image_input, sigma_input, class_input), col_names=[\"input_size\", \"output_size\", \"num_params\"])\n",
    "\n",
    "\n",
    "\n"
   ]
  },
  {
   "cell_type": "code",
   "execution_count": 9,
   "metadata": {},
   "outputs": [
    {
     "name": "stderr",
     "output_type": "stream",
     "text": [
      "100%|██████████| 89/89 [00:02<00:00, 35.77it/s, epoch=1, loss=0.0502, lr=0.0001]\n",
      "Sampling (euler): 100%|██████████| 79/79 [00:00<00:00, 216.33it/s]\n",
      "100%|██████████| 89/89 [00:02<00:00, 35.59it/s, epoch=2, loss=0.0543, lr=0.0001]\n",
      "100%|██████████| 89/89 [00:02<00:00, 36.04it/s, epoch=3, loss=0.0489, lr=0.0001]\n",
      "100%|██████████| 89/89 [00:02<00:00, 36.07it/s, epoch=4, loss=0.0527, lr=0.0001]\n",
      "100%|██████████| 89/89 [00:02<00:00, 36.07it/s, epoch=5, loss=0.0521, lr=0.0001]\n",
      "100%|██████████| 89/89 [00:02<00:00, 36.09it/s, epoch=6, loss=0.0534, lr=0.0001]\n",
      "100%|██████████| 89/89 [00:02<00:00, 36.12it/s, epoch=7, loss=0.054, lr=0.0001] \n",
      "100%|██████████| 89/89 [00:02<00:00, 36.08it/s, epoch=8, loss=0.0523, lr=0.0001]\n",
      "100%|██████████| 89/89 [00:02<00:00, 36.10it/s, epoch=9, loss=0.0509, lr=0.0001]\n",
      "100%|██████████| 89/89 [00:02<00:00, 36.10it/s, epoch=10, loss=0.0504, lr=0.0001]\n",
      "100%|██████████| 89/89 [00:02<00:00, 36.09it/s, epoch=11, loss=0.0477, lr=0.0001]\n",
      "Sampling (euler): 100%|██████████| 79/79 [00:00<00:00, 220.20it/s]\n",
      "100%|██████████| 89/89 [00:02<00:00, 35.64it/s, epoch=12, loss=0.0499, lr=0.0001]\n",
      "100%|██████████| 89/89 [00:02<00:00, 36.10it/s, epoch=13, loss=0.0497, lr=0.0001]\n",
      "100%|██████████| 89/89 [00:02<00:00, 36.10it/s, epoch=14, loss=0.0479, lr=0.0001]\n",
      " 80%|███████▉  | 71/89 [00:01<00:00, 35.92it/s, epoch=15, loss=0.0509, lr=0.0001]\n"
     ]
    },
    {
     "ename": "KeyboardInterrupt",
     "evalue": "",
     "output_type": "error",
     "traceback": [
      "\u001b[0;31m---------------------------------------------------------------------------\u001b[0m",
      "\u001b[0;31mKeyboardInterrupt\u001b[0m                         Traceback (most recent call last)",
      "Input \u001b[0;32mIn [9]\u001b[0m, in \u001b[0;36m<cell line: 3>\u001b[0;34m()\u001b[0m\n\u001b[1;32m     16\u001b[0m loss\u001b[38;5;241m.\u001b[39mbackward()\n\u001b[1;32m     17\u001b[0m optimizer\u001b[38;5;241m.\u001b[39mstep()\n\u001b[0;32m---> 18\u001b[0m \u001b[43mema\u001b[49m\u001b[38;5;241;43m.\u001b[39;49m\u001b[43mupdate\u001b[49m\u001b[43m(\u001b[49m\u001b[43mmodel\u001b[49m\u001b[43m)\u001b[49m\n\u001b[1;32m     19\u001b[0m total_loss \u001b[38;5;241m+\u001b[39m\u001b[38;5;241m=\u001b[39m loss\u001b[38;5;241m.\u001b[39mitem()\n\u001b[1;32m     20\u001b[0m steps \u001b[38;5;241m+\u001b[39m\u001b[38;5;241m=\u001b[39m \u001b[38;5;241m1\u001b[39m\n",
      "File \u001b[0;32m~/anaconda3/envs/LeeYS/lib/python3.10/site-packages/torch/utils/_contextlib.py:115\u001b[0m, in \u001b[0;36mcontext_decorator.<locals>.decorate_context\u001b[0;34m(*args, **kwargs)\u001b[0m\n\u001b[1;32m    112\u001b[0m \u001b[38;5;129m@functools\u001b[39m\u001b[38;5;241m.\u001b[39mwraps(func)\n\u001b[1;32m    113\u001b[0m \u001b[38;5;28;01mdef\u001b[39;00m \u001b[38;5;21mdecorate_context\u001b[39m(\u001b[38;5;241m*\u001b[39margs, \u001b[38;5;241m*\u001b[39m\u001b[38;5;241m*\u001b[39mkwargs):\n\u001b[1;32m    114\u001b[0m     \u001b[38;5;28;01mwith\u001b[39;00m ctx_factory():\n\u001b[0;32m--> 115\u001b[0m         \u001b[38;5;28;01mreturn\u001b[39;00m \u001b[43mfunc\u001b[49m\u001b[43m(\u001b[49m\u001b[38;5;241;43m*\u001b[39;49m\u001b[43margs\u001b[49m\u001b[43m,\u001b[49m\u001b[43m \u001b[49m\u001b[38;5;241;43m*\u001b[39;49m\u001b[38;5;241;43m*\u001b[39;49m\u001b[43mkwargs\u001b[49m\u001b[43m)\u001b[49m\n",
      "File \u001b[0;32m~/gcubme_ai2/Workspace/YS_Lee/stroke synthesis/code/stroke-synthesis/edm2_pytorch/model.py:106\u001b[0m, in \u001b[0;36mEMA.update\u001b[0;34m(self, model)\u001b[0m\n\u001b[1;32m    103\u001b[0m \u001b[38;5;129m@torch\u001b[39m\u001b[38;5;241m.\u001b[39mno_grad()\n\u001b[1;32m    104\u001b[0m \u001b[38;5;28;01mdef\u001b[39;00m \u001b[38;5;21mupdate\u001b[39m(\u001b[38;5;28mself\u001b[39m, model):\n\u001b[1;32m    105\u001b[0m     \u001b[38;5;28;01mfor\u001b[39;00m e, m \u001b[38;5;129;01min\u001b[39;00m \u001b[38;5;28mzip\u001b[39m(\u001b[38;5;28mself\u001b[39m\u001b[38;5;241m.\u001b[39mema_model\u001b[38;5;241m.\u001b[39mparameters(), model\u001b[38;5;241m.\u001b[39mparameters()):\n\u001b[0;32m--> 106\u001b[0m         \u001b[43me\u001b[49m\u001b[38;5;241;43m.\u001b[39;49m\u001b[43mdata\u001b[49m\u001b[38;5;241;43m.\u001b[39;49m\u001b[43mmul_\u001b[49m\u001b[43m(\u001b[49m\u001b[38;5;28;43mself\u001b[39;49m\u001b[38;5;241;43m.\u001b[39;49m\u001b[43mdecay\u001b[49m\u001b[43m)\u001b[49m\u001b[38;5;241;43m.\u001b[39;49m\u001b[43madd_\u001b[49m\u001b[43m(\u001b[49m\u001b[43mm\u001b[49m\u001b[38;5;241;43m.\u001b[39;49m\u001b[43mdata\u001b[49m\u001b[43m,\u001b[49m\u001b[43m \u001b[49m\u001b[43malpha\u001b[49m\u001b[38;5;241;43m=\u001b[39;49m\u001b[38;5;241;43m1\u001b[39;49m\u001b[43m \u001b[49m\u001b[38;5;241;43m-\u001b[39;49m\u001b[43m \u001b[49m\u001b[38;5;28;43mself\u001b[39;49m\u001b[38;5;241;43m.\u001b[39;49m\u001b[43mdecay\u001b[49m\u001b[43m)\u001b[49m\n",
      "\u001b[0;31mKeyboardInterrupt\u001b[0m: "
     ]
    }
   ],
   "source": [
    "# Training loop\n",
    "t=80\n",
    "for epc in range(params['epochs']):\n",
    "    model.train()\n",
    "    total_loss = 0\n",
    "    steps = 0\n",
    "    ema.ema_model.train()\n",
    "    with tqdm(dataloader, dynamic_ncols=True) as tqdmDataLoader:\n",
    "        for img, lab in tqdmDataLoader:\n",
    "            img, lab = img.to(device), lab.to(device)\n",
    "            optimizer.zero_grad()\n",
    "            rnd_normal =torch.randint(0,t,(params['batch_size'],))\n",
    "            sigma = sigmas[rnd_normal]\n",
    "\n",
    "            loss = edm2_loss(model, img, sigma, lab, cfg_drop=0.0, sigma_data=0.5)\n",
    "            loss.backward()\n",
    "            optimizer.step()\n",
    "            ema.update(model)\n",
    "            total_loss += loss.item()\n",
    "            steps += 1\n",
    "            tqdmDataLoader.set_postfix({\n",
    "                'epoch': epc + 1,\n",
    "                'loss': total_loss / steps,\n",
    "                'lr': optimizer.param_groups[0]['lr']\n",
    "            })\n",
    "\n",
    "    if epc % params['save_every'] == 0:\n",
    "        ema.ema_model.eval()\n",
    "        model.eval()\n",
    "        with torch.no_grad():\n",
    "            each_device_batch = 4 // len(class_list)\n",
    "            lab = torch.tensor([i % len(class_list) for i in range(each_device_batch*len(class_list))], device=device)\n",
    "            genshape = (len(lab), params['outch'], params['image_size'], params['image_size'])\n",
    "\n",
    "            samples = EDM2Sampler(\n",
    "                model=ema.ema_model,\n",
    "                schedule=EDM2Schedule(steps=len(sigmas), P_mean=params['P_mean'], P_std=params['P_std'], rho=params['rho'], device=device),\n",
    "                sampler_type='euler',\n",
    "                cfg_scale=1.0,\n",
    "                device=device\n",
    "            ).sample(genshape, class_labels=lab)\n",
    "\n",
    "            samples1 = torch.cat([samples, transback(img[0]).unsqueeze(0), transback(img[1]).unsqueeze(0)], dim=0)\n",
    "\n",
    "        result_path = '../../result' + params['save_path']\n",
    "        model_path = '../../model' + params['save_path']\n",
    "        os.makedirs(result_path, exist_ok=True)\n",
    "        os.makedirs(model_path, exist_ok=True)\n",
    "\n",
    "        save_image(samples1, f'{result_path}/generated_{epc+1}_pict.png', nrow=each_device_batch)\n",
    "        torch.save({\n",
    "            'model': model.state_dict(),\n",
    "            'ema': ema.ema_model.state_dict(),\n",
    "            'optimizer': optimizer.state_dict(),\n",
    "        }, f'{model_path}/ckpt_{epc+1}.pt')\n",
    "        torch.cuda.empty_cache()"
   ]
  },
  {
   "cell_type": "code",
   "execution_count": 10,
   "metadata": {},
   "outputs": [
    {
     "name": "stdout",
     "output_type": "stream",
     "text": [
      "sigma=1.0, MSE=0.024034706875681877\n",
      "sigma=5.0, MSE=0.020117763429880142\n",
      "sigma=10.0, MSE=0.025262948125600815\n",
      "sigma=50.0, MSE=0.05037242919206619\n"
     ]
    }
   ],
   "source": [
    "model.eval()\n",
    "with torch.no_grad():\n",
    "    for s in [1.0, 5.0, 10.0, 50.0]:\n",
    "        sigma = torch.full((4,), s, device=device)\n",
    "        clean_img = img[0:4].to(device)  # shape: [4, C, H, W]\n",
    "        noise = torch.randn_like(clean_img)\n",
    "        noised_img = clean_img + sigma[:, None, None, None] * noise\n",
    "\n",
    "        pred_noise = model(noised_img, sigma,lab[0:4])\n",
    "        mse = ((pred_noise - noise) ** 2).mean()\n",
    "        print(f\"sigma={s}, MSE={mse.item()}\")"
   ]
  },
  {
   "cell_type": "code",
   "execution_count": null,
   "metadata": {},
   "outputs": [
    {
     "name": "stdout",
     "output_type": "stream",
     "text": [
      "Diff to noise: 0.034325532615184784\n",
      "Diff to x: 1.6533517837524414\n"
     ]
    }
   ],
   "source": [
    "model.eval()\n",
    "with torch.no_grad():\n",
    "    sigma = torch.ones(4, device=device)\n",
    "    clean = img[:4]\n",
    "    noise = torch.randn_like(clean)\n",
    "    noised = clean + sigma[:, None, None, None] * noise\n",
    "    pred = model(noised, sigma)\n",
    "\n",
    "    print(\"Diff to noise:\", ((pred - noise) ** 2).mean().item())\n",
    "    print(\"Diff to x:\", ((pred - clean) ** 2).mean().item())"
   ]
  },
  {
   "cell_type": "code",
   "execution_count": null,
   "metadata": {},
   "outputs": [],
   "source": [
    "with torch.no_grad():\n",
    "    sigma = torch.ones(4, device=device)*sigmas[0]\n",
    "    clean = img[:4]\n",
    "    noise = torch.randn_like(clean)\n",
    "    noised = clean + sigma[:, None, None, None] * noise\n",
    "    pred = model(noised, sigma)\n",
    "\n",
    "    save_image(torch.cat([transback(clean), transback(noised), transback(pred), noised - sigma[:, None, None, None] * pred], dim=0),\n",
    "               'denoise_debug.png', nrow=4)"
   ]
  },
  {
   "cell_type": "code",
   "execution_count": null,
   "metadata": {},
   "outputs": [
    {
     "name": "stdout",
     "output_type": "stream",
     "text": [
      "a stats: 0.0006290903547778726 0.9984721541404724\n",
      "b stats: -8.314382284879684e-07 0.9993376731872559\n"
     ]
    }
   ],
   "source": [
    "x = torch.zeros(4, 1, 256, 256).to('cuda')\n",
    "a = torch.randn_like(x)\n",
    "b = torch.randn(4, 1, 256, 256).to('cuda')\n",
    "\n",
    "print(\"a stats:\", a.mean().item(), a.std().item())\n",
    "print(\"b stats:\", b.mean().item(), b.std().item())"
   ]
  }
 ],
 "metadata": {
  "kernelspec": {
   "display_name": "LeeYS",
   "language": "python",
   "name": "python3"
  },
  "language_info": {
   "codemirror_mode": {
    "name": "ipython",
    "version": 3
   },
   "file_extension": ".py",
   "mimetype": "text/x-python",
   "name": "python",
   "nbconvert_exporter": "python",
   "pygments_lexer": "ipython3",
   "version": "3.10.14"
  }
 },
 "nbformat": 4,
 "nbformat_minor": 2
}
