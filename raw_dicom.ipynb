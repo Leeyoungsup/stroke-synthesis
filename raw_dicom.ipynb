{
 "cells": [
  {
   "cell_type": "code",
   "execution_count": 1,
   "metadata": {},
   "outputs": [],
   "source": [
    "import shutil\n",
    "import os\n",
    "import sys\n",
    "import pandas as pd\n",
    "from glob import glob\n",
    "from tqdm import tqdm\n",
    "def create_dir(path):\n",
    "    if not os.path.exists(path):\n",
    "        os.makedirs(path)\n",
    "\n"
   ]
  },
  {
   "cell_type": "code",
   "execution_count": 3,
   "metadata": {},
   "outputs": [],
   "source": [
    "\n",
    "class_list=['0100.Ischemic Stroke','0300.Stroke Control Group']\n",
    "save_class_list=['Ischemic','Normal']\n",
    "data_dir='../../data/stroke_2023/**/1.원천데이터/'\n",
    "save_dir='../../data/raw_dicom/MRI/'\n",
    "df=pd.read_csv('../../data/MRI_s_thickness_list.csv')"
   ]
  },
  {
   "cell_type": "code",
   "execution_count": 27,
   "metadata": {},
   "outputs": [
    {
     "name": "stderr",
     "output_type": "stream",
     "text": [
      "100%|██████████| 1114/1114 [2:20:09<00:00,  7.55s/it] \n",
      "100%|██████████| 1114/1114 [2:16:20<00:00,  7.34s/it] \n"
     ]
    }
   ],
   "source": [
    "error_list=[]\n",
    "for k in range(len(class_list)):\n",
    "    for j in tqdm(range(len(df))):\n",
    "        data_list=glob(data_dir+class_list[save_class_list.index(df.loc[j]['class'])]+'/*MR Diffusion/*'+df.loc[j]['slice']+'*DWI*.dcm')\n",
    "        data_list.sort()\n",
    "        try:\n",
    "            for i in range(len(data_list)-64,len(data_list)):\n",
    "                folder_split=os.path.basename(data_list[i]).split('_')\n",
    "                folder_name=folder_split[0]+'_'+folder_split[1]\n",
    "                folder_path=save_dir+df.loc[j]['class']+'/'+folder_name+'/'\n",
    "                create_dir(folder_path)\n",
    "                shutil.copy(data_list[i],folder_path+os.path.basename(data_list[i]))\n",
    "        except:\n",
    "            error_list.append(df.loc[j]['slice']+'_'+df.loc[j]['class'])"
   ]
  },
  {
   "cell_type": "code",
   "execution_count": 4,
   "metadata": {},
   "outputs": [
    {
     "name": "stderr",
     "output_type": "stream",
     "text": [
      "  0%|          | 0/2174 [00:00<?, ?it/s]"
     ]
    },
    {
     "name": "stderr",
     "output_type": "stream",
     "text": [
      "100%|██████████| 2174/2174 [2:02:14<00:00,  3.37s/it]  \n"
     ]
    }
   ],
   "source": [
    "\n",
    "class_list=['0100.Ischemic Stroke','0200.Hemorrhagic Stroke','0300.Stroke Control Group']\n",
    "save_class_list=['Ischemic','Hemorrhagic','Normal']\n",
    "data_dir='../../data/stroke_2023/**/1.원천데이터/'\n",
    "save_dir='../../data/raw_dicom/CT/'\n",
    "df=pd.read_csv('../../data/CT_3_thickness_list.csv')\n",
    "error_list=[]\n",
    "\n",
    "for j in tqdm(range(len(df))):\n",
    "    data_list=glob(data_dir+class_list[save_class_list.index(df.loc[j]['class'])]+'/*NCCT/*'+df.loc[j]['slice']+'*.dcm')\n",
    "    data_list.sort()\n",
    "    try:\n",
    "        for i in range(len(data_list)-40,len(data_list)):\n",
    "            folder_split=os.path.basename(data_list[i]).split('_')\n",
    "            folder_name=folder_split[0]+'_'+folder_split[1]\n",
    "            folder_path=save_dir+df.loc[j]['class']+'/'+folder_name+'/'\n",
    "            create_dir(folder_path)\n",
    "            shutil.copy(data_list[i],folder_path+os.path.basename(data_list[i]))\n",
    "    except:\n",
    "        error_list.append(df.loc[j]['slice']+'_'+df.loc[j]['class'])"
   ]
  },
  {
   "cell_type": "code",
   "execution_count": 3,
   "metadata": {},
   "outputs": [],
   "source": [
    "save_class_list=['Hemorrhagic']\n",
    "data_dir='../../data/export_20250425_133004/'\n",
    "save_dir='../../data/raw_dicom/SWI/'\n",
    "df=pd.read_csv('../../data/SWI_s_thickness_list.csv')"
   ]
  },
  {
   "cell_type": "code",
   "execution_count": 13,
   "metadata": {},
   "outputs": [
    {
     "name": "stderr",
     "output_type": "stream",
     "text": [
      "100%|██████████| 271/271 [02:01<00:00,  2.24it/s]\n"
     ]
    }
   ],
   "source": [
    "error_list=[]\n",
    "for j in tqdm(range(len(df))):\n",
    "    slice_formatted = f\"{df.loc[j]['slice']:08d}\"\n",
    "    data_list=glob(data_dir+slice_formatted+'/**/**/*.dcm')\n",
    "    data_list.sort()\n",
    "    \n",
    "    mask=glob(data_dir+slice_formatted+'/**/**/stor/results/*.nii.gz')\n",
    "    for i in range(len(data_list)-58,len(data_list)):\n",
    "        folder_name=slice_formatted\n",
    "        folder_path=save_dir+df.loc[j]['class']+'/'+folder_name+'/'\n",
    "        create_dir(folder_path)\n",
    "        shutil.copy(data_list[i],folder_path+os.path.basename(data_list[i]))\n",
    "        \n",
    "    \n",
    "    for k in range(len(mask)):\n",
    "        mask_folder_path=save_dir+'Hemorrhagic_mask/'+folder_name+'/'\n",
    "        create_dir(mask_folder_path)\n",
    "        shutil.copy(mask[k],mask_folder_path+os.path.basename(mask[k]))\n",
    "\n"
   ]
  }
 ],
 "metadata": {
  "kernelspec": {
   "display_name": "LeeYS",
   "language": "python",
   "name": "python3"
  },
  "language_info": {
   "codemirror_mode": {
    "name": "ipython",
    "version": 3
   },
   "file_extension": ".py",
   "mimetype": "text/x-python",
   "name": "python",
   "nbconvert_exporter": "python",
   "pygments_lexer": "ipython3",
   "version": "3.10.14"
  }
 },
 "nbformat": 4,
 "nbformat_minor": 2
}
