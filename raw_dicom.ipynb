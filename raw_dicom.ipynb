{
 "cells": [
  {
   "cell_type": "code",
   "execution_count": 2,
   "metadata": {},
   "outputs": [],
   "source": [
    "import shutil\n",
    "import os\n",
    "import sys\n",
    "import pandas as pd\n",
    "from glob import glob\n",
    "from tqdm import tqdm\n",
    "def create_dir(path):\n",
    "    if not os.path.exists(path):\n",
    "        os.makedirs(path)\n",
    "\n"
   ]
  },
  {
   "cell_type": "code",
   "execution_count": 25,
   "metadata": {},
   "outputs": [],
   "source": [
    "\n",
    "class_list=['0100.Ischemic Stroke','0300.Stroke Control Group']\n",
    "save_class_list=['Ischemic','Normal']\n",
    "data_dir='../../data/stroke_2023/**/1.원천데이터/'\n",
    "save_dir='../../data/raw_dicom/MRI/'\n",
    "df=pd.read_csv('../../data/MRI_s_thickness_list.csv')"
   ]
  },
  {
   "cell_type": "code",
   "execution_count": 27,
   "metadata": {},
   "outputs": [
    {
     "name": "stderr",
     "output_type": "stream",
     "text": [
      "100%|██████████| 1114/1114 [2:20:09<00:00,  7.55s/it] \n",
      "100%|██████████| 1114/1114 [2:16:20<00:00,  7.34s/it] \n"
     ]
    }
   ],
   "source": [
    "error_list=[]\n",
    "for k in range(len(class_list)):\n",
    "    for j in tqdm(range(len(df))):\n",
    "        data_list=glob(data_dir+class_list[save_class_list.index(df.loc[j]['class'])]+'/*MR Diffusion/*'+df.loc[j]['slice']+'*DWI*.dcm')\n",
    "        data_list.sort()\n",
    "        try:\n",
    "            for i in range(len(data_list)-64,len(data_list)):\n",
    "                folder_split=os.path.basename(data_list[i]).split('_')\n",
    "                folder_name=folder_split[0]+'_'+folder_split[1]\n",
    "                folder_path=save_dir+df.loc[j]['class']+'/'+folder_name+'/'\n",
    "                create_dir(folder_path)\n",
    "                shutil.copy(data_list[i],folder_path+os.path.basename(data_list[i]))\n",
    "        except:\n",
    "            error_list.append(df.loc[j]['slice']+'_'+df.loc[j]['class'])"
   ]
  },
  {
   "cell_type": "code",
   "execution_count": null,
   "metadata": {},
   "outputs": [
    {
     "name": "stderr",
     "output_type": "stream",
     "text": [
      "  1%|          | 16/2174 [00:37<1:23:47,  2.33s/it]"
     ]
    }
   ],
   "source": [
    "\n",
    "class_list=['0100.Ischemic Stroke','0200.Hemorrhagic Stroke','0300.Stroke Control Group']\n",
    "save_class_list=['Ischemic','Hemorrhagic','Normal']\n",
    "data_dir='../../data/stroke_2023/**/1.원천데이터/'\n",
    "save_dir='../../data/raw_dicom/CT/'\n",
    "df=pd.read_csv('../../data/CT_3_thickness_list.csv')\n",
    "error_list=[]\n",
    "for k in range(len(class_list)):\n",
    "    for j in tqdm(range(len(df))):\n",
    "        data_list=glob(data_dir+class_list[save_class_list.index(df.loc[j]['class'])]+'/*NCCT/*'+df.loc[j]['slice']+'*.dcm')\n",
    "        data_list.sort()\n",
    "        try:\n",
    "            for i in range(len(data_list)-32,len(data_list)):\n",
    "                folder_split=os.path.basename(data_list[i]).split('_')\n",
    "                folder_name=folder_split[0]+'_'+folder_split[1]\n",
    "                folder_path=save_dir+df.loc[j]['class']+'/'+folder_name+'/'\n",
    "                create_dir(folder_path)\n",
    "                shutil.copy(data_list[i],folder_path+os.path.basename(data_list[i]))\n",
    "        except:\n",
    "            error_list.append(df.loc[j]['slice']+'_'+df.loc[j]['class'])"
   ]
  },
  {
   "cell_type": "code",
   "execution_count": 9,
   "metadata": {},
   "outputs": [
    {
     "data": {
      "text/plain": [
       "['ANO1_1205_Ischemic', 'ANO1_1211_Ischemic']"
      ]
     },
     "execution_count": 9,
     "metadata": {},
     "output_type": "execute_result"
    }
   ],
   "source": [
    "error_list"
   ]
  }
 ],
 "metadata": {
  "kernelspec": {
   "display_name": "LeeYS",
   "language": "python",
   "name": "python3"
  },
  "language_info": {
   "codemirror_mode": {
    "name": "ipython",
    "version": 3
   },
   "file_extension": ".py",
   "mimetype": "text/x-python",
   "name": "python",
   "nbconvert_exporter": "python",
   "pygments_lexer": "ipython3",
   "version": "3.10.14"
  }
 },
 "nbformat": 4,
 "nbformat_minor": 2
}
