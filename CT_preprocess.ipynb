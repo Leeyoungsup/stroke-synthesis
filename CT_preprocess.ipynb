{
 "cells": [
  {
   "cell_type": "code",
   "execution_count": 12,
   "metadata": {},
   "outputs": [],
   "source": [
    "import pydicom\n",
    "from pydicom.dataset import Dataset, FileDataset\n",
    "import numpy as np\n",
    "import datetime\n",
    "from glob import glob\n",
    "import os\n",
    "import matplotlib.pyplot as plt\n",
    "from tqdm import tqdm\n",
    "import pandas as pd\n",
    "import nibabel as nib\n",
    "def create_directory(path):\n",
    "    if not os.path.exists(path):\n",
    "        os.makedirs(path)"
   ]
  },
  {
   "cell_type": "code",
   "execution_count": 13,
   "metadata": {},
   "outputs": [],
   "source": [
    "class_list=['0100.Ischemic Stroke','0200.Hemorrhagic Stroke','0300.Stroke Control Group']\n",
    "save_class_list=['Ischemic','Hemorrhagic','Normal']\n",
    "data_dir='../../data/stroke_2023/**/1.원천데이터/'\n"
   ]
  },
  {
   "cell_type": "code",
   "execution_count": null,
   "metadata": {},
   "outputs": [
    {
     "name": "stderr",
     "output_type": "stream",
     "text": [
      "100%|██████████| 73876/73876 [01:30<00:00, 817.03it/s] \n",
      "100%|██████████| 56076/56076 [01:03<00:00, 880.84it/s] \n",
      "100%|██████████| 29307/29307 [00:42<00:00, 683.65it/s] \n"
     ]
    }
   ],
   "source": [
    "df=pd.DataFrame(columns=['class','slice','thickness'])\n",
    "slice_list=[]\n",
    "step=0\n",
    "for j in range(len(class_list)):\n",
    "\n",
    "    data_list=glob(data_dir+class_list[j]+'/*NCCT/*NCCT*.dcm')\n",
    "    for i in tqdm(range(len(data_list))):\n",
    "\n",
    "        folder_split=os.path.basename(data_list[i]).split('_')\n",
    "        folder_name=folder_split[0]+'_'+folder_split[1]\n",
    "        dicom_file=data_list[i]\n",
    "        if folder_name in slice_list:\n",
    "            continue\n",
    "        else:\n",
    "            slice_list.append(folder_name)\n",
    "        dcm = pydicom.dcmread(dicom_file)\n",
    "        df.loc[step, 'class'] = save_class_list[j]\n",
    "        df.loc[step, 'slice'] = folder_name\n",
    "        df.loc[step, 'thickness'] = dcm.SliceThickness\n",
    "        step+=1\n",
    "df.to_csv('../../data/CT_thickness_list.csv', index=False)\n",
    "filter_df = df[df.thickness == df.thickness.value_counts().keys()[0]]\n",
    "filter_df.to_csv('../../data/CT_3_thickness_list.csv', index=False)"
   ]
  },
  {
   "cell_type": "code",
   "execution_count": 15,
   "metadata": {},
   "outputs": [],
   "source": [
    "filter_df=pd.read_csv('../../data/CT_3_thickness_list.csv')"
   ]
  },
  {
   "cell_type": "code",
   "execution_count": 17,
   "metadata": {},
   "outputs": [
    {
     "data": {
      "text/plain": [
       "class         Ischemic\n",
       "slice        ANO1_1195\n",
       "thickness          3.0\n",
       "Name: 0, dtype: object"
      ]
     },
     "execution_count": 17,
     "metadata": {},
     "output_type": "execute_result"
    }
   ],
   "source": [
    "i=0\n",
    "filter_df.loc[0]\n"
   ]
  }
 ],
 "metadata": {
  "kernelspec": {
   "display_name": "LeeYS",
   "language": "python",
   "name": "python3"
  },
  "language_info": {
   "codemirror_mode": {
    "name": "ipython",
    "version": 3
   },
   "file_extension": ".py",
   "mimetype": "text/x-python",
   "name": "python",
   "nbconvert_exporter": "python",
   "pygments_lexer": "ipython3",
   "version": "3.10.14"
  }
 },
 "nbformat": 4,
 "nbformat_minor": 2
}
