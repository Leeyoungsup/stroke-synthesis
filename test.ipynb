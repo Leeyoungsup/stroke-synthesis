{
 "cells": [
  {
   "cell_type": "code",
   "execution_count": null,
   "metadata": {},
   "outputs": [],
   "source": [
    "import os\n",
    "import numpy as np\n",
    "import pydicom\n",
    "import nibabel as nib\n",
    "\n",
    "def load_dicom_series(dicom_folder):\n",
    "    dicom_files = sorted([\n",
    "        pydicom.dcmread(os.path.join(dicom_folder, f))\n",
    "        for f in os.listdir(dicom_folder)\n",
    "        if f.endswith(\".dcm\")\n",
    "    ], key=lambda d: int(d.InstanceNumber))\n",
    "    \n",
    "    slices = [d.pixel_array for d in dicom_files]\n",
    "    volume = np.stack(slices, axis=-1)  # shape: (H, W, D)\n",
    "    \n",
    "    # spacing (PixelSpacing[0], PixelSpacing[1], SliceThickness)\n",
    "    spacing = (\n",
    "        float(dicom_files[0].PixelSpacing[0]),\n",
    "        float(dicom_files[0].PixelSpacing[1]),\n",
    "        float(dicom_files[0].SliceThickness)\n",
    "    )\n",
    "    \n",
    "    affine = np.diag(spacing + (1.0,))  # 4x4 affine matrix\n",
    "    \n",
    "    return volume, affine\n",
    "\n",
    "dicom_folder = '../../data/stroke_2023/1.Training/1.원천데이터/0100.Ischemic Stroke'\n",
    "volume, affine = load_dicom_series(dicom_folder)\n",
    "\n",
    "nii_img = nib.Nifti1Image(volume, affine)\n",
    "nib.save(nii_img, 'output_brain.nii.gz')"
   ]
  },
  {
   "cell_type": "code",
   "execution_count": null,
   "metadata": {},
   "outputs": [],
   "source": [
    "import pydicom\n",
    "import numpy as np\n",
    "import cv2\n",
    "from matplotlib import pyplot as plt\n",
    "\n",
    "# 1. DICOM 파일 불러오기\n",
    "dcm_path = \"../../data/stroke_2023/1.Training/1.원천데이터/0100.Ischemic Stroke/0130.MR Diffusion/ANO1_0001_Ischemic Stroke_MRI_DWI_018.dcm\"\n",
    "dcm = pydicom.dcmread(dcm_path)\n",
    "\n",
    "# 픽셀 데이터 가져오기\n",
    "img = dcm.pixel_array.astype(np.float32)\n",
    "\n",
    "# 2. 정규화 (0~1 사이로)\n",
    "img_norm = (img - np.min(img)) / (np.max(img) - np.min(img) + 1e-8)\n",
    "\n",
    "# 시각화\n",
    "plt.imshow(img_norm, cmap='gray')\n",
    "plt.title(\"MRI with Intensity Normalization (0~1)\")\n",
    "plt.axis('off')\n",
    "plt.show()"
   ]
  },
  {
   "cell_type": "code",
   "execution_count": null,
   "metadata": {},
   "outputs": [],
   "source": [
    "import os\n",
    "import numpy as np\n",
    "import pydicom\n",
    "import nibabel as nib\n",
    "import matplotlib.pyplot as plt \n",
    "from sklearn.preprocessing import MinMaxScaler\n",
    "import med_ddpm.dataset as dataset\n",
    "from torchvision.transforms import Compose, ToTensor, Lambda\n",
    "import torch\n",
    "img = nib.load('../../data/stroke_mri_nii/images/ANO1_0001.nii.gz').get_fdata()\n",
    "transform = Compose([\n",
    "    Lambda(lambda t: torch.tensor(t).float()),\n",
    "    Lambda(lambda t: (t * 2) - 1),\n",
    "    Lambda(lambda t: t.unsqueeze(0)),\n",
    "    Lambda(lambda t: t.transpose(3, 1)),\n",
    "])\n",
    "\n",
    "input_transform = Compose([\n",
    "    Lambda(lambda t: torch.tensor(t).float()),\n",
    "    Lambda(lambda t: (t * 2) - 1),\n",
    "    Lambda(lambda t: t.permute(3, 0, 1, 2)),\n",
    "    Lambda(lambda t: t.transpose(3, 1)),\n",
    "])\n",
    "\n",
    "dataset = dataset.NiftiPairImageGenerator(\n",
    "        '../../data/stroke_mri_nii/masks/',\n",
    "        '../../data/stroke_mri_nii/images/',\n",
    "        input_size=128,\n",
    "        depth_size=64,\n",
    "        transform=input_transform,\n",
    "        target_transform=transform,\n",
    "        full_channel_mask=True\n",
    "    )\n"
   ]
  },
  {
   "cell_type": "code",
   "execution_count": null,
   "metadata": {},
   "outputs": [],
   "source": [
    "import pandas as pd\n",
    "from glob import glob\n",
    "pd.da"
   ]
  }
 ],
 "metadata": {
  "kernelspec": {
   "display_name": "LeeYS",
   "language": "python",
   "name": "python3"
  },
  "language_info": {
   "codemirror_mode": {
    "name": "ipython",
    "version": 3
   },
   "file_extension": ".py",
   "mimetype": "text/x-python",
   "name": "python",
   "nbconvert_exporter": "python",
   "pygments_lexer": "ipython3",
   "version": "3.10.14"
  }
 },
 "nbformat": 4,
 "nbformat_minor": 2
}
