{
 "cells": [
  {
   "cell_type": "code",
   "execution_count": null,
   "metadata": {},
   "outputs": [],
   "source": [
    "import numpy as np\n",
    "import matplotlib.pyplot as plt\n",
    "from PIL import Image\n",
    "import pydicom\n",
    "import imageio\n",
    "import os\n",
    "from glob import glob\n",
    "import nibabel as nib\n",
    "from tqdm import tqdm\n",
    "import json\n",
    "def create_dir(path):\n",
    "    if not os.path.exists(path):\n",
    "        os.makedirs(path)"
   ]
  },
  {
   "cell_type": "markdown",
   "metadata": {},
   "source": [
    "MRI"
   ]
  },
  {
   "cell_type": "code",
   "execution_count": null,
   "metadata": {},
   "outputs": [],
   "source": [
    "\n",
    "save_class_list1=['DWI']\n",
    "class_list=['0100.Ischemic Stroke','0300.Stroke Control Group']\n",
    "save_class_list=['Ischemic','Normal']\n",
    "data_dir='../../data/stroke_2023/**/1.원천데이터/'\n",
    "save_dir='../../data/stroke_mri_nii/images'"
   ]
  },
  {
   "cell_type": "code",
   "execution_count": null,
   "metadata": {},
   "outputs": [],
   "source": [
    "\n",
    "for k in range(len(class_list)):\n",
    "    for j in range(len(save_class_list1)):\n",
    "        data_list = glob(data_dir + class_list[k] + '/*MR Diffusion/*' + save_class_list1[j] + '*.dcm')\n",
    "\n",
    "        # 환자 ID 별로 그룹화\n",
    "        patient_dict = {}\n",
    "        for dicom_path in data_list:\n",
    "            file_name = os.path.basename(dicom_path)\n",
    "            folder_split = file_name.split('_')\n",
    "            patient_id = folder_split[0] + '_' + folder_split[1]\n",
    "            if patient_id not in patient_dict:\n",
    "                patient_dict[patient_id] = []\n",
    "            patient_dict[patient_id].append(dicom_path)\n",
    "\n",
    "        for patient_id, dicom_paths in tqdm(patient_dict.items(), desc=f\"{class_list[k]}_{save_class_list1[j]}\"):\n",
    "            # 저장할 폴더\n",
    "            folder_path = os.path.join(save_dir, save_class_list1[j])\n",
    "            create_dir(folder_path)\n",
    "\n",
    "            slices = []\n",
    "            for dicom_file in sorted(dicom_paths):  # slice 순서 보존\n",
    "                dcm = pydicom.dcmread(dicom_file)\n",
    "                img = dcm.pixel_array.astype(np.float32)\n",
    "\n",
    "                # RescaleSlope / Intercept 적용\n",
    "                slope = float(getattr(dcm, 'RescaleSlope', 1))\n",
    "                intercept = float(getattr(dcm, 'RescaleIntercept', 0))\n",
    "                img = img * slope + intercept\n",
    "\n",
    "                slices.append(img)\n",
    "\n",
    "            volume = np.stack(slices, axis=0)  # (Z, H, W)\n",
    "\n",
    "            # ✅ 정규화: -1 ~ 1\n",
    "            vmin = np.percentile(volume, 1)\n",
    "            vmax = np.percentile(volume, 99)\n",
    "            volume = np.clip(volume, vmin, vmax)\n",
    "            volume = (volume - vmin) / (vmax - vmin)  # → 0 ~ 1\n",
    "            volume = volume * 2 - 1                   # → -1 ~ 1\n",
    "            volume = volume.astype(np.float32)\n",
    "\n",
    "            # NIfTI 저장\n",
    "            nifti_img = nib.Nifti1Image(volume, affine=np.eye(4))\n",
    "            save_path = os.path.join(folder_path, f\"{patient_id}.nii.gz\")\n",
    "            nib.save(nifti_img, save_path)"
   ]
  },
  {
   "cell_type": "code",
   "execution_count": null,
   "metadata": {},
   "outputs": [],
   "source": []
  }
 ],
 "metadata": {
  "kernelspec": {
   "display_name": "LeeYS",
   "language": "python",
   "name": "python3"
  },
  "language_info": {
   "codemirror_mode": {
    "name": "ipython",
    "version": 3
   },
   "file_extension": ".py",
   "mimetype": "text/x-python",
   "name": "python",
   "nbconvert_exporter": "python",
   "pygments_lexer": "ipython3",
   "version": "3.10.14"
  }
 },
 "nbformat": 4,
 "nbformat_minor": 2
}
